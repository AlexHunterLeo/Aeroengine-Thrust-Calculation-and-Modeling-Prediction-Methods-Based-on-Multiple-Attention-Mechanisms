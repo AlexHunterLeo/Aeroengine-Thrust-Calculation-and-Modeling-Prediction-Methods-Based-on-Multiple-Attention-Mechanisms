{
 "cells": [
  {
   "cell_type": "code",
   "execution_count": 1,
   "metadata": {},
   "outputs": [],
   "source": [
    "import collections.abc\n",
    "import math\n",
    "from dataclasses import dataclass\n",
    "from typing import Callable, List, Optional, Set, Tuple, Union\n",
    "\n",
    "import torch\n",
    "import torch.utils.checkpoint\n",
    "from torch import nn\n",
    "from packaging import version"
   ]
  },
  {
   "cell_type": "code",
   "execution_count": 2,
   "metadata": {},
   "outputs": [],
   "source": [
    "parsed_torch_version_base = version.parse(version.parse(torch.__version__).base_version)\n",
    "is_torch_greater_or_equal_than_1_10 = parsed_torch_version_base >= version.parse(\"1.10\")\n",
    "\n",
    "def meshgrid(\n",
    "    *tensors: Union[torch.Tensor, List[torch.Tensor]], indexing: Optional[str] = None\n",
    ") -> Tuple[torch.Tensor, ...]:\n",
    "    \"\"\"\n",
    "    Wrapper around torch.meshgrid to avoid warning messages about the introduced `indexing` argument.\n",
    "    Reference: https://pytorch.org/docs/1.13/generated/torch.meshgrid.html\n",
    "    \"\"\"\n",
    "    if is_torch_greater_or_equal_than_1_10:\n",
    "        return torch.meshgrid(*tensors, indexing=indexing)\n",
    "    else:\n",
    "        if indexing != \"ij\":\n",
    "            raise ValueError('torch.meshgrid only supports `indexing=\"ij\"` for torch<1.10.')\n",
    "        return torch.meshgrid(*tensors)"
   ]
  },
  {
   "cell_type": "code",
   "execution_count": 3,
   "metadata": {},
   "outputs": [],
   "source": [
    "def window_partition(input_feature, window_size):\n",
    "    \"\"\"\n",
    "    Partitions the given input into windows.\n",
    "    \"\"\"\n",
    "    batch_size, height, width, num_channels = input_feature.shape\n",
    "    input_feature = input_feature.view(\n",
    "        batch_size, height // window_size, window_size, width // window_size, window_size, num_channels\n",
    "    )\n",
    "    windows = input_feature.permute(0, 1, 3, 2, 4, 5).contiguous().view(-1, window_size, window_size, num_channels)\n",
    "    return windows"
   ]
  },
  {
   "cell_type": "code",
   "execution_count": 4,
   "metadata": {},
   "outputs": [],
   "source": [
    "def window_reverse(windows, window_size, height, width):\n",
    "    \"\"\"\n",
    "    Merges windows to produce higher resolution features.\n",
    "    \"\"\"\n",
    "    num_channels = windows.shape[-1]\n",
    "    windows = windows.view(-1, height // window_size, width // window_size, window_size, window_size, num_channels)\n",
    "    windows = windows.permute(0, 1, 3, 2, 4, 5).contiguous().view(-1, height, width, num_channels)\n",
    "    return windows"
   ]
  },
  {
   "cell_type": "code",
   "execution_count": 5,
   "metadata": {},
   "outputs": [],
   "source": [
    "def drop_path(input, drop_prob=0.0, training=False, scale_by_keep=True):\n",
    "    \"\"\"\n",
    "    Drop paths (Stochastic Depth) per sample (when applied in main path of residual blocks).\n",
    "    Comment by Ross Wightman: This is the same as the DropConnect impl I created for EfficientNet, etc networks,\n",
    "    however, the original name is misleading as 'Drop Connect' is a different form of dropout in a separate paper...\n",
    "    See discussion: https://github.com/tensorflow/tpu/issues/494#issuecomment-532968956 ... I've opted for changing the\n",
    "    layer and argument names to 'drop path' rather than mix DropConnect as a layer name and use 'survival rate' as the\n",
    "    argument.\n",
    "    \"\"\"\n",
    "    if drop_prob == 0.0 or not training:\n",
    "        return input\n",
    "    keep_prob = 1 - drop_prob\n",
    "    shape = (input.shape[0],) + (1,) * (input.ndim - 1)  # work with diff dim tensors, not just 2D ConvNets\n",
    "    random_tensor = keep_prob + torch.rand(shape, dtype=input.dtype, device=input.device)\n",
    "    random_tensor.floor_()  # binarize\n",
    "    output = input.div(keep_prob) * random_tensor\n",
    "    return output"
   ]
  },
  {
   "cell_type": "code",
   "execution_count": 6,
   "metadata": {},
   "outputs": [],
   "source": [
    "class Swin2SRDropPath(nn.Module):\n",
    "    \"\"\"Drop paths (Stochastic Depth) per sample (when applied in main path of residual blocks).\"\"\"\n",
    "\n",
    "    def __init__(self, drop_prob: Optional[float] = None) -> None:\n",
    "        super().__init__()\n",
    "        self.drop_prob = drop_prob\n",
    "\n",
    "    def forward(self, hidden_states: torch.Tensor) -> torch.Tensor:\n",
    "        return drop_path(hidden_states, self.drop_prob, self.training)\n",
    "\n",
    "    def extra_repr(self) -> str:\n",
    "        return \"p={}\".format(self.drop_prob)"
   ]
  },
  {
   "cell_type": "code",
   "execution_count": 7,
   "metadata": {},
   "outputs": [],
   "source": [
    "class Swin2SREmbeddings(nn.Module):\n",
    "    \"\"\"\n",
    "    Construct the patch and optional position embeddings.\n",
    "    \"\"\"\n",
    "\n",
    "    def __init__(self, embed_dim, image_size, patch_size, hidden_dropout_prob, window_size, \n",
    "                 use_absolute_embeddings=True, normalize_patches=True):\n",
    "        super().__init__()\n",
    "\n",
    "        self.patch_embeddings = Swin2SRPatchEmbeddings(embed_dim, image_size, patch_size, \n",
    "                                                       normalize_patches=True)\n",
    "        num_patches = self.patch_embeddings.num_patches\n",
    "\n",
    "        if use_absolute_embeddings:\n",
    "            self.position_embeddings = nn.Parameter(torch.zeros(1, num_patches, embed_dim))\n",
    "        else:\n",
    "            self.position_embeddings = None\n",
    "\n",
    "        self.dropout = nn.Dropout(hidden_dropout_prob)\n",
    "        self.window_size = window_size\n",
    "\n",
    "    def forward(self, pixel_values: Optional[torch.FloatTensor]) -> Tuple[torch.Tensor]:\n",
    "        embeddings, output_dimensions = self.patch_embeddings(pixel_values)\n",
    "\n",
    "        if self.position_embeddings is not None:\n",
    "            embeddings = embeddings + self.position_embeddings\n",
    "\n",
    "        embeddings = self.dropout(embeddings)\n",
    "\n",
    "        return embeddings, output_dimensions"
   ]
  },
  {
   "cell_type": "code",
   "execution_count": 8,
   "metadata": {},
   "outputs": [],
   "source": [
    "class Swin2SRPatchEmbeddings(nn.Module):\n",
    "    def __init__(self, embed_dim, image_size, patch_size, normalize_patches=True):\n",
    "        super().__init__()\n",
    "        num_channels = embed_dim\n",
    "        image_size, patch_size = image_size, patch_size\n",
    "\n",
    "        image_size = image_size if isinstance(image_size, collections.abc.Iterable) else (image_size, image_size)\n",
    "        patch_size = patch_size if isinstance(patch_size, collections.abc.Iterable) else (patch_size, patch_size)\n",
    "        patches_resolution = [image_size[0] // patch_size[0], image_size[1] // patch_size[1]]\n",
    "        self.patches_resolution = patches_resolution\n",
    "        self.num_patches = patches_resolution[0] * patches_resolution[1]\n",
    "\n",
    "        self.projection = nn.Conv2d(num_channels, embed_dim, kernel_size=patch_size, stride=patch_size)\n",
    "        self.layernorm = nn.LayerNorm(embed_dim) if normalize_patches else None\n",
    "\n",
    "    def forward(self, embeddings: Optional[torch.FloatTensor]) -> Tuple[torch.Tensor, Tuple[int]]:\n",
    "        embeddings = self.projection(embeddings)\n",
    "        _, _, height, width = embeddings.shape\n",
    "        output_dimensions = (height, width)\n",
    "        embeddings = embeddings.flatten(2).transpose(1, 2)\n",
    "\n",
    "        if self.layernorm is not None:\n",
    "            embeddings = self.layernorm(embeddings)\n",
    "\n",
    "        return embeddings, output_dimensions"
   ]
  },
  {
   "cell_type": "code",
   "execution_count": 9,
   "metadata": {},
   "outputs": [],
   "source": [
    "class Swin2SRPatchEmbeddings_residual(nn.Module):\n",
    "    def __init__(self, embed_dim, image_size, patch_size, normalize_patches=True):\n",
    "        super().__init__()\n",
    "        num_channels = embed_dim\n",
    "        image_size, patch_size = image_size, patch_size\n",
    "\n",
    "        image_size = image_size if isinstance(image_size, collections.abc.Iterable) else (image_size, image_size)\n",
    "        patch_size = patch_size if isinstance(patch_size, collections.abc.Iterable) else (patch_size, patch_size)\n",
    "        patches_resolution = [image_size[0] // patch_size[0], image_size[1] // patch_size[1]]\n",
    "        self.patches_resolution = patches_resolution\n",
    "        self.num_patches = patches_resolution[0] * patches_resolution[1]\n",
    "\n",
    "        self.projection = nn.Conv2d(num_channels, embed_dim, kernel_size=patch_size, padding='same')\n",
    "        self.layernorm = nn.LayerNorm(embed_dim) if normalize_patches else None\n",
    "\n",
    "    def forward(self, embeddings: Optional[torch.FloatTensor]) -> Tuple[torch.Tensor, Tuple[int]]:\n",
    "        embeddings = self.projection(embeddings)\n",
    "        _, _, height, width = embeddings.shape\n",
    "        output_dimensions = (height, width)\n",
    "        embeddings = embeddings.flatten(2).transpose(1, 2)\n",
    "\n",
    "        if self.layernorm is not None:\n",
    "            embeddings = self.layernorm(embeddings)\n",
    "\n",
    "        return embeddings, output_dimensions"
   ]
  },
  {
   "cell_type": "code",
   "execution_count": 10,
   "metadata": {},
   "outputs": [],
   "source": [
    "class Swin2SRPatchUnEmbeddings(nn.Module):\n",
    "    r\"\"\"Image to Patch Unembedding\"\"\"\n",
    "\n",
    "    def __init__(self, embed_dim):\n",
    "        super().__init__()\n",
    "\n",
    "        self.embed_dim = embed_dim\n",
    "\n",
    "    def forward(self, embeddings, x_size):\n",
    "        batch_size, height_width, num_channels = embeddings.shape\n",
    "        embeddings = embeddings.transpose(1, 2).view(batch_size, self.embed_dim, x_size[0], x_size[1])  # B Ph*Pw C\n",
    "        return embeddings"
   ]
  },
  {
   "cell_type": "code",
   "execution_count": 11,
   "metadata": {},
   "outputs": [],
   "source": [
    "class Swin2SRPatchUnEmbeddings_output(nn.Module):\n",
    "    r\"\"\"Image to Patch Unembedding\"\"\"\n",
    "\n",
    "    def __init__(self, embed_dim, patch_size):\n",
    "        super().__init__()\n",
    "\n",
    "        self.embed_dim = embed_dim\n",
    "        self.upsampling = nn.ConvTranspose2d(embed_dim, embed_dim, kernel_size=patch_size, stride=patch_size)\n",
    "\n",
    "    def forward(self, embeddings, x_size):\n",
    "        batch_size, height_width, num_channels = embeddings.shape\n",
    "        embeddings = embeddings.transpose(1, 2).view(batch_size, self.embed_dim, x_size[0], x_size[1])  # B Ph*Pw C\n",
    "        embeddings = self.upsampling(embeddings)\n",
    "        return embeddings"
   ]
  },
  {
   "cell_type": "code",
   "execution_count": 12,
   "metadata": {},
   "outputs": [],
   "source": [
    "class Swin2SRPatchMerging(nn.Module):\n",
    "    \"\"\"\n",
    "    Patch Merging Layer.\n",
    "    Args:\n",
    "        input_resolution (`Tuple[int]`):\n",
    "            Resolution of input feature.\n",
    "        embed_dim (`int`):\n",
    "            Number of input channels.\n",
    "        norm_layer (`nn.Module`, *optional*, defaults to `nn.LayerNorm`):\n",
    "            Normalization layer class.\n",
    "    \"\"\"\n",
    "\n",
    "    def __init__(self, input_resolution: Tuple[int], embed_dim: int, norm_layer: nn.Module = nn.LayerNorm) -> None:\n",
    "        super().__init__()\n",
    "        self.input_resolution = input_resolution\n",
    "        self.dim = embed_dim\n",
    "        self.reduction = nn.Linear(4 * embed_dim, 2 * embed_dim, bias=False)\n",
    "        self.norm = norm_layer(2 * embed_dim)\n",
    "\n",
    "    def maybe_pad(self, input_feature, height, width):\n",
    "        should_pad = (height % 2 == 1) or (width % 2 == 1)\n",
    "        if should_pad:\n",
    "            pad_values = (0, 0, 0, width % 2, 0, height % 2)\n",
    "            input_feature = nn.functional.pad(input_feature, pad_values)\n",
    "\n",
    "        return input_feature\n",
    "\n",
    "    def forward(self, input_feature: torch.Tensor, input_dimensions: Tuple[int, int]) -> torch.Tensor:\n",
    "        height, width = input_dimensions\n",
    "        # `dim` is height * width\n",
    "        batch_size, dim, num_channels = input_feature.shape\n",
    "\n",
    "        input_feature = input_feature.view(batch_size, height, width, num_channels)\n",
    "        # pad input to be disible by width and height, if needed\n",
    "        input_feature = self.maybe_pad(input_feature, height, width)\n",
    "        # [batch_size, height/2, width/2, num_channels]\n",
    "        input_feature_0 = input_feature[:, 0::2, 0::2, :]\n",
    "        # [batch_size, height/2, width/2, num_channels]\n",
    "        input_feature_1 = input_feature[:, 1::2, 0::2, :]\n",
    "        # [batch_size, height/2, width/2, num_channels]\n",
    "        input_feature_2 = input_feature[:, 0::2, 1::2, :]\n",
    "        # [batch_size, height/2, width/2, num_channels]\n",
    "        input_feature_3 = input_feature[:, 1::2, 1::2, :]\n",
    "        # [batch_size, height/2 * width/2, 4*num_channels]\n",
    "        input_feature = torch.cat([input_feature_0, input_feature_1, input_feature_2, input_feature_3], -1)\n",
    "        input_feature = input_feature.view(batch_size, -1, 4 * num_channels)  # [batch_size, height/2 * width/2, 4*C]\n",
    "\n",
    "        input_feature = self.reduction(input_feature)\n",
    "        input_feature = self.norm(input_feature)\n",
    "\n",
    "        return input_feature"
   ]
  },
  {
   "cell_type": "code",
   "execution_count": 13,
   "metadata": {},
   "outputs": [],
   "source": [
    "class Swin2SRSelfAttention(nn.Module):\n",
    "    def __init__(self, embed_dim, num_heads, window_size, qkv_bias, attention_probs_dropout_prob, \n",
    "                 pretrained_window_size=[0, 0]):\n",
    "        super().__init__()\n",
    "        if embed_dim % num_heads != 0:\n",
    "            raise ValueError(\n",
    "                f\"The hidden size ({embed_dim}) is not a multiple of the number of attention heads ({num_heads})\"\n",
    "            )\n",
    "\n",
    "        self.num_attention_heads = num_heads\n",
    "        self.attention_head_size = int(embed_dim / num_heads)\n",
    "        self.all_head_size = self.num_attention_heads * self.attention_head_size\n",
    "        self.window_size = (\n",
    "            window_size if isinstance(window_size, collections.abc.Iterable) else (window_size, window_size)\n",
    "        )\n",
    "        self.pretrained_window_size = pretrained_window_size\n",
    "        self.logit_scale = nn.Parameter(torch.log(10 * torch.ones((num_heads, 1, 1))))\n",
    "        # mlp to generate continuous relative position bias\n",
    "        self.continuous_position_bias_mlp = nn.Sequential(\n",
    "            nn.Linear(2, 512, bias=True), nn.ReLU(inplace=True), nn.Linear(512, num_heads, bias=False)\n",
    "        )\n",
    "\n",
    "        # get relative_coords_table\n",
    "        relative_coords_h = torch.arange(-(self.window_size[0] - 1), self.window_size[0], dtype=torch.float32)\n",
    "        relative_coords_w = torch.arange(-(self.window_size[1] - 1), self.window_size[1], dtype=torch.float32)\n",
    "        relative_coords_table = (\n",
    "            torch.stack(meshgrid([relative_coords_h, relative_coords_w], indexing=\"ij\"))\n",
    "            .permute(1, 2, 0)\n",
    "            .contiguous()\n",
    "            .unsqueeze(0)\n",
    "        )  # [1, 2*window_height - 1, 2*window_width - 1, 2]\n",
    "        if pretrained_window_size[0] > 0:\n",
    "            relative_coords_table[:, :, :, 0] /= pretrained_window_size[0] - 1\n",
    "            relative_coords_table[:, :, :, 1] /= pretrained_window_size[1] - 1\n",
    "        else:\n",
    "            relative_coords_table[:, :, :, 0] /= self.window_size[0] - 1\n",
    "            relative_coords_table[:, :, :, 1] /= self.window_size[1] - 1\n",
    "        relative_coords_table *= 8  # normalize to -8, 8\n",
    "        relative_coords_table = (\n",
    "            torch.sign(relative_coords_table) * torch.log2(torch.abs(relative_coords_table) + 1.0) / math.log2(8)\n",
    "        )\n",
    "        self.register_buffer(\"relative_coords_table\", relative_coords_table, persistent=False)\n",
    "\n",
    "        # get pair-wise relative position index for each token inside the window\n",
    "        coords_h = torch.arange(self.window_size[0])\n",
    "        coords_w = torch.arange(self.window_size[1])\n",
    "        coords = torch.stack(meshgrid([coords_h, coords_w], indexing=\"ij\"))\n",
    "        coords_flatten = torch.flatten(coords, 1)\n",
    "        relative_coords = coords_flatten[:, :, None] - coords_flatten[:, None, :]\n",
    "        relative_coords = relative_coords.permute(1, 2, 0).contiguous()\n",
    "        relative_coords[:, :, 0] += self.window_size[0] - 1\n",
    "        relative_coords[:, :, 1] += self.window_size[1] - 1\n",
    "        relative_coords[:, :, 0] *= 2 * self.window_size[1] - 1\n",
    "        relative_position_index = relative_coords.sum(-1)\n",
    "        self.register_buffer(\"relative_position_index\", relative_position_index, persistent=False)\n",
    "\n",
    "        self.query = nn.Linear(self.all_head_size, self.all_head_size, bias=qkv_bias)\n",
    "        self.key = nn.Linear(self.all_head_size, self.all_head_size, bias=False)\n",
    "        self.value = nn.Linear(self.all_head_size, self.all_head_size, bias=qkv_bias)\n",
    "        self.dropout = nn.Dropout(attention_probs_dropout_prob)\n",
    "\n",
    "    def transpose_for_scores(self, x):\n",
    "        new_x_shape = x.size()[:-1] + (self.num_attention_heads, self.attention_head_size)\n",
    "        x = x.view(new_x_shape)\n",
    "        return x.permute(0, 2, 1, 3)\n",
    "\n",
    "    def forward(\n",
    "        self,\n",
    "        hidden_states: torch.Tensor,\n",
    "        attention_mask: Optional[torch.FloatTensor] = None,\n",
    "        head_mask: Optional[torch.FloatTensor] = None,\n",
    "        output_attentions: Optional[bool] = False,\n",
    "    ) -> Tuple[torch.Tensor]:\n",
    "        batch_size, dim, num_channels = hidden_states.shape\n",
    "        mixed_query_layer = self.query(hidden_states)\n",
    "\n",
    "        key_layer = self.transpose_for_scores(self.key(hidden_states))\n",
    "        value_layer = self.transpose_for_scores(self.value(hidden_states))\n",
    "        query_layer = self.transpose_for_scores(mixed_query_layer)\n",
    "\n",
    "        # cosine attention\n",
    "        attention_scores = nn.functional.normalize(query_layer, dim=-1) @ nn.functional.normalize(\n",
    "            key_layer, dim=-1\n",
    "        ).transpose(-2, -1)\n",
    "        logit_scale = torch.clamp(self.logit_scale, max=math.log(1.0 / 0.01)).exp()\n",
    "        attention_scores = attention_scores * logit_scale\n",
    "        relative_position_bias_table = self.continuous_position_bias_mlp(self.relative_coords_table).view(\n",
    "            -1, self.num_attention_heads\n",
    "        )\n",
    "        # [window_height*window_width,window_height*window_width,num_attention_heads]\n",
    "        relative_position_bias = relative_position_bias_table[self.relative_position_index.view(-1)].view(\n",
    "            self.window_size[0] * self.window_size[1], self.window_size[0] * self.window_size[1], -1\n",
    "        )\n",
    "        # [num_attention_heads,window_height*window_width,window_height*window_width]\n",
    "        relative_position_bias = relative_position_bias.permute(2, 0, 1).contiguous()  # nH, Wh*Ww, Wh*Ww\n",
    "        relative_position_bias = 16 * torch.sigmoid(relative_position_bias)\n",
    "        attention_scores = attention_scores + relative_position_bias.unsqueeze(0)\n",
    "\n",
    "        if attention_mask is not None:\n",
    "            # Apply the attention mask is (precomputed for all layers in Swin2SRModel forward() function)\n",
    "            mask_shape = attention_mask.shape[0]\n",
    "            attention_scores = attention_scores.view(\n",
    "                batch_size // mask_shape, mask_shape, self.num_attention_heads, dim, dim\n",
    "            ) + attention_mask.unsqueeze(1).unsqueeze(0)\n",
    "            attention_scores = attention_scores + attention_mask.unsqueeze(1).unsqueeze(0)\n",
    "            attention_scores = attention_scores.view(-1, self.num_attention_heads, dim, dim)\n",
    "\n",
    "        # Normalize the attention scores to probabilities.\n",
    "        attention_probs = nn.functional.softmax(attention_scores, dim=-1)\n",
    "\n",
    "        # This is actually dropping out entire tokens to attend to, which might\n",
    "        # seem a bit unusual, but is taken from the original Transformer paper.\n",
    "        attention_probs = self.dropout(attention_probs)\n",
    "\n",
    "        # Mask heads if we want to\n",
    "        if head_mask is not None:\n",
    "            attention_probs = attention_probs * head_mask\n",
    "\n",
    "        context_layer = torch.matmul(attention_probs, value_layer)\n",
    "        context_layer = context_layer.permute(0, 2, 1, 3).contiguous()\n",
    "        new_context_layer_shape = context_layer.size()[:-2] + (self.all_head_size,)\n",
    "        context_layer = context_layer.view(new_context_layer_shape)\n",
    "\n",
    "        outputs = (context_layer, attention_probs) if output_attentions else (context_layer,)\n",
    "\n",
    "        return outputs\n"
   ]
  },
  {
   "cell_type": "code",
   "execution_count": 14,
   "metadata": {},
   "outputs": [],
   "source": [
    "class Swin2SRSelfOutput(nn.Module):\n",
    "    def __init__(self, embed_dim, attention_probs_dropout_prob):\n",
    "        super().__init__()\n",
    "        self.dense = nn.Linear(embed_dim, embed_dim)\n",
    "        self.dropout = nn.Dropout(attention_probs_dropout_prob)\n",
    "\n",
    "    def forward(self, hidden_states: torch.Tensor, input_tensor: torch.Tensor) -> torch.Tensor:\n",
    "        hidden_states = self.dense(hidden_states)\n",
    "        hidden_states = self.dropout(hidden_states)\n",
    "\n",
    "        return hidden_states"
   ]
  },
  {
   "cell_type": "code",
   "execution_count": 15,
   "metadata": {},
   "outputs": [],
   "source": [
    "class Swin2SRAttention(nn.Module):\n",
    "    def __init__(self, embed_dim, num_heads, window_size, qkv_bias, attention_probs_dropout_prob, \n",
    "                 pretrained_window_size=0):\n",
    "        super().__init__()\n",
    "        self.self = Swin2SRSelfAttention(\n",
    "            embed_dim=embed_dim,\n",
    "            num_heads=num_heads,\n",
    "            window_size=window_size,\n",
    "            qkv_bias=qkv_bias,\n",
    "            attention_probs_dropout_prob=attention_probs_dropout_prob,\n",
    "            pretrained_window_size=pretrained_window_size\n",
    "            if isinstance(pretrained_window_size, collections.abc.Iterable)\n",
    "            else (pretrained_window_size, pretrained_window_size),\n",
    "        )\n",
    "        self.output = Swin2SRSelfOutput(embed_dim, attention_probs_dropout_prob)\n",
    "        self.pruned_heads = set()\n",
    "\n",
    "    def prune_heads(self, heads):\n",
    "        if len(heads) == 0:\n",
    "            return\n",
    "        heads, index = find_pruneable_heads_and_indices(\n",
    "            heads, self.self.num_attention_heads, self.self.attention_head_size, self.pruned_heads\n",
    "        )\n",
    "\n",
    "        # Prune linear layers\n",
    "        self.self.query = prune_linear_layer(self.self.query, index)\n",
    "        self.self.key = prune_linear_layer(self.self.key, index)\n",
    "        self.self.value = prune_linear_layer(self.self.value, index)\n",
    "        self.output.dense = prune_linear_layer(self.output.dense, index, dim=1)\n",
    "\n",
    "        # Update hyper params and store pruned heads\n",
    "        self.self.num_attention_heads = self.self.num_attention_heads - len(heads)\n",
    "        self.self.all_head_size = self.self.attention_head_size * self.self.num_attention_heads\n",
    "        self.pruned_heads = self.pruned_heads.union(heads)\n",
    "\n",
    "    def forward(\n",
    "        self,\n",
    "        hidden_states: torch.Tensor,\n",
    "        attention_mask: Optional[torch.FloatTensor] = None,\n",
    "        head_mask: Optional[torch.FloatTensor] = None,\n",
    "        output_attentions: Optional[bool] = False,\n",
    "    ) -> Tuple[torch.Tensor]:\n",
    "        self_outputs = self.self(hidden_states, attention_mask, head_mask, output_attentions)\n",
    "        attention_output = self.output(self_outputs[0], hidden_states)\n",
    "        outputs = (attention_output,) + self_outputs[1:]  # add attentions if we output them\n",
    "        return outputs\n"
   ]
  },
  {
   "cell_type": "code",
   "execution_count": 16,
   "metadata": {},
   "outputs": [],
   "source": [
    "class Swin2SRIntermediate(nn.Module):\n",
    "    def __init__(self, embed_dim, mlp_ratio, hidden_act='gelu'):\n",
    "        super().__init__()\n",
    "        self.dense = nn.Linear(embed_dim, int(mlp_ratio * embed_dim))\n",
    "        \n",
    "        if isinstance(hidden_act, str):\n",
    "            if hidden_act == 'gelu':\n",
    "                self.intermediate_act_fn = nn.GELU()\n",
    "            else:\n",
    "                raise ValueError(f\"Unsupported activation function: {hidden_act}\")\n",
    "        else:\n",
    "            self.intermediate_act_fn = hidden_act\n",
    "\n",
    "    def forward(self, hidden_states: torch.Tensor) -> torch.Tensor:\n",
    "        hidden_states = self.dense(hidden_states)\n",
    "        hidden_states = self.intermediate_act_fn(hidden_states)\n",
    "        return hidden_states"
   ]
  },
  {
   "cell_type": "code",
   "execution_count": 17,
   "metadata": {},
   "outputs": [],
   "source": [
    "class Swin2SROutput(nn.Module):\n",
    "    def __init__(self, embed_dim, mlp_ratio, hidden_dropout_prob):\n",
    "        super().__init__()\n",
    "        self.dense = nn.Linear(int(mlp_ratio * embed_dim), embed_dim)\n",
    "        self.dropout = nn.Dropout(hidden_dropout_prob)\n",
    "\n",
    "    def forward(self, hidden_states: torch.Tensor) -> torch.Tensor:\n",
    "        hidden_states = self.dense(hidden_states)\n",
    "        hidden_states = self.dropout(hidden_states)\n",
    "        return hidden_states"
   ]
  },
  {
   "cell_type": "code",
   "execution_count": 18,
   "metadata": {},
   "outputs": [],
   "source": [
    "class Swin2SRLayer(nn.Module):\n",
    "    def __init__(self, embed_dim, input_resolution, num_heads, window_size, qkv_bias, \n",
    "                 attention_probs_dropout_prob, hidden_dropout_prob,\n",
    "                 chunk_size_feed_forward, layer_norm_eps, drop_path_rate, mlp_ratio, \n",
    "                 shift_size=0, pretrained_window_size=0):\n",
    "        super().__init__()\n",
    "        self.chunk_size_feed_forward = chunk_size_feed_forward\n",
    "        self.shift_size = shift_size\n",
    "        self.window_size = window_size\n",
    "        self.input_resolution = input_resolution\n",
    "        self.set_shift_and_window_size(input_resolution)\n",
    "        self.attention = Swin2SRAttention(\n",
    "            embed_dim=embed_dim,\n",
    "            num_heads=num_heads,\n",
    "            window_size=self.window_size,\n",
    "            qkv_bias=qkv_bias,\n",
    "            attention_probs_dropout_prob=attention_probs_dropout_prob,\n",
    "            pretrained_window_size=pretrained_window_size\n",
    "            if isinstance(pretrained_window_size, collections.abc.Iterable)\n",
    "            else (pretrained_window_size, pretrained_window_size),\n",
    "        )\n",
    "        self.layernorm_before = nn.LayerNorm(embed_dim, eps=layer_norm_eps)\n",
    "        self.drop_path = Swin2SRDropPath(drop_path_rate) if drop_path_rate > 0.0 else nn.Identity()\n",
    "        self.intermediate = Swin2SRIntermediate(embed_dim, mlp_ratio)\n",
    "        self.output = Swin2SROutput(embed_dim, mlp_ratio, hidden_dropout_prob)\n",
    "        self.layernorm_after = nn.LayerNorm(embed_dim, eps=layer_norm_eps)\n",
    "\n",
    "    def set_shift_and_window_size(self, input_resolution):\n",
    "        target_window_size = (\n",
    "            self.window_size\n",
    "            if isinstance(self.window_size, collections.abc.Iterable)\n",
    "            else (self.window_size, self.window_size)\n",
    "        )\n",
    "        target_shift_size = (\n",
    "            self.shift_size\n",
    "            if isinstance(self.shift_size, collections.abc.Iterable)\n",
    "            else (self.shift_size, self.shift_size)\n",
    "        )\n",
    "        window_dim = input_resolution[0].item() if torch.is_tensor(input_resolution[0]) else input_resolution[0]\n",
    "        self.window_size = window_dim if window_dim <= target_window_size[0] else target_window_size[0]\n",
    "        self.shift_size = (\n",
    "            0\n",
    "            if input_resolution\n",
    "            <= (\n",
    "                self.window_size\n",
    "                if isinstance(self.window_size, collections.abc.Iterable)\n",
    "                else (self.window_size, self.window_size)\n",
    "            )\n",
    "            else target_shift_size[0]\n",
    "        )\n",
    "\n",
    "    def get_attn_mask(self, height, width, dtype):\n",
    "        if self.shift_size > 0:\n",
    "            # calculate attention mask for shifted window multihead self attention\n",
    "            img_mask = torch.zeros((1, height, width, 1), dtype=dtype)\n",
    "            height_slices = (\n",
    "                slice(0, -self.window_size),\n",
    "                slice(-self.window_size, -self.shift_size),\n",
    "                slice(-self.shift_size, None),\n",
    "            )\n",
    "            width_slices = (\n",
    "                slice(0, -self.window_size),\n",
    "                slice(-self.window_size, -self.shift_size),\n",
    "                slice(-self.shift_size, None),\n",
    "            )\n",
    "            count = 0\n",
    "            for height_slice in height_slices:\n",
    "                for width_slice in width_slices:\n",
    "                    img_mask[:, height_slice, width_slice, :] = count\n",
    "                    count += 1\n",
    "\n",
    "            mask_windows = window_partition(img_mask, self.window_size)\n",
    "            mask_windows = mask_windows.view(-1, self.window_size * self.window_size)\n",
    "            attn_mask = mask_windows.unsqueeze(1) - mask_windows.unsqueeze(2)\n",
    "            attn_mask = attn_mask.masked_fill(attn_mask != 0, float(-100.0)).masked_fill(attn_mask == 0, float(0.0))\n",
    "        else:\n",
    "            attn_mask = None\n",
    "        return attn_mask\n",
    "\n",
    "    def maybe_pad(self, hidden_states, height, width):\n",
    "        pad_right = (self.window_size - width % self.window_size) % self.window_size\n",
    "        pad_bottom = (self.window_size - height % self.window_size) % self.window_size\n",
    "        pad_values = (0, 0, 0, pad_right, 0, pad_bottom)\n",
    "        hidden_states = nn.functional.pad(hidden_states, pad_values)\n",
    "        return hidden_states, pad_values\n",
    "\n",
    "    def forward(\n",
    "        self,\n",
    "        hidden_states: torch.Tensor,\n",
    "        input_dimensions: Tuple[int, int],\n",
    "        head_mask: Optional[torch.FloatTensor] = None,\n",
    "        output_attentions: Optional[bool] = False,\n",
    "        always_partition: Optional[bool] = False,\n",
    "    ) -> Tuple[torch.Tensor, torch.Tensor]:\n",
    "        if not always_partition:\n",
    "            self.set_shift_and_window_size(input_dimensions)\n",
    "        else:\n",
    "            pass\n",
    "        height, width = input_dimensions\n",
    "        batch_size, _, channels = hidden_states.size()\n",
    "        shortcut = hidden_states\n",
    "\n",
    "        # pad hidden_states to multiples of window size\n",
    "        hidden_states = hidden_states.view(batch_size, height, width, channels)\n",
    "        hidden_states, pad_values = self.maybe_pad(hidden_states, height, width)\n",
    "        _, height_pad, width_pad, _ = hidden_states.shape\n",
    "        # cyclic shift\n",
    "        if self.shift_size > 0:\n",
    "            shifted_hidden_states = torch.roll(hidden_states, shifts=(-self.shift_size, -self.shift_size), dims=(1, 2))\n",
    "        else:\n",
    "            shifted_hidden_states = hidden_states\n",
    "\n",
    "        # partition windows\n",
    "        hidden_states_windows = window_partition(shifted_hidden_states, self.window_size)\n",
    "        hidden_states_windows = hidden_states_windows.view(-1, self.window_size * self.window_size, channels)\n",
    "        attn_mask = self.get_attn_mask(height_pad, width_pad, dtype=hidden_states.dtype)\n",
    "        if attn_mask is not None:\n",
    "            attn_mask = attn_mask.to(hidden_states_windows.device)\n",
    "\n",
    "        attention_outputs = self.attention(\n",
    "            hidden_states_windows, attn_mask, head_mask, output_attentions=output_attentions\n",
    "        )\n",
    "\n",
    "        attention_output = attention_outputs[0]\n",
    "\n",
    "        attention_windows = attention_output.view(-1, self.window_size, self.window_size, channels)\n",
    "        shifted_windows = window_reverse(attention_windows, self.window_size, height_pad, width_pad)\n",
    "\n",
    "        # reverse cyclic shift\n",
    "        if self.shift_size > 0:\n",
    "            attention_windows = torch.roll(shifted_windows, shifts=(self.shift_size, self.shift_size), dims=(1, 2))\n",
    "        else:\n",
    "            attention_windows = shifted_windows\n",
    "\n",
    "        was_padded = pad_values[3] > 0 or pad_values[5] > 0\n",
    "        if was_padded:\n",
    "            attention_windows = attention_windows[:, :height, :width, :].contiguous()\n",
    "\n",
    "        attention_windows = attention_windows.view(batch_size, height * width, channels)\n",
    "        hidden_states = self.layernorm_before(attention_windows)\n",
    "        hidden_states = shortcut + self.drop_path(hidden_states)\n",
    "\n",
    "        layer_output = self.intermediate(hidden_states)\n",
    "        layer_output = self.output(layer_output)\n",
    "        layer_output = hidden_states + self.drop_path(self.layernorm_after(layer_output))\n",
    "\n",
    "        layer_outputs = (layer_output, attention_outputs[1]) if output_attentions else (layer_output,)\n",
    "        return layer_outputs"
   ]
  },
  {
   "cell_type": "code",
   "execution_count": 19,
   "metadata": {},
   "outputs": [],
   "source": [
    "class Swin2SRStage(nn.Module):\n",
    "    \"\"\"\n",
    "    This corresponds to the Residual Swin Transformer Block (RSTB) in the original implementation.\n",
    "    \"\"\"\n",
    "\n",
    "    def __init__(self, embed_dim, image_size, patch_size, normalize_patches, input_resolution,\n",
    "                 num_heads, window_size, qkv_bias, \n",
    "                 attention_probs_dropout_prob, hidden_dropout_prob, chunk_size_feed_forward, \n",
    "                 layer_norm_eps, drop_path_rate, mlp_ratio, \n",
    "                 shift_size, depth, drop_path, resi_connection, pretrained_window_size=0):\n",
    "        super().__init__()\n",
    "        self.dim = embed_dim\n",
    "        self.layers = nn.ModuleList(\n",
    "            [\n",
    "                Swin2SRLayer(\n",
    "                    embed_dim=embed_dim, \n",
    "                    input_resolution=input_resolution, \n",
    "                    num_heads=num_heads, \n",
    "                    window_size=window_size, \n",
    "                    qkv_bias=qkv_bias, \n",
    "                    attention_probs_dropout_prob=attention_probs_dropout_prob, \n",
    "                    hidden_dropout_prob=hidden_dropout_prob,\n",
    "                    chunk_size_feed_forward=chunk_size_feed_forward, \n",
    "                    layer_norm_eps=layer_norm_eps, \n",
    "                    drop_path_rate=drop_path_rate, \n",
    "                    mlp_ratio=mlp_ratio, \n",
    "                    shift_size=0 if (i % 2 == 0) else window_size // 2,\n",
    "                    pretrained_window_size=pretrained_window_size,\n",
    "                )\n",
    "                for i in range(depth)\n",
    "            ]\n",
    "        )\n",
    "\n",
    "        if resi_connection == \"1conv\":\n",
    "            self.conv = nn.Conv2d(embed_dim, embed_dim, 3, 1, 1)\n",
    "        elif resi_connection == \"3conv\":\n",
    "            # to save parameters and memory\n",
    "            self.conv = nn.Sequential(\n",
    "                nn.Conv2d(embed_dim, embed_dim // 4, 3, 1, 1),\n",
    "                nn.LeakyReLU(negative_slope=0.2, inplace=True),\n",
    "                nn.Conv2d(embed_dim // 4, embed_dim // 4, 1, 1, 0),\n",
    "                nn.LeakyReLU(negative_slope=0.2, inplace=True),\n",
    "                nn.Conv2d(embed_dim // 4, embed_dim, 3, 1, 1),\n",
    "            )\n",
    "\n",
    "        self.patch_embed = Swin2SRPatchEmbeddings_residual(embed_dim, image_size, patch_size, normalize_patches=False)\n",
    "\n",
    "        self.patch_unembed = Swin2SRPatchUnEmbeddings(embed_dim)\n",
    "\n",
    "    def forward(\n",
    "        self,\n",
    "        hidden_states: torch.Tensor,\n",
    "        input_dimensions: Tuple[int, int],\n",
    "        head_mask: Optional[torch.FloatTensor] = None,\n",
    "        output_attentions: Optional[bool] = False,\n",
    "    ) -> Tuple[torch.Tensor]:\n",
    "        residual = hidden_states\n",
    "\n",
    "        height, width = input_dimensions\n",
    "        for i, layer_module in enumerate(self.layers):\n",
    "            layer_head_mask = head_mask[i] if head_mask is not None else None\n",
    "\n",
    "            layer_outputs = layer_module(hidden_states, input_dimensions, layer_head_mask, output_attentions)\n",
    "\n",
    "            hidden_states = layer_outputs[0]\n",
    "\n",
    "        output_dimensions = (height, width, height, width)\n",
    "\n",
    "        hidden_states = self.patch_unembed(hidden_states, input_dimensions)\n",
    "        hidden_states = self.conv(hidden_states)\n",
    "        hidden_states, _ = self.patch_embed(hidden_states)\n",
    "\n",
    "        hidden_states = hidden_states + residual\n",
    "        stage_outputs = (hidden_states, output_dimensions)\n",
    "\n",
    "        if output_attentions:\n",
    "            stage_outputs += layer_outputs[1:]\n",
    "        return stage_outputs\n"
   ]
  },
  {
   "cell_type": "code",
   "execution_count": 20,
   "metadata": {},
   "outputs": [],
   "source": [
    "class Swin2SREncoder(nn.Module):\n",
    "    def __init__(self, embed_dim, image_size, patch_size, normalize_patches, grid_size, num_heads, \n",
    "                 window_size, qkv_bias, \n",
    "                 attention_probs_dropout_prob, hidden_dropout_prob, chunk_size_feed_forward, \n",
    "                 layer_norm_eps, drop_path_rate, \n",
    "                 mlp_ratio, shift_size, depths, resi_connection, pretrained_window_size):\n",
    "        super().__init__()\n",
    "        self.num_stages = len(depths)\n",
    "        dpr = [x.item() for x in torch.linspace(0, drop_path_rate, sum(depths))]\n",
    "        self.stages = nn.ModuleList(\n",
    "            [\n",
    "                Swin2SRStage(\n",
    "                    embed_dim=embed_dim, \n",
    "                    image_size=image_size, \n",
    "                    patch_size=patch_size, \n",
    "                    normalize_patches=normalize_patches, \n",
    "                    input_resolution=(grid_size[0], grid_size[1]), \n",
    "                    num_heads=num_heads[stage_idx], \n",
    "                    window_size=window_size, \n",
    "                    qkv_bias=qkv_bias, \n",
    "                    attention_probs_dropout_prob=attention_probs_dropout_prob, \n",
    "                    hidden_dropout_prob=hidden_dropout_prob, \n",
    "                    chunk_size_feed_forward=chunk_size_feed_forward, \n",
    "                    layer_norm_eps=layer_norm_eps, \n",
    "                    drop_path_rate=drop_path_rate, \n",
    "                    mlp_ratio=mlp_ratio, \n",
    "                    shift_size=shift_size, \n",
    "                    depth=depths[stage_idx], \n",
    "                    drop_path=dpr[sum(depths[:stage_idx]) : sum(depths[: stage_idx + 1])], \n",
    "                    resi_connection=resi_connection, \n",
    "                    pretrained_window_size=pretrained_window_size\n",
    "                )\n",
    "                for stage_idx in range(self.num_stages)\n",
    "            ]\n",
    "        )\n",
    "\n",
    "        self.gradient_checkpointing = False\n",
    "\n",
    "    def forward(\n",
    "        self,\n",
    "        hidden_states: torch.Tensor,\n",
    "        input_dimensions: Tuple[int, int],\n",
    "        head_mask: Optional[torch.FloatTensor] = None,\n",
    "        output_attentions: Optional[bool] = False,\n",
    "        output_hidden_states: Optional[bool] = False,\n",
    "        return_dict: Optional[bool] = True,\n",
    "    ) -> Union[Tuple]:\n",
    "        all_input_dimensions = ()\n",
    "        all_hidden_states = () if output_hidden_states else None\n",
    "        all_self_attentions = () if output_attentions else None\n",
    "\n",
    "        if output_hidden_states:\n",
    "            all_hidden_states += (hidden_states,)\n",
    "\n",
    "        for i, stage_module in enumerate(self.stages):\n",
    "            layer_head_mask = head_mask[i] if head_mask is not None else None\n",
    "\n",
    "            if self.gradient_checkpointing and self.training:\n",
    "\n",
    "                def create_custom_forward(module):\n",
    "                    def custom_forward(*inputs):\n",
    "                        return module(*inputs, output_attentions)\n",
    "\n",
    "                    return custom_forward\n",
    "\n",
    "                layer_outputs = torch.utils.checkpoint.checkpoint(\n",
    "                    create_custom_forward(stage_module), hidden_states, input_dimensions, layer_head_mask\n",
    "                )\n",
    "            else:\n",
    "                layer_outputs = stage_module(hidden_states, input_dimensions, layer_head_mask, output_attentions)\n",
    "\n",
    "            hidden_states = layer_outputs[0]\n",
    "            output_dimensions = layer_outputs[1]\n",
    "\n",
    "            input_dimensions = (output_dimensions[-2], output_dimensions[-1])\n",
    "            all_input_dimensions += (input_dimensions,)\n",
    "\n",
    "            if output_hidden_states:\n",
    "                all_hidden_states += (hidden_states,)\n",
    "\n",
    "            if output_attentions:\n",
    "                all_self_attentions += layer_outputs[2:]\n",
    "\n",
    "        if not return_dict:\n",
    "            return tuple(v for v in [hidden_states, all_hidden_states, all_self_attentions] if v is not None)\n"
   ]
  },
  {
   "cell_type": "code",
   "execution_count": 21,
   "metadata": {},
   "outputs": [],
   "source": [
    "class Swin2SRModel(nn.Module):\n",
    "    def __init__(self, img_range, num_channels, embed_dim, image_size, patch_size, normalize_patches,\n",
    "                 num_heads, window_size, \n",
    "                 qkv_bias, attention_probs_dropout_prob, hidden_dropout_prob, chunk_size_feed_forward,\n",
    "                 layer_norm_eps, drop_path_rate, \n",
    "                 mlp_ratio, shift_size, depths, resi_connection, pretrained_window_size, \n",
    "                 output_attentions, output_hidden_states,\n",
    "                 use_return_dict):\n",
    "        super().__init__()\n",
    "        self.window_size = window_size\n",
    "        self.depths = depths\n",
    "        self.patch_size = patch_size\n",
    "\n",
    "        if num_channels == 3:\n",
    "            rgb_mean = (0.4488, 0.4371, 0.4040)\n",
    "            self.mean = torch.Tensor(rgb_mean).view(1, 3, 1, 1)\n",
    "        else:\n",
    "            self.mean = torch.zeros(1, 1, 1, 1)\n",
    "        self.img_range = img_range\n",
    "\n",
    "        self.first_convolution = nn.Conv2d(num_channels, embed_dim, 3, 1, 1)\n",
    "        self.embeddings = Swin2SREmbeddings(embed_dim, image_size, patch_size, hidden_dropout_prob,\n",
    "                                            window_size)\n",
    "        self.encoder = Swin2SREncoder(embed_dim=embed_dim, \n",
    "                                      image_size=image_size, \n",
    "                                      patch_size=patch_size, \n",
    "                                      normalize_patches=normalize_patches, \n",
    "                                      grid_size=self.embeddings.patch_embeddings.patches_resolution, \n",
    "                                      num_heads=num_heads, \n",
    "                                      window_size=window_size, \n",
    "                                      qkv_bias=qkv_bias, \n",
    "                                      attention_probs_dropout_prob=attention_probs_dropout_prob, \n",
    "                                      hidden_dropout_prob=hidden_dropout_prob, \n",
    "                                      chunk_size_feed_forward=chunk_size_feed_forward, \n",
    "                                      layer_norm_eps=layer_norm_eps, \n",
    "                                      drop_path_rate=drop_path_rate, \n",
    "                                      mlp_ratio=mlp_ratio, \n",
    "                                      shift_size=shift_size, \n",
    "                                      depths=depths, \n",
    "                                      resi_connection=resi_connection, \n",
    "                                      pretrained_window_size=pretrained_window_size)\n",
    "\n",
    "        self.layernorm = nn.LayerNorm(embed_dim, eps=layer_norm_eps)\n",
    "        self.patch_unembed = Swin2SRPatchUnEmbeddings_output(embed_dim, patch_size)\n",
    "        self.conv_after_body = nn.Conv2d(embed_dim, embed_dim, 3, 1, 1)\n",
    "        \n",
    "        self.output_attentions = output_attentions\n",
    "        self.output_hidden_states = output_hidden_states\n",
    "        self.use_return_dict = use_return_dict\n",
    "\n",
    "        # Initialize weights and apply final processing\n",
    "\n",
    "    def get_input_embeddings(self):\n",
    "        return self.embeddings.patch_embeddings\n",
    "\n",
    "    def _prune_heads(self, heads_to_prune):\n",
    "        \"\"\"\n",
    "        Prunes heads of the model. heads_to_prune: dict of {layer_num: list of heads to prune in this layer} See base\n",
    "        class PreTrainedModel\n",
    "        \"\"\"\n",
    "        for layer, heads in heads_to_prune.items():\n",
    "            self.encoder.layer[layer].attention.prune_heads(heads)\n",
    "\n",
    "    def pad_and_normalize(self, pixel_values):\n",
    "        _, _, height, width = pixel_values.size()\n",
    "\n",
    "        # 1. pad\n",
    "        window_size = self.window_size\n",
    "        modulo_pad_height = (window_size - height % window_size) % window_size\n",
    "        modulo_pad_width = (window_size - width % window_size) % window_size\n",
    "        pixel_values = nn.functional.pad(pixel_values, (0, modulo_pad_width, 0, modulo_pad_height), \"reflect\")\n",
    "\n",
    "        # 2. normalize\n",
    "        self.mean = self.mean.type_as(pixel_values)\n",
    "        pixel_values = (pixel_values - self.mean) * self.img_range\n",
    "\n",
    "        return pixel_values\n",
    "\n",
    "    def forward(\n",
    "        self,\n",
    "        pixel_values,\n",
    "        head_mask: Optional[torch.FloatTensor] = None,\n",
    "        output_attentions: Optional[bool] = None,\n",
    "        output_hidden_states: Optional[bool] = None,\n",
    "        return_dict: Optional[bool] = None,\n",
    "    ) -> Union[Tuple]:\n",
    "        output_attentions = output_attentions if output_attentions is not None else self.output_attentions\n",
    "        output_hidden_states = (\n",
    "            output_hidden_states if output_hidden_states is not None else self.output_hidden_states\n",
    "        )\n",
    "        return_dict = return_dict if return_dict is not None else self.use_return_dict\n",
    "\n",
    "        # Prepare head mask if needed\n",
    "        # 1.0 in head_mask indicate we keep the head\n",
    "        # attention_probs has shape bsz x n_heads x N x N\n",
    "        # input head_mask has shape [num_heads] or [num_hidden_layers x num_heads]\n",
    "        # and head_mask is converted to shape [num_hidden_layers x batch x num_heads x seq_length x seq_length]\\\n",
    "        head_mask = None\n",
    "        #head_mask = self.get_head_mask(head_mask, len(self.depths))\n",
    "\n",
    "        _, _, height, width = pixel_values.shape\n",
    "\n",
    "        # some preprocessing: padding + normalization\n",
    "        pixel_values = self.pad_and_normalize(pixel_values)\n",
    "\n",
    "        embeddings = self.first_convolution(pixel_values)\n",
    "        embedding_output, input_dimensions = self.embeddings(embeddings)\n",
    "\n",
    "        encoder_outputs = self.encoder(\n",
    "            embedding_output,\n",
    "            input_dimensions,\n",
    "            head_mask=head_mask,\n",
    "            output_attentions=output_attentions,\n",
    "            output_hidden_states=output_hidden_states,\n",
    "            return_dict=return_dict,\n",
    "        )\n",
    "\n",
    "        sequence_output = encoder_outputs[0]\n",
    "        sequence_output = self.layernorm(sequence_output)\n",
    "        sequence_output = self.patch_unembed(sequence_output, input_dimensions)\n",
    "        sequence_output = self.conv_after_body(sequence_output) + embeddings\n",
    "\n",
    "        if not return_dict:\n",
    "            output = sequence_output\n",
    "\n",
    "            return output"
   ]
  },
  {
   "cell_type": "code",
   "execution_count": 22,
   "metadata": {},
   "outputs": [],
   "source": [
    "img_range=255\n",
    "num_channels=3\n",
    "embed_dim=64\n",
    "image_size=64\n",
    "patch_size=4\n",
    "normalize_patches=False\n",
    "num_heads=[2, 2, 2, 2]\n",
    "window_size=4\n",
    "qkv_bias=True\n",
    "attention_probs_dropout_prob=0\n",
    "hidden_dropout_prob=0\n",
    "chunk_size_feed_forward=0\n",
    "layer_norm_eps=1e-6\n",
    "drop_path_rate=0.1\n",
    "mlp_ratio=4\n",
    "shift_size=0\n",
    "depths=[2, 2, 2, 2]\n",
    "resi_connection = \"3conv\"\n",
    "pretrained_window_size=4\n",
    "output_attentions=False\n",
    "output_hidden_states=False\n",
    "use_return_dict=False"
   ]
  },
  {
   "cell_type": "code",
   "execution_count": 23,
   "metadata": {},
   "outputs": [
    {
     "name": "stdout",
     "output_type": "stream",
     "text": [
      "torch.Size([5, 64, 64, 64])\n"
     ]
    },
    {
     "name": "stderr",
     "output_type": "stream",
     "text": [
      "D:\\anaconda3\\lib\\site-packages\\torch\\nn\\modules\\conv.py:453: UserWarning: Using padding='same' with even kernel lengths and odd dilation may require a zero-padded copy of the input be created (Triggered internally at  C:\\actions-runner\\_work\\pytorch\\pytorch\\builder\\windows\\pytorch\\aten\\src\\ATen\\native\\Convolution.cpp:883.)\n",
      "  return F.conv2d(input, weight, bias, self.stride,\n"
     ]
    }
   ],
   "source": [
    "model = Swin2SRModel(img_range, \n",
    "                     num_channels, \n",
    "                     embed_dim, \n",
    "                     image_size, \n",
    "                     patch_size, \n",
    "                     normalize_patches, \n",
    "                     num_heads, \n",
    "                     window_size, \n",
    "                     qkv_bias, \n",
    "                     attention_probs_dropout_prob, \n",
    "                     hidden_dropout_prob, \n",
    "                     chunk_size_feed_forward, \n",
    "                     layer_norm_eps, \n",
    "                     drop_path_rate, \n",
    "                     mlp_ratio, \n",
    "                     shift_size, \n",
    "                     depths,\n",
    "                     resi_connection,\n",
    "                     pretrained_window_size,\n",
    "                     output_attentions, \n",
    "                     output_hidden_states,\n",
    "                     use_return_dict)\n",
    "\n",
    "input_images = torch.randn(5, 3, 64, 64)\n",
    "output = model(input_images)\n",
    "print(output.shape)"
   ]
  },
  {
   "cell_type": "code",
   "execution_count": 24,
   "metadata": {},
   "outputs": [],
   "source": [
    "class Upsample(nn.Module):\n",
    "    \"\"\"Upsample module.\n",
    "    Args:\n",
    "        scale (`int`):\n",
    "            Scale factor. Supported scales: 2^n and 3.\n",
    "        num_features (`int`):\n",
    "            Channel number of intermediate features.\n",
    "    \"\"\"\n",
    "\n",
    "    def __init__(self, scale, num_features):\n",
    "        super().__init__()\n",
    "\n",
    "        self.scale = scale\n",
    "        if (scale & (scale - 1)) == 0:\n",
    "            # scale = 2^n\n",
    "            for i in range(int(math.log(scale, 2))):\n",
    "                self.add_module(f\"convolution_{i}\", nn.Conv2d(num_features, 4 * num_features, 3, 1, 1))\n",
    "                self.add_module(f\"pixelshuffle_{i}\", nn.PixelShuffle(2))\n",
    "        elif scale == 3:\n",
    "            self.convolution = nn.Conv2d(num_features, 9 * num_features, 3, 1, 1)\n",
    "            self.pixelshuffle = nn.PixelShuffle(3)\n",
    "        else:\n",
    "            raise ValueError(f\"Scale {scale} is not supported. Supported scales: 2^n and 3.\")\n",
    "\n",
    "    def forward(self, hidden_state):\n",
    "        if (self.scale & (self.scale - 1)) == 0:\n",
    "            for i in range(int(math.log(self.scale, 2))):\n",
    "                hidden_state = self.__getattr__(f\"convolution_{i}\")(hidden_state)\n",
    "                hidden_state = self.__getattr__(f\"pixelshuffle_{i}\")(hidden_state)\n",
    "\n",
    "        elif self.scale == 3:\n",
    "            hidden_state = self.convolution(hidden_state)\n",
    "            hidden_state = self.pixelshuffle(hidden_state)\n",
    "\n",
    "        return hidden_state"
   ]
  },
  {
   "cell_type": "code",
   "execution_count": 25,
   "metadata": {},
   "outputs": [],
   "source": [
    "class UpsampleOneStep(nn.Module):\n",
    "    \"\"\"UpsampleOneStep module (the difference with Upsample is that it always only has 1conv + 1pixelshuffle)\n",
    "    Used in lightweight SR to save parameters.\n",
    "    Args:\n",
    "        scale (int):\n",
    "            Scale factor. Supported scales: 2^n and 3.\n",
    "        in_channels (int):\n",
    "            Channel number of intermediate features.\n",
    "    \"\"\"\n",
    "\n",
    "    def __init__(self, scale, in_channels, out_channels):\n",
    "        super().__init__()\n",
    "\n",
    "        self.conv = nn.Conv2d(in_channels, (scale**2) * out_channels, 3, 1, 1)\n",
    "        self.pixel_shuffle = nn.PixelShuffle(scale)\n",
    "\n",
    "    def forward(self, x):\n",
    "        x = self.conv(x)\n",
    "        x = self.pixel_shuffle(x)\n",
    "\n",
    "        return x"
   ]
  },
  {
   "cell_type": "code",
   "execution_count": 26,
   "metadata": {},
   "outputs": [],
   "source": [
    "class PixelShuffleUpsampler(nn.Module):\n",
    "    def __init__(self, num_channels, embed_dim, upscale, num_features):\n",
    "        super().__init__()\n",
    "        self.conv_before_upsample = nn.Conv2d(embed_dim, num_features, 3, 1, 1)\n",
    "        self.activation = nn.LeakyReLU(inplace=True)\n",
    "        self.upsample = Upsample(upscale, num_features)\n",
    "        self.final_convolution = nn.Conv2d(num_features, num_channels, 3, 1, 1)\n",
    "\n",
    "    def forward(self, sequence_output):\n",
    "        x = self.conv_before_upsample(sequence_output)\n",
    "        x = self.activation(x)\n",
    "        x = self.upsample(x)\n",
    "        x = self.final_convolution(x)\n",
    "\n",
    "        return x"
   ]
  },
  {
   "cell_type": "code",
   "execution_count": 27,
   "metadata": {},
   "outputs": [],
   "source": [
    "class NearestConvUpsampler(nn.Module):\n",
    "    def __init__(self, num_channels, embed_dim, upscale, num_features):\n",
    "        super().__init__()\n",
    "        if upscale != 4:\n",
    "            raise ValueError(\"The nearest+conv upsampler only supports an upscale factor of 4 at the moment.\")\n",
    "\n",
    "        self.conv_before_upsample = nn.Conv2d(embed_dim, num_features, 3, 1, 1)\n",
    "        self.activation = nn.LeakyReLU(inplace=True)\n",
    "        self.conv_up1 = nn.Conv2d(num_features, num_features, 3, 1, 1)\n",
    "        self.conv_up2 = nn.Conv2d(num_features, num_features, 3, 1, 1)\n",
    "        self.conv_hr = nn.Conv2d(num_features, num_features, 3, 1, 1)\n",
    "        self.final_convolution = nn.Conv2d(num_features, num_channels, 3, 1, 1)\n",
    "        self.lrelu = nn.LeakyReLU(negative_slope=0.2, inplace=True)\n",
    "\n",
    "    def forward(self, sequence_output):\n",
    "        sequence_output = self.conv_before_upsample(sequence_output)\n",
    "        sequence_output = self.activation(sequence_output)\n",
    "        sequence_output = self.lrelu(\n",
    "            self.conv_up1(torch.nn.functional.interpolate(sequence_output, scale_factor=2, mode=\"nearest\"))\n",
    "        )\n",
    "        sequence_output = self.lrelu(\n",
    "            self.conv_up2(torch.nn.functional.interpolate(sequence_output, scale_factor=2, mode=\"nearest\"))\n",
    "        )\n",
    "        reconstruction = self.final_convolution(self.lrelu(self.conv_hr(sequence_output)))\n",
    "        return reconstruction"
   ]
  },
  {
   "cell_type": "code",
   "execution_count": 28,
   "metadata": {},
   "outputs": [],
   "source": [
    "class PixelShuffleAuxUpsampler(nn.Module):\n",
    "    def __init__(self, num_channels, embed_dim, upscale, num_features):\n",
    "        super().__init__()\n",
    "\n",
    "        self.upscale = config.upscale\n",
    "        self.conv_bicubic = nn.Conv2d(num_channels, num_features, 3, 1, 1)\n",
    "        self.conv_before_upsample = nn.Conv2d(embed_dim, num_features, 3, 1, 1)\n",
    "        self.activation = nn.LeakyReLU(inplace=True)\n",
    "        self.conv_aux = nn.Conv2d(num_features, num_channels, 3, 1, 1)\n",
    "        self.conv_after_aux = nn.Sequential(nn.Conv2d(3, num_features, 3, 1, 1), nn.LeakyReLU(inplace=True))\n",
    "        self.upsample = Upsample(upscale, num_features)\n",
    "        self.final_convolution = nn.Conv2d(num_features, num_channels, 3, 1, 1)\n",
    "\n",
    "    def forward(self, sequence_output, bicubic, height, width):\n",
    "        bicubic = self.conv_bicubic(bicubic)\n",
    "        sequence_output = self.conv_before_upsample(sequence_output)\n",
    "        sequence_output = self.activation(sequence_output)\n",
    "        aux = self.conv_aux(sequence_output)\n",
    "        sequence_output = self.conv_after_aux(aux)\n",
    "        sequence_output = (\n",
    "            self.upsample(sequence_output)[:, :, : height * self.upscale, : width * self.upscale]\n",
    "            + bicubic[:, :, : height * self.upscale, : width * self.upscale]\n",
    "        )\n",
    "        reconstruction = self.final_convolution(sequence_output)\n",
    "\n",
    "        return reconstruction, aux"
   ]
  },
  {
   "cell_type": "code",
   "execution_count": 29,
   "metadata": {},
   "outputs": [],
   "source": [
    "class Swin2SRForImageSuperResolution(nn.Module):\n",
    "    def __init__(self, upsampler, upscale, img_range, num_channels, embed_dim, image_size, patch_size, \n",
    "                 normalize_patches, num_heads, window_size, qkv_bias, attention_probs_dropout_prob, \n",
    "                 hidden_dropout_prob, chunk_size_feed_forward, layer_norm_eps, drop_path_rate, mlp_ratio, \n",
    "                 shift_size, depths, resi_connection, pretrained_window_size, output_attentions, \n",
    "                 output_hidden_states, use_return_dict):\n",
    "        super().__init__()\n",
    "\n",
    "        self.swin2sr = Swin2SRModel(img_range, num_channels, embed_dim, image_size, patch_size, \n",
    "                 normalize_patches, num_heads, window_size, qkv_bias, attention_probs_dropout_prob, \n",
    "                 hidden_dropout_prob, chunk_size_feed_forward, layer_norm_eps, drop_path_rate, \n",
    "                 mlp_ratio, shift_size, depths, resi_connection, pretrained_window_size, \n",
    "                 output_attentions, output_hidden_states, use_return_dict)\n",
    "        self.upsampler = upsampler\n",
    "        self.upscale = upscale\n",
    "        self.use_return_dict = use_return_dict\n",
    "\n",
    "        # Upsampler\n",
    "        num_features = 64\n",
    "        if self.upsampler == \"pixelshuffle\":\n",
    "            self.upsample = PixelShuffleUpsampler(num_channels, embed_dim, upscale, num_features)\n",
    "        elif self.upsampler == \"pixelshuffle_aux\":\n",
    "            self.upsample = PixelShuffleAuxUpsampler(num_channels, embed_dim, upscale, num_features)\n",
    "        elif self.upsampler == \"pixelshuffledirect\":\n",
    "            # for lightweight SR (to save parameters)\n",
    "            self.upsample = UpsampleOneStep(upscale, embed_dim, num_channels)\n",
    "        elif self.upsampler == \"nearest+conv\":\n",
    "            # for real-world SR (less artifacts)\n",
    "            self.upsample = NearestConvUpsampler(num_channels, embed_dim, upscale, num_features)\n",
    "        else:\n",
    "            # for image denoising and JPEG compression artifact reduction\n",
    "            self.final_convolution = nn.Conv2d(embed_dim, num_channels, 3, 1, 1)\n",
    "\n",
    "        # Initialize weights and apply final processing\n",
    "\n",
    "    def forward(\n",
    "        self,\n",
    "        pixel_values: Optional[torch.FloatTensor] = None,\n",
    "        head_mask: Optional[torch.FloatTensor] = None,\n",
    "        labels: Optional[torch.LongTensor] = None,\n",
    "        output_attentions: Optional[bool] = None,\n",
    "        output_hidden_states: Optional[bool] = None,\n",
    "        return_dict: Optional[bool] = None,\n",
    "    ) -> Union[Tuple]:\n",
    "        r\"\"\"\n",
    "        Returns:\n",
    "        Example:\n",
    "         ```python\n",
    "         >>> import torch\n",
    "         >>> import numpy as np\n",
    "         >>> from PIL import Image\n",
    "         >>> import requests\n",
    "         >>> from transformers import AutoImageProcessor, Swin2SRForImageSuperResolution\n",
    "         >>> processor = AutoImageProcessor.from_pretrained(\"caidas/swin2SR-classical-sr-x2-64\")\n",
    "         >>> model = Swin2SRForImageSuperResolution.from_pretrained(\"caidas/swin2SR-classical-sr-x2-64\")\n",
    "         >>> url = \"https://huggingface.co/spaces/jjourney1125/swin2sr/resolve/main/samples/butterfly.jpg\"\n",
    "         >>> image = Image.open(requests.get(url, stream=True).raw)\n",
    "         >>> # prepare image for the model\n",
    "         >>> inputs = processor(image, return_tensors=\"pt\")\n",
    "         >>> # forward pass\n",
    "         >>> with torch.no_grad():\n",
    "         ...     outputs = model(**inputs)\n",
    "         >>> output = outputs.reconstruction.data.squeeze().float().cpu().clamp_(0, 1).numpy()\n",
    "         >>> output = np.moveaxis(output, source=0, destination=-1)\n",
    "         >>> output = (output * 255.0).round().astype(np.uint8)  # float32 to uint8\n",
    "         >>> # you can visualize `output` with `Image.fromarray`\n",
    "         ```\"\"\"\n",
    "        return_dict = return_dict if return_dict is not None else self.use_return_dict\n",
    "\n",
    "        height, width = pixel_values.shape[2:]\n",
    "\n",
    "        if self.upsampler == \"pixelshuffle_aux\":\n",
    "            bicubic = nn.functional.interpolate(\n",
    "                pixel_values,\n",
    "                size=(height * self.upscale, width * self.upscale),\n",
    "                mode=\"bicubic\",\n",
    "                align_corners=False,\n",
    "            )\n",
    "\n",
    "        outputs = self.swin2sr(\n",
    "            pixel_values,\n",
    "            head_mask=head_mask,\n",
    "            output_attentions=output_attentions,\n",
    "            output_hidden_states=output_hidden_states,\n",
    "            return_dict=return_dict,\n",
    "        )\n",
    "\n",
    "        sequence_output = outputs\n",
    "\n",
    "        if self.upsampler in [\"pixelshuffle\", \"pixelshuffledirect\", \"nearest+conv\"]:\n",
    "            reconstruction = self.upsample(sequence_output)\n",
    "        elif self.upsampler == \"pixelshuffle_aux\":\n",
    "            reconstruction, aux = self.upsample(sequence_output, bicubic, height, width)\n",
    "            aux = aux / self.swin2sr.img_range + self.swin2sr.mean\n",
    "        else:\n",
    "            reconstruction = pixel_values + self.final_convolution(sequence_output)\n",
    "\n",
    "        reconstruction = reconstruction / self.swin2sr.img_range + self.swin2sr.mean\n",
    "        reconstruction = reconstruction[:, :, : height * self.upscale, : width * self.upscale]\n",
    "\n",
    "        loss = None\n",
    "        if labels is not None:\n",
    "            raise NotImplementedError(\"Training is not supported at the moment\")\n",
    "\n",
    "        if not return_dict:\n",
    "            output = reconstruction\n",
    "            return ((loss,) + output) if loss is not None else output"
   ]
  },
  {
   "cell_type": "code",
   "execution_count": 30,
   "metadata": {},
   "outputs": [],
   "source": [
    "upsampler=\"pixelshuffle\"\n",
    "upscale=8\n",
    "img_range=255\n",
    "num_channels=3\n",
    "embed_dim=64\n",
    "image_size=64\n",
    "patch_size=4\n",
    "normalize_patches=False\n",
    "num_heads=[2, 2, 2, 2]\n",
    "window_size=4\n",
    "qkv_bias=True\n",
    "attention_probs_dropout_prob=0\n",
    "hidden_dropout_prob=0\n",
    "chunk_size_feed_forward=0\n",
    "layer_norm_eps=1e-6\n",
    "drop_path_rate=0.1\n",
    "mlp_ratio=4\n",
    "shift_size=0\n",
    "depths=[2, 2, 2, 2]\n",
    "resi_connection = \"3conv\"\n",
    "pretrained_window_size=4\n",
    "output_attentions=False\n",
    "output_hidden_states=False\n",
    "use_return_dict=False"
   ]
  },
  {
   "cell_type": "code",
   "execution_count": 31,
   "metadata": {},
   "outputs": [
    {
     "name": "stdout",
     "output_type": "stream",
     "text": [
      "torch.Size([5, 3, 512, 512])\n"
     ]
    }
   ],
   "source": [
    "model2SR = Swin2SRForImageSuperResolution(upsampler,\n",
    "                                       upscale,\n",
    "                                       img_range, \n",
    "                                       num_channels, \n",
    "                                       embed_dim, \n",
    "                                       image_size, \n",
    "                                       patch_size, \n",
    "                                       normalize_patches, \n",
    "                                       num_heads, \n",
    "                                       window_size, \n",
    "                                       qkv_bias, \n",
    "                                       attention_probs_dropout_prob, \n",
    "                                       hidden_dropout_prob, \n",
    "                                       chunk_size_feed_forward, \n",
    "                                       layer_norm_eps, \n",
    "                                       drop_path_rate, \n",
    "                                       mlp_ratio, \n",
    "                                       shift_size, \n",
    "                                       depths,\n",
    "                                       resi_connection,\n",
    "                                       pretrained_window_size,\n",
    "                                       output_attentions, \n",
    "                                       output_hidden_states,\n",
    "                                       use_return_dict)\n",
    "\n",
    "input_images = torch.randn(5, 3, 64, 64)\n",
    "output = model2SR(input_images)\n",
    "print(output.shape)"
   ]
  },
  {
   "cell_type": "code",
   "execution_count": 32,
   "metadata": {},
   "outputs": [],
   "source": [
    "import os\n",
    "import glob\n",
    "import torch\n",
    "import torchvision\n",
    "import torchvision.transforms as transforms\n",
    "from PIL import Image\n",
    "from torch.utils.data import Dataset\n",
    "import torch.optim as optim\n",
    "import matplotlib.pyplot as plt\n",
    "import numpy as np\n",
    "from tqdm import tqdm "
   ]
  },
  {
   "cell_type": "code",
   "execution_count": 33,
   "metadata": {},
   "outputs": [],
   "source": [
    "class CustomDataset(Dataset):\n",
    "    def __init__(self, lr_folder, hr_folder, transform=None):\n",
    "        self.lr_images = sorted(glob.glob(os.path.join(lr_folder, '*')))\n",
    "        self.hr_images = sorted(glob.glob(os.path.join(hr_folder, '*')))\n",
    "        self.transform = transform\n",
    "\n",
    "    def __len__(self):\n",
    "        return len(self.lr_images)\n",
    "\n",
    "    def __getitem__(self, idx):\n",
    "        lr_image = Image.open(self.lr_images[idx]).convert('RGB')\n",
    "        hr_image = Image.open(self.hr_images[idx]).convert('RGB')\n",
    "\n",
    "        if self.transform:\n",
    "            lr_image = self.transform(lr_image)\n",
    "            hr_image = self.transform(hr_image)\n",
    "\n",
    "        return lr_image, hr_image"
   ]
  },
  {
   "cell_type": "code",
   "execution_count": 34,
   "metadata": {},
   "outputs": [],
   "source": [
    "input_folder = 'D:\\deep learning specialization\\Swin Transformer\\ImageSuperResolution_dataset\\DIV2K_train_LR_bicubic_X2'\n",
    "output_folder = 'D:\\deep learning specialization\\Swin Transformer\\ImageSuperResolution_dataset_resize\\DIV2K_train_LR_bicubic_X2'\n",
    "new_size = (64, 64)\n",
    "\n",
    "# Create output folder if it does not exist\n",
    "if not os.path.exists(output_folder):\n",
    "    os.makedirs(output_folder)\n",
    "    \n",
    "# Iterate through the images in the input folder\n",
    "for image_name in os.listdir(input_folder):\n",
    "    input_image_path = os.path.join(input_folder, image_name)\n",
    "    output_image_path = os.path.join(output_folder, image_name)\n",
    "    \n",
    "    # Read the image\n",
    "    img = Image.open(input_image_path)\n",
    "    \n",
    "    # Convert the image to RGB format\n",
    "    img_rgb = img.convert('RGB')\n",
    "    \n",
    "    # Resize the image\n",
    "    img_resized = img_rgb.resize(new_size, Image.BICUBIC)\n",
    "    \n",
    "    # Save the resized image\n",
    "    img_resized.save(output_image_path)\n"
   ]
  },
  {
   "cell_type": "code",
   "execution_count": 61,
   "metadata": {},
   "outputs": [],
   "source": [
    "input_folder = 'D:\\deep learning specialization\\Swin Transformer\\ImageSuperResolution_dataset\\DIV2K_train_HR'\n",
    "output_folder = 'D:\\deep learning specialization\\Swin Transformer\\ImageSuperResolution_dataset_resize\\DIV2K_train_HR'\n",
    "new_size = (512, 512)\n",
    "\n",
    "# Create output folder if it does not exist\n",
    "if not os.path.exists(output_folder):\n",
    "    os.makedirs(output_folder)\n",
    "    \n",
    "# Iterate through the images in the input folder\n",
    "for image_name in os.listdir(input_folder):\n",
    "    input_image_path = os.path.join(input_folder, image_name)\n",
    "    output_image_path = os.path.join(output_folder, image_name)\n",
    "    \n",
    "    # Read the image\n",
    "    img = Image.open(input_image_path)\n",
    "    \n",
    "    # Convert the image to RGB format\n",
    "    img_rgb = img.convert('RGB')\n",
    "    \n",
    "    # Resize the image\n",
    "    img_resized = img_rgb.resize(new_size, Image.BICUBIC)\n",
    "    \n",
    "    # Save the resized image\n",
    "    img_resized.save(output_image_path)"
   ]
  },
  {
   "cell_type": "code",
   "execution_count": 34,
   "metadata": {},
   "outputs": [],
   "source": [
    "from torch.utils.data import DataLoader\n",
    "\n",
    "# Set paths for low-resolution and high-resolution image folders\n",
    "lr_folder = 'D:\\deep learning specialization\\Swin Transformer\\ImageSuperResolution_dataset_resize\\DIV2K_train_LR_bicubic_X2'\n",
    "hr_folder = 'D:\\deep learning specialization\\Swin Transformer\\ImageSuperResolution_dataset_resize\\DIV2K_train_HR'\n",
    "\n",
    "# Create dataset and data loader\n",
    "transform = transforms.Compose([\n",
    "    transforms.ToTensor()\n",
    "])\n",
    "\n",
    "dataset = CustomDataset(lr_folder, hr_folder, transform=transform)\n",
    "data_loader = DataLoader(dataset, batch_size=16, shuffle=True)"
   ]
  },
  {
   "cell_type": "code",
   "execution_count": 35,
   "metadata": {},
   "outputs": [],
   "source": [
    "loss_function = torch.nn.MSELoss()\n",
    "optimizer = optim.Adam(model2SR.parameters(), lr=0.001)"
   ]
  },
  {
   "cell_type": "code",
   "execution_count": 36,
   "metadata": {},
   "outputs": [],
   "source": [
    "def imshow(img):\n",
    "    img = img / 2 + 0.5  # unnormalize\n",
    "    npimg = img.detach().numpy()\n",
    "    plt.imshow(np.transpose(npimg, (1, 2, 0)))\n",
    "    plt.show()"
   ]
  },
  {
   "cell_type": "code",
   "execution_count": 37,
   "metadata": {},
   "outputs": [],
   "source": [
    "dataiter = iter(data_loader)\n",
    "images, labels = next(dataiter)"
   ]
  },
  {
   "cell_type": "code",
   "execution_count": 38,
   "metadata": {},
   "outputs": [
    {
     "data": {
      "image/png": "[encoded data removed]",
      "text/plain": [
       "<Figure size 432x288 with 1 Axes>"
      ]
     },
     "metadata": {
      "needs_background": "light"
     },
     "output_type": "display_data"
    }
   ],
   "source": [
    "imshow(torchvision.utils.make_grid(images[0]))"
   ]
  },
  {
   "cell_type": "code",
   "execution_count": 39,
   "metadata": {},
   "outputs": [
    {
     "data": {
      "image/png": "[encoded data removed]",
      "text/plain": [
       "<Figure size 432x288 with 1 Axes>"
      ]
     },
     "metadata": {
      "needs_background": "light"
     },
     "output_type": "display_data"
    }
   ],
   "source": [
    "imshow(torchvision.utils.make_grid(labels[0]))"
   ]
  },
  {
   "cell_type": "code",
   "execution_count": 40,
   "metadata": {},
   "outputs": [],
   "source": [
    "num_epochs = 100\n",
    "device = torch.device('cpu')"
   ]
  },
  {
   "cell_type": "code",
   "execution_count": 41,
   "metadata": {},
   "outputs": [
    {
     "name": "stderr",
     "output_type": "stream",
     "text": [
      "100%|██████████████████████████████████████████████████████████████████████████████████| 50/50 [05:03<00:00,  6.08s/it]\n",
      "  0%|                                                                                           | 0/50 [00:00<?, ?it/s]"
     ]
    },
    {
     "name": "stdout",
     "output_type": "stream",
     "text": [
      "Epoch: 0 Loss: 0.01542816311120987\n"
     ]
    },
    {
     "name": "stderr",
     "output_type": "stream",
     "text": [
      "100%|██████████████████████████████████████████████████████████████████████████████████| 50/50 [05:03<00:00,  6.08s/it]\n",
      "  0%|                                                                                           | 0/50 [00:00<?, ?it/s]"
     ]
    },
    {
     "name": "stdout",
     "output_type": "stream",
     "text": [
      "Epoch: 1 Loss: 0.010236434638500214\n"
     ]
    },
    {
     "name": "stderr",
     "output_type": "stream",
     "text": [
      "100%|██████████████████████████████████████████████████████████████████████████████████| 50/50 [05:01<00:00,  6.02s/it]\n",
      "  0%|                                                                                           | 0/50 [00:00<?, ?it/s]"
     ]
    },
    {
     "name": "stdout",
     "output_type": "stream",
     "text": [
      "Epoch: 2 Loss: 0.011490661650896072\n"
     ]
    },
    {
     "name": "stderr",
     "output_type": "stream",
     "text": [
      "100%|██████████████████████████████████████████████████████████████████████████████████| 50/50 [05:03<00:00,  6.08s/it]\n",
      "  0%|                                                                                           | 0/50 [00:00<?, ?it/s]"
     ]
    },
    {
     "name": "stdout",
     "output_type": "stream",
     "text": [
      "Epoch: 3 Loss: 0.009932074695825577\n"
     ]
    },
    {
     "name": "stderr",
     "output_type": "stream",
     "text": [
      "100%|██████████████████████████████████████████████████████████████████████████████████| 50/50 [05:01<00:00,  6.02s/it]\n",
      "  0%|                                                                                           | 0/50 [00:00<?, ?it/s]"
     ]
    },
    {
     "name": "stdout",
     "output_type": "stream",
     "text": [
      "Epoch: 4 Loss: 0.008555200882256031\n"
     ]
    },
    {
     "name": "stderr",
     "output_type": "stream",
     "text": [
      "100%|██████████████████████████████████████████████████████████████████████████████████| 50/50 [04:42<00:00,  5.64s/it]\n",
      "  0%|                                                                                           | 0/50 [00:00<?, ?it/s]"
     ]
    },
    {
     "name": "stdout",
     "output_type": "stream",
     "text": [
      "Epoch: 5 Loss: 0.01199700403958559\n"
     ]
    },
    {
     "name": "stderr",
     "output_type": "stream",
     "text": [
      "100%|██████████████████████████████████████████████████████████████████████████████████| 50/50 [05:04<00:00,  6.08s/it]\n",
      "  0%|                                                                                           | 0/50 [00:00<?, ?it/s]"
     ]
    },
    {
     "name": "stdout",
     "output_type": "stream",
     "text": [
      "Epoch: 6 Loss: 0.007206678856164217\n"
     ]
    },
    {
     "name": "stderr",
     "output_type": "stream",
     "text": [
      "100%|██████████████████████████████████████████████████████████████████████████████████| 50/50 [05:03<00:00,  6.06s/it]\n",
      "  0%|                                                                                           | 0/50 [00:00<?, ?it/s]"
     ]
    },
    {
     "name": "stdout",
     "output_type": "stream",
     "text": [
      "Epoch: 7 Loss: 0.00814868789166212\n"
     ]
    },
    {
     "name": "stderr",
     "output_type": "stream",
     "text": [
      "100%|██████████████████████████████████████████████████████████████████████████████████| 50/50 [05:03<00:00,  6.08s/it]\n",
      "  0%|                                                                                           | 0/50 [00:00<?, ?it/s]"
     ]
    },
    {
     "name": "stdout",
     "output_type": "stream",
     "text": [
      "Epoch: 8 Loss: 0.008750656619668007\n"
     ]
    },
    {
     "name": "stderr",
     "output_type": "stream",
     "text": [
      "100%|██████████████████████████████████████████████████████████████████████████████████| 50/50 [05:03<00:00,  6.08s/it]\n",
      "  0%|                                                                                           | 0/50 [00:00<?, ?it/s]"
     ]
    },
    {
     "name": "stdout",
     "output_type": "stream",
     "text": [
      "Epoch: 9 Loss: 0.006852931808680296\n"
     ]
    },
    {
     "name": "stderr",
     "output_type": "stream",
     "text": [
      "100%|██████████████████████████████████████████████████████████████████████████████████| 50/50 [05:02<00:00,  6.06s/it]\n",
      "  0%|                                                                                           | 0/50 [00:00<?, ?it/s]"
     ]
    },
    {
     "name": "stdout",
     "output_type": "stream",
     "text": [
      "Epoch: 10 Loss: 0.007793210446834564\n"
     ]
    },
    {
     "name": "stderr",
     "output_type": "stream",
     "text": [
      "100%|██████████████████████████████████████████████████████████████████████████████████| 50/50 [05:02<00:00,  6.06s/it]\n",
      "  0%|                                                                                           | 0/50 [00:00<?, ?it/s]"
     ]
    },
    {
     "name": "stdout",
     "output_type": "stream",
     "text": [
      "Epoch: 11 Loss: 0.00707130366936326\n"
     ]
    },
    {
     "name": "stderr",
     "output_type": "stream",
     "text": [
      "100%|██████████████████████████████████████████████████████████████████████████████████| 50/50 [05:01<00:00,  6.04s/it]\n",
      "  0%|                                                                                           | 0/50 [00:00<?, ?it/s]"
     ]
    },
    {
     "name": "stdout",
     "output_type": "stream",
     "text": [
      "Epoch: 12 Loss: 0.007131557911634445\n"
     ]
    },
    {
     "name": "stderr",
     "output_type": "stream",
     "text": [
      "100%|██████████████████████████████████████████████████████████████████████████████████| 50/50 [05:00<00:00,  6.01s/it]\n",
      "  0%|                                                                                           | 0/50 [00:00<?, ?it/s]"
     ]
    },
    {
     "name": "stdout",
     "output_type": "stream",
     "text": [
      "Epoch: 13 Loss: 0.008291530422866344\n"
     ]
    },
    {
     "name": "stderr",
     "output_type": "stream",
     "text": [
      "100%|██████████████████████████████████████████████████████████████████████████████████| 50/50 [05:03<00:00,  6.07s/it]\n",
      "  0%|                                                                                           | 0/50 [00:00<?, ?it/s]"
     ]
    },
    {
     "name": "stdout",
     "output_type": "stream",
     "text": [
      "Epoch: 14 Loss: 0.007633332163095474\n"
     ]
    },
    {
     "name": "stderr",
     "output_type": "stream",
     "text": [
      "100%|██████████████████████████████████████████████████████████████████████████████████| 50/50 [05:03<00:00,  6.07s/it]\n",
      "  0%|                                                                                           | 0/50 [00:00<?, ?it/s]"
     ]
    },
    {
     "name": "stdout",
     "output_type": "stream",
     "text": [
      "Epoch: 15 Loss: 0.008911789394915104\n"
     ]
    },
    {
     "name": "stderr",
     "output_type": "stream",
     "text": [
      "100%|██████████████████████████████████████████████████████████████████████████████████| 50/50 [05:04<00:00,  6.08s/it]\n",
      "  0%|                                                                                           | 0/50 [00:00<?, ?it/s]"
     ]
    },
    {
     "name": "stdout",
     "output_type": "stream",
     "text": [
      "Epoch: 16 Loss: 0.010302784852683544\n"
     ]
    },
    {
     "name": "stderr",
     "output_type": "stream",
     "text": [
      "100%|██████████████████████████████████████████████████████████████████████████████████| 50/50 [05:04<00:00,  6.09s/it]\n",
      "  0%|                                                                                           | 0/50 [00:00<?, ?it/s]"
     ]
    },
    {
     "name": "stdout",
     "output_type": "stream",
     "text": [
      "Epoch: 17 Loss: 0.006496664602309465\n"
     ]
    },
    {
     "name": "stderr",
     "output_type": "stream",
     "text": [
      "100%|██████████████████████████████████████████████████████████████████████████████████| 50/50 [05:03<00:00,  6.07s/it]\n",
      "  0%|                                                                                           | 0/50 [00:00<?, ?it/s]"
     ]
    },
    {
     "name": "stdout",
     "output_type": "stream",
     "text": [
      "Epoch: 18 Loss: 0.007181400433182716\n"
     ]
    },
    {
     "name": "stderr",
     "output_type": "stream",
     "text": [
      "100%|██████████████████████████████████████████████████████████████████████████████████| 50/50 [05:04<00:00,  6.08s/it]\n",
      "  0%|                                                                                           | 0/50 [00:00<?, ?it/s]"
     ]
    },
    {
     "name": "stdout",
     "output_type": "stream",
     "text": [
      "Epoch: 19 Loss: 0.007192015182226896\n"
     ]
    },
    {
     "name": "stderr",
     "output_type": "stream",
     "text": [
      "100%|██████████████████████████████████████████████████████████████████████████████████| 50/50 [05:03<00:00,  6.07s/it]\n",
      "  0%|                                                                                           | 0/50 [00:00<?, ?it/s]"
     ]
    },
    {
     "name": "stdout",
     "output_type": "stream",
     "text": [
      "Epoch: 20 Loss: 0.006835192441940308\n"
     ]
    },
    {
     "name": "stderr",
     "output_type": "stream",
     "text": [
      "100%|██████████████████████████████████████████████████████████████████████████████████| 50/50 [05:04<00:00,  6.08s/it]\n",
      "  0%|                                                                                           | 0/50 [00:00<?, ?it/s]"
     ]
    },
    {
     "name": "stdout",
     "output_type": "stream",
     "text": [
      "Epoch: 21 Loss: 0.008726054802536964\n"
     ]
    },
    {
     "name": "stderr",
     "output_type": "stream",
     "text": [
      "100%|██████████████████████████████████████████████████████████████████████████████████| 50/50 [05:05<00:00,  6.11s/it]\n",
      "  0%|                                                                                           | 0/50 [00:00<?, ?it/s]"
     ]
    },
    {
     "name": "stdout",
     "output_type": "stream",
     "text": [
      "Epoch: 22 Loss: 0.008691643364727497\n"
     ]
    },
    {
     "name": "stderr",
     "output_type": "stream",
     "text": [
      "100%|██████████████████████████████████████████████████████████████████████████████████| 50/50 [05:04<00:00,  6.09s/it]\n",
      "  0%|                                                                                           | 0/50 [00:00<?, ?it/s]"
     ]
    },
    {
     "name": "stdout",
     "output_type": "stream",
     "text": [
      "Epoch: 23 Loss: 0.008518359623849392\n"
     ]
    },
    {
     "name": "stderr",
     "output_type": "stream",
     "text": [
      "100%|██████████████████████████████████████████████████████████████████████████████████| 50/50 [05:03<00:00,  6.08s/it]\n",
      "  0%|                                                                                           | 0/50 [00:00<?, ?it/s]"
     ]
    },
    {
     "name": "stdout",
     "output_type": "stream",
     "text": [
      "Epoch: 24 Loss: 0.009031941182911396\n"
     ]
    },
    {
     "name": "stderr",
     "output_type": "stream",
     "text": [
      "100%|██████████████████████████████████████████████████████████████████████████████████| 50/50 [05:03<00:00,  6.08s/it]\n",
      "  0%|                                                                                           | 0/50 [00:00<?, ?it/s]"
     ]
    },
    {
     "name": "stdout",
     "output_type": "stream",
     "text": [
      "Epoch: 25 Loss: 0.008494182489812374\n"
     ]
    },
    {
     "name": "stderr",
     "output_type": "stream",
     "text": [
      "100%|██████████████████████████████████████████████████████████████████████████████████| 50/50 [05:04<00:00,  6.08s/it]\n",
      "  0%|                                                                                           | 0/50 [00:00<?, ?it/s]"
     ]
    },
    {
     "name": "stdout",
     "output_type": "stream",
     "text": [
      "Epoch: 26 Loss: 0.0092148557305336\n"
     ]
    },
    {
     "name": "stderr",
     "output_type": "stream",
     "text": [
      "100%|██████████████████████████████████████████████████████████████████████████████████| 50/50 [05:02<00:00,  6.05s/it]\n",
      "  0%|                                                                                           | 0/50 [00:00<?, ?it/s]"
     ]
    },
    {
     "name": "stdout",
     "output_type": "stream",
     "text": [
      "Epoch: 27 Loss: 0.0070550753735005856\n"
     ]
    },
    {
     "name": "stderr",
     "output_type": "stream",
     "text": [
      "100%|██████████████████████████████████████████████████████████████████████████████████| 50/50 [05:00<00:00,  6.02s/it]\n",
      "  0%|                                                                                           | 0/50 [00:00<?, ?it/s]"
     ]
    },
    {
     "name": "stdout",
     "output_type": "stream",
     "text": [
      "Epoch: 28 Loss: 0.0062231142073869705\n"
     ]
    },
    {
     "name": "stderr",
     "output_type": "stream",
     "text": [
      "100%|██████████████████████████████████████████████████████████████████████████████████| 50/50 [05:01<00:00,  6.04s/it]\n",
      "  0%|                                                                                           | 0/50 [00:00<?, ?it/s]"
     ]
    },
    {
     "name": "stdout",
     "output_type": "stream",
     "text": [
      "Epoch: 29 Loss: 0.009880396537482738\n"
     ]
    },
    {
     "name": "stderr",
     "output_type": "stream",
     "text": [
      "100%|██████████████████████████████████████████████████████████████████████████████████| 50/50 [05:01<00:00,  6.03s/it]\n",
      "  0%|                                                                                           | 0/50 [00:00<?, ?it/s]"
     ]
    },
    {
     "name": "stdout",
     "output_type": "stream",
     "text": [
      "Epoch: 30 Loss: 0.008808719925582409\n"
     ]
    },
    {
     "name": "stderr",
     "output_type": "stream",
     "text": [
      "100%|██████████████████████████████████████████████████████████████████████████████████| 50/50 [05:01<00:00,  6.02s/it]\n",
      "  0%|                                                                                           | 0/50 [00:00<?, ?it/s]"
     ]
    },
    {
     "name": "stdout",
     "output_type": "stream",
     "text": [
      "Epoch: 31 Loss: 0.0077935573644936085\n"
     ]
    },
    {
     "name": "stderr",
     "output_type": "stream",
     "text": [
      "100%|██████████████████████████████████████████████████████████████████████████████████| 50/50 [05:01<00:00,  6.04s/it]\n",
      "  0%|                                                                                           | 0/50 [00:00<?, ?it/s]"
     ]
    },
    {
     "name": "stdout",
     "output_type": "stream",
     "text": [
      "Epoch: 32 Loss: 0.005556976422667503\n"
     ]
    },
    {
     "name": "stderr",
     "output_type": "stream",
     "text": [
      "100%|██████████████████████████████████████████████████████████████████████████████████| 50/50 [05:02<00:00,  6.05s/it]\n",
      "  0%|                                                                                           | 0/50 [00:00<?, ?it/s]"
     ]
    },
    {
     "name": "stdout",
     "output_type": "stream",
     "text": [
      "Epoch: 33 Loss: 0.008367124944925308\n"
     ]
    },
    {
     "name": "stderr",
     "output_type": "stream",
     "text": [
      "100%|██████████████████████████████████████████████████████████████████████████████████| 50/50 [05:01<00:00,  6.02s/it]\n",
      "  0%|                                                                                           | 0/50 [00:00<?, ?it/s]"
     ]
    },
    {
     "name": "stdout",
     "output_type": "stream",
     "text": [
      "Epoch: 34 Loss: 0.009852827526628971\n"
     ]
    },
    {
     "name": "stderr",
     "output_type": "stream",
     "text": [
      "100%|██████████████████████████████████████████████████████████████████████████████████| 50/50 [05:00<00:00,  6.01s/it]\n",
      "  0%|                                                                                           | 0/50 [00:00<?, ?it/s]"
     ]
    },
    {
     "name": "stdout",
     "output_type": "stream",
     "text": [
      "Epoch: 35 Loss: 0.008234750479459763\n"
     ]
    },
    {
     "name": "stderr",
     "output_type": "stream",
     "text": [
      "100%|██████████████████████████████████████████████████████████████████████████████████| 50/50 [05:01<00:00,  6.03s/it]\n",
      "  0%|                                                                                           | 0/50 [00:00<?, ?it/s]"
     ]
    },
    {
     "name": "stdout",
     "output_type": "stream",
     "text": [
      "Epoch: 36 Loss: 0.009907864965498447\n"
     ]
    },
    {
     "name": "stderr",
     "output_type": "stream",
     "text": [
      "100%|██████████████████████████████████████████████████████████████████████████████████| 50/50 [05:01<00:00,  6.03s/it]\n",
      "  0%|                                                                                           | 0/50 [00:00<?, ?it/s]"
     ]
    },
    {
     "name": "stdout",
     "output_type": "stream",
     "text": [
      "Epoch: 37 Loss: 0.008054363541305065\n"
     ]
    },
    {
     "name": "stderr",
     "output_type": "stream",
     "text": [
      "100%|██████████████████████████████████████████████████████████████████████████████████| 50/50 [05:02<00:00,  6.04s/it]\n",
      "  0%|                                                                                           | 0/50 [00:00<?, ?it/s]"
     ]
    },
    {
     "name": "stdout",
     "output_type": "stream",
     "text": [
      "Epoch: 38 Loss: 0.008597910404205322\n"
     ]
    },
    {
     "name": "stderr",
     "output_type": "stream",
     "text": [
      "100%|██████████████████████████████████████████████████████████████████████████████████| 50/50 [05:01<00:00,  6.03s/it]\n",
      "  0%|                                                                                           | 0/50 [00:00<?, ?it/s]"
     ]
    },
    {
     "name": "stdout",
     "output_type": "stream",
     "text": [
      "Epoch: 39 Loss: 0.006816673558205366\n"
     ]
    },
    {
     "name": "stderr",
     "output_type": "stream",
     "text": [
      "100%|██████████████████████████████████████████████████████████████████████████████████| 50/50 [05:00<00:00,  6.02s/it]\n",
      "  0%|                                                                                           | 0/50 [00:00<?, ?it/s]"
     ]
    },
    {
     "name": "stdout",
     "output_type": "stream",
     "text": [
      "Epoch: 40 Loss: 0.007243370171636343\n"
     ]
    },
    {
     "name": "stderr",
     "output_type": "stream",
     "text": [
      "100%|██████████████████████████████████████████████████████████████████████████████████| 50/50 [05:00<00:00,  6.01s/it]\n",
      "  0%|                                                                                           | 0/50 [00:00<?, ?it/s]"
     ]
    },
    {
     "name": "stdout",
     "output_type": "stream",
     "text": [
      "Epoch: 41 Loss: 0.006363061722368002\n"
     ]
    },
    {
     "name": "stderr",
     "output_type": "stream",
     "text": [
      "100%|██████████████████████████████████████████████████████████████████████████████████| 50/50 [05:01<00:00,  6.04s/it]\n",
      "  0%|                                                                                           | 0/50 [00:00<?, ?it/s]"
     ]
    },
    {
     "name": "stdout",
     "output_type": "stream",
     "text": [
      "Epoch: 42 Loss: 0.006205575540661812\n"
     ]
    },
    {
     "name": "stderr",
     "output_type": "stream",
     "text": [
      "100%|██████████████████████████████████████████████████████████████████████████████████| 50/50 [05:02<00:00,  6.05s/it]\n",
      "  0%|                                                                                           | 0/50 [00:00<?, ?it/s]"
     ]
    },
    {
     "name": "stdout",
     "output_type": "stream",
     "text": [
      "Epoch: 43 Loss: 0.008122998289763927\n"
     ]
    },
    {
     "name": "stderr",
     "output_type": "stream",
     "text": [
      "100%|██████████████████████████████████████████████████████████████████████████████████| 50/50 [05:02<00:00,  6.05s/it]\n",
      "  0%|                                                                                           | 0/50 [00:00<?, ?it/s]"
     ]
    },
    {
     "name": "stdout",
     "output_type": "stream",
     "text": [
      "Epoch: 44 Loss: 0.00736611383035779\n"
     ]
    },
    {
     "name": "stderr",
     "output_type": "stream",
     "text": [
      "100%|██████████████████████████████████████████████████████████████████████████████████| 50/50 [05:01<00:00,  6.04s/it]\n",
      "  0%|                                                                                           | 0/50 [00:00<?, ?it/s]"
     ]
    },
    {
     "name": "stdout",
     "output_type": "stream",
     "text": [
      "Epoch: 45 Loss: 0.007190802600234747\n"
     ]
    },
    {
     "name": "stderr",
     "output_type": "stream",
     "text": [
      "100%|██████████████████████████████████████████████████████████████████████████████████| 50/50 [05:01<00:00,  6.04s/it]\n",
      "  0%|                                                                                           | 0/50 [00:00<?, ?it/s]"
     ]
    },
    {
     "name": "stdout",
     "output_type": "stream",
     "text": [
      "Epoch: 46 Loss: 0.006345286965370178\n"
     ]
    },
    {
     "name": "stderr",
     "output_type": "stream",
     "text": [
      "100%|██████████████████████████████████████████████████████████████████████████████████| 50/50 [05:00<00:00,  6.01s/it]\n",
      "  0%|                                                                                           | 0/50 [00:00<?, ?it/s]"
     ]
    },
    {
     "name": "stdout",
     "output_type": "stream",
     "text": [
      "Epoch: 47 Loss: 0.0070829931646585464\n"
     ]
    },
    {
     "name": "stderr",
     "output_type": "stream",
     "text": [
      "100%|██████████████████████████████████████████████████████████████████████████████████| 50/50 [05:01<00:00,  6.03s/it]\n",
      "  0%|                                                                                           | 0/50 [00:00<?, ?it/s]"
     ]
    },
    {
     "name": "stdout",
     "output_type": "stream",
     "text": [
      "Epoch: 48 Loss: 0.006218449678272009\n"
     ]
    },
    {
     "name": "stderr",
     "output_type": "stream",
     "text": [
      "100%|██████████████████████████████████████████████████████████████████████████████████| 50/50 [05:00<00:00,  6.02s/it]\n",
      "  0%|                                                                                           | 0/50 [00:00<?, ?it/s]"
     ]
    },
    {
     "name": "stdout",
     "output_type": "stream",
     "text": [
      "Epoch: 49 Loss: 0.006227908190339804\n"
     ]
    },
    {
     "name": "stderr",
     "output_type": "stream",
     "text": [
      "100%|██████████████████████████████████████████████████████████████████████████████████| 50/50 [05:00<00:00,  6.02s/it]\n",
      "  0%|                                                                                           | 0/50 [00:00<?, ?it/s]"
     ]
    },
    {
     "name": "stdout",
     "output_type": "stream",
     "text": [
      "Epoch: 50 Loss: 0.00717785581946373\n"
     ]
    },
    {
     "name": "stderr",
     "output_type": "stream",
     "text": [
      "100%|██████████████████████████████████████████████████████████████████████████████████| 50/50 [05:01<00:00,  6.03s/it]\n",
      "  0%|                                                                                           | 0/50 [00:00<?, ?it/s]"
     ]
    },
    {
     "name": "stdout",
     "output_type": "stream",
     "text": [
      "Epoch: 51 Loss: 0.0067320577800273895\n"
     ]
    },
    {
     "name": "stderr",
     "output_type": "stream",
     "text": [
      "100%|██████████████████████████████████████████████████████████████████████████████████| 50/50 [05:00<00:00,  6.01s/it]\n",
      "  0%|                                                                                           | 0/50 [00:00<?, ?it/s]"
     ]
    },
    {
     "name": "stdout",
     "output_type": "stream",
     "text": [
      "Epoch: 52 Loss: 0.007655626628547907\n"
     ]
    },
    {
     "name": "stderr",
     "output_type": "stream",
     "text": [
      "100%|██████████████████████████████████████████████████████████████████████████████████| 50/50 [05:01<00:00,  6.03s/it]\n",
      "  0%|                                                                                           | 0/50 [00:00<?, ?it/s]"
     ]
    },
    {
     "name": "stdout",
     "output_type": "stream",
     "text": [
      "Epoch: 53 Loss: 0.007767919916659594\n"
     ]
    },
    {
     "name": "stderr",
     "output_type": "stream",
     "text": [
      "100%|██████████████████████████████████████████████████████████████████████████████████| 50/50 [05:00<00:00,  6.00s/it]\n",
      "  0%|                                                                                           | 0/50 [00:00<?, ?it/s]"
     ]
    },
    {
     "name": "stdout",
     "output_type": "stream",
     "text": [
      "Epoch: 54 Loss: 0.008329295553267002\n"
     ]
    },
    {
     "name": "stderr",
     "output_type": "stream",
     "text": [
      "100%|██████████████████████████████████████████████████████████████████████████████████| 50/50 [04:59<00:00,  6.00s/it]\n",
      "  0%|                                                                                           | 0/50 [00:00<?, ?it/s]"
     ]
    },
    {
     "name": "stdout",
     "output_type": "stream",
     "text": [
      "Epoch: 55 Loss: 0.010440106503665447\n"
     ]
    },
    {
     "name": "stderr",
     "output_type": "stream",
     "text": [
      "100%|██████████████████████████████████████████████████████████████████████████████████| 50/50 [05:01<00:00,  6.03s/it]\n",
      "  0%|                                                                                           | 0/50 [00:00<?, ?it/s]"
     ]
    },
    {
     "name": "stdout",
     "output_type": "stream",
     "text": [
      "Epoch: 56 Loss: 0.007146993651986122\n"
     ]
    },
    {
     "name": "stderr",
     "output_type": "stream",
     "text": [
      "100%|██████████████████████████████████████████████████████████████████████████████████| 50/50 [05:00<00:00,  6.01s/it]\n",
      "  0%|                                                                                           | 0/50 [00:00<?, ?it/s]"
     ]
    },
    {
     "name": "stdout",
     "output_type": "stream",
     "text": [
      "Epoch: 57 Loss: 0.008382637053728104\n"
     ]
    },
    {
     "name": "stderr",
     "output_type": "stream",
     "text": [
      "100%|██████████████████████████████████████████████████████████████████████████████████| 50/50 [05:00<00:00,  6.02s/it]\n",
      "  0%|                                                                                           | 0/50 [00:00<?, ?it/s]"
     ]
    },
    {
     "name": "stdout",
     "output_type": "stream",
     "text": [
      "Epoch: 58 Loss: 0.008210734464228153\n"
     ]
    },
    {
     "name": "stderr",
     "output_type": "stream",
     "text": [
      "100%|██████████████████████████████████████████████████████████████████████████████████| 50/50 [05:01<00:00,  6.03s/it]\n",
      "  0%|                                                                                           | 0/50 [00:00<?, ?it/s]"
     ]
    },
    {
     "name": "stdout",
     "output_type": "stream",
     "text": [
      "Epoch: 59 Loss: 0.008531874045729637\n"
     ]
    },
    {
     "name": "stderr",
     "output_type": "stream",
     "text": [
      "100%|██████████████████████████████████████████████████████████████████████████████████| 50/50 [05:02<00:00,  6.04s/it]\n",
      "  0%|                                                                                           | 0/50 [00:00<?, ?it/s]"
     ]
    },
    {
     "name": "stdout",
     "output_type": "stream",
     "text": [
      "Epoch: 60 Loss: 0.008574694395065308\n"
     ]
    },
    {
     "name": "stderr",
     "output_type": "stream",
     "text": [
      "100%|██████████████████████████████████████████████████████████████████████████████████| 50/50 [05:01<00:00,  6.03s/it]\n",
      "  0%|                                                                                           | 0/50 [00:00<?, ?it/s]"
     ]
    },
    {
     "name": "stdout",
     "output_type": "stream",
     "text": [
      "Epoch: 61 Loss: 0.006903280969709158\n"
     ]
    },
    {
     "name": "stderr",
     "output_type": "stream",
     "text": [
      "100%|██████████████████████████████████████████████████████████████████████████████████| 50/50 [05:02<00:00,  6.04s/it]\n",
      "  0%|                                                                                           | 0/50 [00:00<?, ?it/s]"
     ]
    },
    {
     "name": "stdout",
     "output_type": "stream",
     "text": [
      "Epoch: 62 Loss: 0.009602365083992481\n"
     ]
    },
    {
     "name": "stderr",
     "output_type": "stream",
     "text": [
      "100%|██████████████████████████████████████████████████████████████████████████████████| 50/50 [05:01<00:00,  6.04s/it]\n",
      "  0%|                                                                                           | 0/50 [00:00<?, ?it/s]"
     ]
    },
    {
     "name": "stdout",
     "output_type": "stream",
     "text": [
      "Epoch: 63 Loss: 0.00679793069139123\n"
     ]
    },
    {
     "name": "stderr",
     "output_type": "stream",
     "text": [
      "100%|██████████████████████████████████████████████████████████████████████████████████| 50/50 [05:02<00:00,  6.04s/it]\n",
      "  0%|                                                                                           | 0/50 [00:00<?, ?it/s]"
     ]
    },
    {
     "name": "stdout",
     "output_type": "stream",
     "text": [
      "Epoch: 64 Loss: 0.008703738451004028\n"
     ]
    },
    {
     "name": "stderr",
     "output_type": "stream",
     "text": [
      "100%|██████████████████████████████████████████████████████████████████████████████████| 50/50 [04:58<00:00,  5.96s/it]\n",
      "  0%|                                                                                           | 0/50 [00:00<?, ?it/s]"
     ]
    },
    {
     "name": "stdout",
     "output_type": "stream",
     "text": [
      "Epoch: 65 Loss: 0.0075510963797569275\n"
     ]
    },
    {
     "name": "stderr",
     "output_type": "stream",
     "text": [
      "100%|██████████████████████████████████████████████████████████████████████████████████| 50/50 [04:59<00:00,  5.98s/it]\n",
      "  0%|                                                                                           | 0/50 [00:00<?, ?it/s]"
     ]
    },
    {
     "name": "stdout",
     "output_type": "stream",
     "text": [
      "Epoch: 66 Loss: 0.006351417396217585\n"
     ]
    },
    {
     "name": "stderr",
     "output_type": "stream",
     "text": [
      "100%|██████████████████████████████████████████████████████████████████████████████████| 50/50 [05:02<00:00,  6.05s/it]\n",
      "  0%|                                                                                           | 0/50 [00:00<?, ?it/s]"
     ]
    },
    {
     "name": "stdout",
     "output_type": "stream",
     "text": [
      "Epoch: 67 Loss: 0.007423963397741318\n"
     ]
    },
    {
     "name": "stderr",
     "output_type": "stream",
     "text": [
      "100%|██████████████████████████████████████████████████████████████████████████████████| 50/50 [05:00<00:00,  6.01s/it]\n",
      "  0%|                                                                                           | 0/50 [00:00<?, ?it/s]"
     ]
    },
    {
     "name": "stdout",
     "output_type": "stream",
     "text": [
      "Epoch: 68 Loss: 0.0065194484777748585\n"
     ]
    },
    {
     "name": "stderr",
     "output_type": "stream",
     "text": [
      "100%|██████████████████████████████████████████████████████████████████████████████████| 50/50 [05:01<00:00,  6.03s/it]\n",
      "  0%|                                                                                           | 0/50 [00:00<?, ?it/s]"
     ]
    },
    {
     "name": "stdout",
     "output_type": "stream",
     "text": [
      "Epoch: 69 Loss: 0.012178030796349049\n"
     ]
    },
    {
     "name": "stderr",
     "output_type": "stream",
     "text": [
      "100%|██████████████████████████████████████████████████████████████████████████████████| 50/50 [05:05<00:00,  6.11s/it]\n",
      "  0%|                                                                                           | 0/50 [00:00<?, ?it/s]"
     ]
    },
    {
     "name": "stdout",
     "output_type": "stream",
     "text": [
      "Epoch: 70 Loss: 0.00766449561342597\n"
     ]
    },
    {
     "name": "stderr",
     "output_type": "stream",
     "text": [
      "100%|██████████████████████████████████████████████████████████████████████████████████| 50/50 [05:05<00:00,  6.11s/it]\n",
      "  0%|                                                                                           | 0/50 [00:00<?, ?it/s]"
     ]
    },
    {
     "name": "stdout",
     "output_type": "stream",
     "text": [
      "Epoch: 71 Loss: 0.009098801761865616\n"
     ]
    },
    {
     "name": "stderr",
     "output_type": "stream",
     "text": [
      "100%|██████████████████████████████████████████████████████████████████████████████████| 50/50 [05:01<00:00,  6.03s/it]\n",
      "  0%|                                                                                           | 0/50 [00:00<?, ?it/s]"
     ]
    },
    {
     "name": "stdout",
     "output_type": "stream",
     "text": [
      "Epoch: 72 Loss: 0.007340306881815195\n"
     ]
    },
    {
     "name": "stderr",
     "output_type": "stream",
     "text": [
      "100%|██████████████████████████████████████████████████████████████████████████████████| 50/50 [05:03<00:00,  6.08s/it]\n",
      "  0%|                                                                                           | 0/50 [00:00<?, ?it/s]"
     ]
    },
    {
     "name": "stdout",
     "output_type": "stream",
     "text": [
      "Epoch: 73 Loss: 0.008715086616575718\n"
     ]
    },
    {
     "name": "stderr",
     "output_type": "stream",
     "text": [
      "100%|██████████████████████████████████████████████████████████████████████████████████| 50/50 [05:03<00:00,  6.07s/it]\n",
      "  0%|                                                                                           | 0/50 [00:00<?, ?it/s]"
     ]
    },
    {
     "name": "stdout",
     "output_type": "stream",
     "text": [
      "Epoch: 74 Loss: 0.007908805273473263\n"
     ]
    },
    {
     "name": "stderr",
     "output_type": "stream",
     "text": [
      "100%|██████████████████████████████████████████████████████████████████████████████████| 50/50 [05:01<00:00,  6.03s/it]\n",
      "  0%|                                                                                           | 0/50 [00:00<?, ?it/s]"
     ]
    },
    {
     "name": "stdout",
     "output_type": "stream",
     "text": [
      "Epoch: 75 Loss: 0.005261000245809555\n"
     ]
    },
    {
     "name": "stderr",
     "output_type": "stream",
     "text": [
      "100%|██████████████████████████████████████████████████████████████████████████████████| 50/50 [05:02<00:00,  6.04s/it]\n",
      "  0%|                                                                                           | 0/50 [00:00<?, ?it/s]"
     ]
    },
    {
     "name": "stdout",
     "output_type": "stream",
     "text": [
      "Epoch: 76 Loss: 0.009391550906002522\n"
     ]
    },
    {
     "name": "stderr",
     "output_type": "stream",
     "text": [
      "100%|██████████████████████████████████████████████████████████████████████████████████| 50/50 [05:01<00:00,  6.02s/it]\n",
      "  0%|                                                                                           | 0/50 [00:00<?, ?it/s]"
     ]
    },
    {
     "name": "stdout",
     "output_type": "stream",
     "text": [
      "Epoch: 77 Loss: 0.008502817712724209\n"
     ]
    },
    {
     "name": "stderr",
     "output_type": "stream",
     "text": [
      "100%|██████████████████████████████████████████████████████████████████████████████████| 50/50 [05:01<00:00,  6.03s/it]\n",
      "  0%|                                                                                           | 0/50 [00:00<?, ?it/s]"
     ]
    },
    {
     "name": "stdout",
     "output_type": "stream",
     "text": [
      "Epoch: 78 Loss: 0.007349739316850901\n"
     ]
    },
    {
     "name": "stderr",
     "output_type": "stream",
     "text": [
      "100%|██████████████████████████████████████████████████████████████████████████████████| 50/50 [05:04<00:00,  6.08s/it]\n",
      "  0%|                                                                                           | 0/50 [00:00<?, ?it/s]"
     ]
    },
    {
     "name": "stdout",
     "output_type": "stream",
     "text": [
      "Epoch: 79 Loss: 0.0058008222840726376\n"
     ]
    },
    {
     "name": "stderr",
     "output_type": "stream",
     "text": [
      "100%|██████████████████████████████████████████████████████████████████████████████████| 50/50 [05:03<00:00,  6.07s/it]\n",
      "  0%|                                                                                           | 0/50 [00:00<?, ?it/s]"
     ]
    },
    {
     "name": "stdout",
     "output_type": "stream",
     "text": [
      "Epoch: 80 Loss: 0.007967496290802956\n"
     ]
    },
    {
     "name": "stderr",
     "output_type": "stream",
     "text": [
      "100%|██████████████████████████████████████████████████████████████████████████████████| 50/50 [05:05<00:00,  6.10s/it]\n",
      "  0%|                                                                                           | 0/50 [00:00<?, ?it/s]"
     ]
    },
    {
     "name": "stdout",
     "output_type": "stream",
     "text": [
      "Epoch: 81 Loss: 0.006638805847615004\n"
     ]
    },
    {
     "name": "stderr",
     "output_type": "stream",
     "text": [
      "100%|██████████████████████████████████████████████████████████████████████████████████| 50/50 [05:04<00:00,  6.10s/it]\n",
      "  0%|                                                                                           | 0/50 [00:00<?, ?it/s]"
     ]
    },
    {
     "name": "stdout",
     "output_type": "stream",
     "text": [
      "Epoch: 82 Loss: 0.008416242897510529\n"
     ]
    },
    {
     "name": "stderr",
     "output_type": "stream",
     "text": [
      "100%|██████████████████████████████████████████████████████████████████████████████████| 50/50 [05:03<00:00,  6.07s/it]\n",
      "  0%|                                                                                           | 0/50 [00:00<?, ?it/s]"
     ]
    },
    {
     "name": "stdout",
     "output_type": "stream",
     "text": [
      "Epoch: 83 Loss: 0.007827168330550194\n"
     ]
    },
    {
     "name": "stderr",
     "output_type": "stream",
     "text": [
      "100%|██████████████████████████████████████████████████████████████████████████████████| 50/50 [05:03<00:00,  6.07s/it]\n",
      "  0%|                                                                                           | 0/50 [00:00<?, ?it/s]"
     ]
    },
    {
     "name": "stdout",
     "output_type": "stream",
     "text": [
      "Epoch: 84 Loss: 0.008150271140038967\n"
     ]
    },
    {
     "name": "stderr",
     "output_type": "stream",
     "text": [
      "100%|██████████████████████████████████████████████████████████████████████████████████| 50/50 [05:03<00:00,  6.07s/it]\n",
      "  0%|                                                                                           | 0/50 [00:00<?, ?it/s]"
     ]
    },
    {
     "name": "stdout",
     "output_type": "stream",
     "text": [
      "Epoch: 85 Loss: 0.006833165418356657\n"
     ]
    },
    {
     "name": "stderr",
     "output_type": "stream",
     "text": [
      "100%|██████████████████████████████████████████████████████████████████████████████████| 50/50 [05:03<00:00,  6.06s/it]\n",
      "  0%|                                                                                           | 0/50 [00:00<?, ?it/s]"
     ]
    },
    {
     "name": "stdout",
     "output_type": "stream",
     "text": [
      "Epoch: 86 Loss: 0.00810164026916027\n"
     ]
    },
    {
     "name": "stderr",
     "output_type": "stream",
     "text": [
      "100%|██████████████████████████████████████████████████████████████████████████████████| 50/50 [05:03<00:00,  6.08s/it]\n",
      "  0%|                                                                                           | 0/50 [00:00<?, ?it/s]"
     ]
    },
    {
     "name": "stdout",
     "output_type": "stream",
     "text": [
      "Epoch: 87 Loss: 0.007052747532725334\n"
     ]
    },
    {
     "name": "stderr",
     "output_type": "stream",
     "text": [
      "100%|██████████████████████████████████████████████████████████████████████████████████| 50/50 [05:03<00:00,  6.07s/it]\n",
      "  0%|                                                                                           | 0/50 [00:00<?, ?it/s]"
     ]
    },
    {
     "name": "stdout",
     "output_type": "stream",
     "text": [
      "Epoch: 88 Loss: 0.0073399594984948635\n"
     ]
    },
    {
     "name": "stderr",
     "output_type": "stream",
     "text": [
      "100%|██████████████████████████████████████████████████████████████████████████████████| 50/50 [05:03<00:00,  6.07s/it]\n",
      "  0%|                                                                                           | 0/50 [00:00<?, ?it/s]"
     ]
    },
    {
     "name": "stdout",
     "output_type": "stream",
     "text": [
      "Epoch: 89 Loss: 0.005809111054986715\n"
     ]
    },
    {
     "name": "stderr",
     "output_type": "stream",
     "text": [
      "100%|██████████████████████████████████████████████████████████████████████████████████| 50/50 [05:03<00:00,  6.07s/it]\n",
      "  0%|                                                                                           | 0/50 [00:00<?, ?it/s]"
     ]
    },
    {
     "name": "stdout",
     "output_type": "stream",
     "text": [
      "Epoch: 90 Loss: 0.007566638290882111\n"
     ]
    },
    {
     "name": "stderr",
     "output_type": "stream",
     "text": [
      "100%|██████████████████████████████████████████████████████████████████████████████████| 50/50 [05:04<00:00,  6.08s/it]\n",
      "  0%|                                                                                           | 0/50 [00:00<?, ?it/s]"
     ]
    },
    {
     "name": "stdout",
     "output_type": "stream",
     "text": [
      "Epoch: 91 Loss: 0.00750741409137845\n"
     ]
    },
    {
     "name": "stderr",
     "output_type": "stream",
     "text": [
      "100%|██████████████████████████████████████████████████████████████████████████████████| 50/50 [05:03<00:00,  6.07s/it]\n",
      "  0%|                                                                                           | 0/50 [00:00<?, ?it/s]"
     ]
    },
    {
     "name": "stdout",
     "output_type": "stream",
     "text": [
      "Epoch: 92 Loss: 0.008233862929046154\n"
     ]
    },
    {
     "name": "stderr",
     "output_type": "stream",
     "text": [
      "100%|██████████████████████████████████████████████████████████████████████████████████| 50/50 [05:04<00:00,  6.08s/it]\n",
      "  0%|                                                                                           | 0/50 [00:00<?, ?it/s]"
     ]
    },
    {
     "name": "stdout",
     "output_type": "stream",
     "text": [
      "Epoch: 93 Loss: 0.00736328586935997\n"
     ]
    },
    {
     "name": "stderr",
     "output_type": "stream",
     "text": [
      "100%|██████████████████████████████████████████████████████████████████████████████████| 50/50 [05:03<00:00,  6.06s/it]\n",
      "  0%|                                                                                           | 0/50 [00:00<?, ?it/s]"
     ]
    },
    {
     "name": "stdout",
     "output_type": "stream",
     "text": [
      "Epoch: 94 Loss: 0.006991328671574593\n"
     ]
    },
    {
     "name": "stderr",
     "output_type": "stream",
     "text": [
      "100%|██████████████████████████████████████████████████████████████████████████████████| 50/50 [05:03<00:00,  6.07s/it]\n",
      "  0%|                                                                                           | 0/50 [00:00<?, ?it/s]"
     ]
    },
    {
     "name": "stdout",
     "output_type": "stream",
     "text": [
      "Epoch: 95 Loss: 0.007842014543712139\n"
     ]
    },
    {
     "name": "stderr",
     "output_type": "stream",
     "text": [
      "100%|██████████████████████████████████████████████████████████████████████████████████| 50/50 [05:02<00:00,  6.06s/it]\n",
      "  0%|                                                                                           | 0/50 [00:00<?, ?it/s]"
     ]
    },
    {
     "name": "stdout",
     "output_type": "stream",
     "text": [
      "Epoch: 96 Loss: 0.00876053050160408\n"
     ]
    },
    {
     "name": "stderr",
     "output_type": "stream",
     "text": [
      "100%|██████████████████████████████████████████████████████████████████████████████████| 50/50 [05:03<00:00,  6.07s/it]\n",
      "  0%|                                                                                           | 0/50 [00:00<?, ?it/s]"
     ]
    },
    {
     "name": "stdout",
     "output_type": "stream",
     "text": [
      "Epoch: 97 Loss: 0.009149320423603058\n"
     ]
    },
    {
     "name": "stderr",
     "output_type": "stream",
     "text": [
      "100%|██████████████████████████████████████████████████████████████████████████████████| 50/50 [05:02<00:00,  6.05s/it]\n",
      "  0%|                                                                                           | 0/50 [00:00<?, ?it/s]"
     ]
    },
    {
     "name": "stdout",
     "output_type": "stream",
     "text": [
      "Epoch: 98 Loss: 0.007259857375174761\n"
     ]
    },
    {
     "name": "stderr",
     "output_type": "stream",
     "text": [
      "100%|██████████████████████████████████████████████████████████████████████████████████| 50/50 [05:03<00:00,  6.06s/it]"
     ]
    },
    {
     "name": "stdout",
     "output_type": "stream",
     "text": [
      "Epoch: 99 Loss: 0.005465377122163773\n"
     ]
    },
    {
     "name": "stderr",
     "output_type": "stream",
     "text": [
      "\n"
     ]
    }
   ],
   "source": [
    "for epoch in range(num_epochs):\n",
    "    for i, (lr_images, hr_images) in enumerate(tqdm(data_loader)):\n",
    "        # Move data to the GPU\n",
    "        lr_images = lr_images.to(device=device)\n",
    "        hr_images = hr_images.to(device=device)\n",
    "\n",
    "        # Forward pass\n",
    "        outputs = model2SR(lr_images)\n",
    "        loss = loss_function(outputs, hr_images)\n",
    "\n",
    "        # Backward pass and optimization\n",
    "        optimizer.zero_grad()\n",
    "        loss.backward()\n",
    "        optimizer.step()\n",
    "        \n",
    "    print('Epoch:', epoch, 'Loss:', loss.item())"
   ]
  },
  {
   "cell_type": "code",
   "execution_count": 42,
   "metadata": {},
   "outputs": [],
   "source": [
    "dataiter = iter(data_loader)\n",
    "images, labels = next(dataiter)"
   ]
  },
  {
   "cell_type": "code",
   "execution_count": 43,
   "metadata": {},
   "outputs": [
    {
     "name": "stderr",
     "output_type": "stream",
     "text": [
      "Clipping input data to the valid range for imshow with RGB data ([0..1] for floats or [0..255] for integers).\n"
     ]
    },
    {
     "data": {
      "image/png": "[encoded data removed]",
      "text/plain": [
       "<Figure size 432x288 with 1 Axes>"
      ]
     },
     "metadata": {
      "needs_background": "light"
     },
     "output_type": "display_data"
    }
   ],
   "source": [
    "Restoration = model2SR(images.to(device=device))\n",
    "imshow(torchvision.utils.make_grid(Restoration[0]))"
   ]
  },
  {
   "cell_type": "code",
   "execution_count": 44,
   "metadata": {},
   "outputs": [
    {
     "data": {
      "image/png": "[encoded data removed]",
      "text/plain": [
       "<Figure size 432x288 with 1 Axes>"
      ]
     },
     "metadata": {
      "needs_background": "light"
     },
     "output_type": "display_data"
    }
   ],
   "source": [
    "imshow(torchvision.utils.make_grid(labels[0]))"
   ]
  },
  {
   "cell_type": "code",
   "execution_count": null,
   "metadata": {},
   "outputs": [],
   "source": []
  }
 ],
 "metadata": {
  "kernelspec": {
   "display_name": "Python 3",
   "language": "python",
   "name": "python3"
  },
  "language_info": {
   "codemirror_mode": {
    "name": "ipython",
    "version": 3
   },
   "file_extension": ".py",
   "mimetype": "text/x-python",
   "name": "python",
   "nbconvert_exporter": "python",
   "pygments_lexer": "ipython3",
   "version": "3.8.3"
  }
 },
 "nbformat": 4,
 "nbformat_minor": 4
}
