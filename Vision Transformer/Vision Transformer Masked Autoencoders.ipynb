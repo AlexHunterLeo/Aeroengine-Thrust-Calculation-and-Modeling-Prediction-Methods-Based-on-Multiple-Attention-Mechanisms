{
 "cells": [
  {
   "cell_type": "code",
   "execution_count": 1,
   "metadata": {},
   "outputs": [],
   "source": [
    "import collections.abc\n",
    "from collections import namedtuple\n",
    "import math\n",
    "from copy import deepcopy\n",
    "from dataclasses import dataclass\n",
    "from typing import Optional, Set, Tuple, Union\n",
    "\n",
    "import numpy as np\n",
    "import torch\n",
    "import torch.utils.checkpoint\n",
    "from torch import nn\n",
    "import torch.nn.functional as F"
   ]
  },
  {
   "cell_type": "code",
   "execution_count": 2,
   "metadata": {},
   "outputs": [],
   "source": [
    "def get_2d_sincos_pos_embed(embed_dim, grid_size, add_cls_token=False):\n",
    "    \"\"\"\n",
    "    Create 2D sin/cos positional embeddings.\n",
    "    Args:\n",
    "        embed_dim (`int`):\n",
    "            Embedding dimension.\n",
    "        grid_size (`int`):\n",
    "            The grid height and width.\n",
    "        add_cls_token (`bool`, *optional*, defaults to `False`):\n",
    "            Whether or not to add a classification (CLS) token.\n",
    "    Returns:\n",
    "        (`torch.FloatTensor` of shape (grid_size*grid_size, embed_dim) or (1+grid_size*grid_size, embed_dim): the\n",
    "        position embeddings (with or without classification token)\n",
    "    \"\"\"\n",
    "    grid_h = np.arange(grid_size, dtype=np.float32)\n",
    "    grid_w = np.arange(grid_size, dtype=np.float32)\n",
    "    grid = np.meshgrid(grid_w, grid_h)  # here w goes first\n",
    "    grid = np.stack(grid, axis=0)\n",
    "\n",
    "    grid = grid.reshape([2, 1, grid_size, grid_size])\n",
    "    pos_embed = get_2d_sincos_pos_embed_from_grid(embed_dim, grid)\n",
    "    if add_cls_token:\n",
    "        pos_embed = np.concatenate([np.zeros([1, embed_dim]), pos_embed], axis=0)\n",
    "    return pos_embed"
   ]
  },
  {
   "cell_type": "code",
   "execution_count": 3,
   "metadata": {},
   "outputs": [],
   "source": [
    "def get_2d_sincos_pos_embed_from_grid(embed_dim, grid):\n",
    "    if embed_dim % 2 != 0:\n",
    "        raise ValueError(\"embed_dim must be even\")\n",
    "\n",
    "    # use half of dimensions to encode grid_h\n",
    "    emb_h = get_1d_sincos_pos_embed_from_grid(embed_dim // 2, grid[0])  # (H*W, D/2)\n",
    "    emb_w = get_1d_sincos_pos_embed_from_grid(embed_dim // 2, grid[1])  # (H*W, D/2)\n",
    "\n",
    "    emb = np.concatenate([emb_h, emb_w], axis=1)  # (H*W, D)\n",
    "    return emb"
   ]
  },
  {
   "cell_type": "code",
   "execution_count": 4,
   "metadata": {},
   "outputs": [],
   "source": [
    "def get_1d_sincos_pos_embed_from_grid(embed_dim, pos):\n",
    "    \"\"\"\n",
    "    embed_dim: output dimension for each position pos: a list of positions to be encoded: size (M,) out: (M, D)\n",
    "    \"\"\"\n",
    "    if embed_dim % 2 != 0:\n",
    "        raise ValueError(\"embed_dim must be even\")\n",
    "\n",
    "    omega = np.arange(embed_dim // 2, dtype=float)\n",
    "    omega /= embed_dim / 2.0\n",
    "    omega = 1.0 / 10000**omega  # (D/2,)\n",
    "\n",
    "    pos = pos.reshape(-1)  # (M,)\n",
    "    out = np.einsum(\"m,d->md\", pos, omega)  # (M, D/2), outer product\n",
    "\n",
    "    emb_sin = np.sin(out)  # (M, D/2)\n",
    "    emb_cos = np.cos(out)  # (M, D/2)\n",
    "\n",
    "    emb = np.concatenate([emb_sin, emb_cos], axis=1)  # (M, D)\n",
    "    return emb"
   ]
  },
  {
   "cell_type": "code",
   "execution_count": 5,
   "metadata": {},
   "outputs": [],
   "source": [
    "class ViTMAEEmbeddings(nn.Module):\n",
    "    \"\"\"\n",
    "    Construct the CLS token, position and patch embeddings.\n",
    "    \"\"\"\n",
    "\n",
    "    def __init__(self, num_channels, hidden_size, image_size, patch_size, initializer_range, \n",
    "                 mask_ratio):\n",
    "        super().__init__()\n",
    "\n",
    "        self.cls_token = nn.Parameter(torch.zeros(1, 1, hidden_size))\n",
    "        self.patch_embeddings = ViTMAEPatchEmbeddings(num_channels, hidden_size, image_size, patch_size)\n",
    "        self.num_patches = self.patch_embeddings.num_patches\n",
    "        # fixed sin-cos embedding\n",
    "        self.position_embeddings = nn.Parameter(\n",
    "            torch.zeros(1, self.num_patches + 1, hidden_size), requires_grad=False\n",
    "        )\n",
    "        self.initializer_range = initializer_range\n",
    "        self.mask_ratio = mask_ratio\n",
    "        self.initialize_weights()\n",
    "\n",
    "    def initialize_weights(self):\n",
    "        # initialize (and freeze) position embeddings by sin-cos embedding\n",
    "        pos_embed = get_2d_sincos_pos_embed(\n",
    "            self.position_embeddings.shape[-1], int(self.patch_embeddings.num_patches**0.5), add_cls_token=True\n",
    "        )\n",
    "        self.position_embeddings.data.copy_(torch.from_numpy(pos_embed).float().unsqueeze(0))\n",
    "\n",
    "        # initialize patch_embeddings like nn.Linear (instead of nn.Conv2d)\n",
    "        w = self.patch_embeddings.projection.weight.data\n",
    "        torch.nn.init.xavier_uniform_(w.view([w.shape[0], -1]))\n",
    "\n",
    "        # timm's trunc_normal_(std=.02) is effectively normal_(std=0.02) as cutoff is too big (2.)\n",
    "        torch.nn.init.normal_(self.cls_token, std=self.initializer_range)\n",
    "\n",
    "    def random_masking(self, sequence, noise=None):\n",
    "        \"\"\"\n",
    "        Perform per-sample random masking by per-sample shuffling. Per-sample shuffling is done by argsort random\n",
    "        noise.\n",
    "        Args:\n",
    "            sequence (`torch.LongTensor` of shape `(batch_size, sequence_length, dim)`)\n",
    "            noise (`torch.FloatTensor` of shape `(batch_size, sequence_length)`, *optional*) which is\n",
    "                mainly used for testing purposes to control randomness and maintain the reproducibility\n",
    "        \"\"\"\n",
    "        batch_size, seq_length, dim = sequence.shape\n",
    "        len_keep = int(seq_length * (1 - self.mask_ratio))\n",
    "\n",
    "        if noise is None:\n",
    "            noise = torch.rand(batch_size, seq_length, device=sequence.device)  # noise in [0, 1]\n",
    "\n",
    "        # sort noise for each sample\n",
    "        ids_shuffle = torch.argsort(noise, dim=1)  # ascend: small is keep, large is remove\n",
    "        ids_restore = torch.argsort(ids_shuffle, dim=1)\n",
    "\n",
    "        # keep the first subset\n",
    "        ids_keep = ids_shuffle[:, :len_keep]\n",
    "        sequence_unmasked = torch.gather(sequence, dim=1, index=ids_keep.unsqueeze(-1).repeat(1, 1, dim))\n",
    "\n",
    "        # generate the binary mask: 0 is keep, 1 is remove\n",
    "        mask = torch.ones([batch_size, seq_length], device=sequence.device)\n",
    "        mask[:, :len_keep] = 0\n",
    "        # unshuffle to get the binary mask\n",
    "        mask = torch.gather(mask, dim=1, index=ids_restore)\n",
    "\n",
    "        return sequence_unmasked, mask, ids_restore\n",
    "\n",
    "    def forward(self, pixel_values, noise=None):\n",
    "        batch_size, num_channels, height, width = pixel_values.shape     \n",
    "        embeddings = self.patch_embeddings(pixel_values)\n",
    "\n",
    "        # add position embeddings w/o cls token\n",
    "        embeddings = embeddings + self.position_embeddings[:, 1:, :]\n",
    "\n",
    "        # masking: length -> length * config.mask_ratio\n",
    "        embeddings, mask, ids_restore = self.random_masking(embeddings, noise)\n",
    "\n",
    "        # append cls token\n",
    "        cls_token = self.cls_token + self.position_embeddings[:, :1, :]\n",
    "        cls_tokens = cls_token.expand(embeddings.shape[0], -1, -1)\n",
    "        embeddings = torch.cat((cls_tokens, embeddings), dim=1)\n",
    "\n",
    "        return embeddings, mask, ids_restore"
   ]
  },
  {
   "cell_type": "code",
   "execution_count": 6,
   "metadata": {},
   "outputs": [],
   "source": [
    "class ViTMAEPatchEmbeddings(nn.Module):\n",
    "    \"\"\"\n",
    "    This class turns `pixel_values` of shape `(batch_size, num_channels, height, width)` into the initial\n",
    "    `hidden_states` (patch embeddings) of shape `(batch_size, seq_length, hidden_size)` to be consumed by a\n",
    "    Transformer.\n",
    "    \"\"\"\n",
    "\n",
    "    def __init__(self, num_channels, hidden_size, image_size, patch_size):\n",
    "        super().__init__()\n",
    "        image_size, patch_size = image_size, patch_size\n",
    "        num_channels, hidden_size = num_channels, hidden_size\n",
    "        image_size = image_size if isinstance(image_size, collections.abc.Iterable) else (image_size, image_size)\n",
    "        patch_size = patch_size if isinstance(patch_size, collections.abc.Iterable) else (patch_size, patch_size)\n",
    "        num_patches = (image_size[1] // patch_size[1]) * (image_size[0] // patch_size[0])\n",
    "        self.image_size = image_size\n",
    "        self.patch_size = patch_size\n",
    "        self.num_channels = num_channels\n",
    "        self.num_patches = num_patches\n",
    "\n",
    "        self.projection = nn.Conv2d(num_channels, hidden_size, kernel_size=patch_size, stride=patch_size)\n",
    "\n",
    "    def forward(self, pixel_values):\n",
    "        batch_size, num_channels, height, width = pixel_values.shape\n",
    "        if num_channels != self.num_channels:\n",
    "            raise ValueError(\n",
    "                \"Make sure that the channel dimension of the pixel values match with the one set in the configuration.\"\n",
    "            )\n",
    "        if height != self.image_size[0] or width != self.image_size[1]:\n",
    "            raise ValueError(\n",
    "                f\"Input image size ({height}*{width}) doesn't match model ({self.image_size[0]}*{self.image_size[1]}).\"\n",
    "            )\n",
    "        x = self.projection(pixel_values).flatten(2).transpose(1, 2)\n",
    "        return x"
   ]
  },
  {
   "cell_type": "code",
   "execution_count": 7,
   "metadata": {},
   "outputs": [],
   "source": [
    "class ViTMAESelfAttention(nn.Module):\n",
    "    def __init__(self, hidden_size, num_attention_heads, qkv_bias, attention_probs_dropout_prob) -> None:\n",
    "        super().__init__()\n",
    "        if hidden_size % num_attention_heads != 0:\n",
    "            raise ValueError(\n",
    "                f\"The hidden size {hidden_size,} is not a multiple of the number of attention \"\n",
    "                f\"heads {num_attention_heads}.\"\n",
    "            )\n",
    "\n",
    "        self.num_attention_heads = num_attention_heads\n",
    "        self.attention_head_size = int(hidden_size / num_attention_heads)\n",
    "        self.all_head_size = self.num_attention_heads * self.attention_head_size\n",
    "\n",
    "        self.query = nn.Linear(hidden_size, self.all_head_size, bias=qkv_bias)\n",
    "        self.key = nn.Linear(hidden_size, self.all_head_size, bias=qkv_bias)\n",
    "        self.value = nn.Linear(hidden_size, self.all_head_size, bias=qkv_bias)\n",
    "\n",
    "        self.dropout = nn.Dropout(attention_probs_dropout_prob)\n",
    "\n",
    "    def transpose_for_scores(self, x: torch.Tensor) -> torch.Tensor:\n",
    "        new_x_shape = x.size()[:-1] + (self.num_attention_heads, self.attention_head_size)\n",
    "        x = x.view(new_x_shape)\n",
    "        return x.permute(0, 2, 1, 3)\n",
    "\n",
    "    def forward(\n",
    "        self, hidden_states, head_mask: Optional[torch.Tensor] = None, output_attentions: bool = False\n",
    "    ) -> Union[Tuple[torch.Tensor, torch.Tensor], Tuple[torch.Tensor]]:\n",
    "        mixed_query_layer = self.query(hidden_states)\n",
    "\n",
    "        key_layer = self.transpose_for_scores(self.key(hidden_states))\n",
    "        value_layer = self.transpose_for_scores(self.value(hidden_states))\n",
    "        query_layer = self.transpose_for_scores(mixed_query_layer)\n",
    "\n",
    "        # Take the dot product between \"query\" and \"key\" to get the raw attention scores.\n",
    "        attention_scores = torch.matmul(query_layer, key_layer.transpose(-1, -2))\n",
    "\n",
    "        attention_scores = attention_scores / math.sqrt(self.attention_head_size)\n",
    "\n",
    "        # Normalize the attention scores to probabilities.\n",
    "        attention_probs = nn.functional.softmax(attention_scores, dim=-1)\n",
    "\n",
    "        # This is actually dropping out entire tokens to attend to, which might\n",
    "        # seem a bit unusual, but is taken from the original Transformer paper.\n",
    "        attention_probs = self.dropout(attention_probs)\n",
    "\n",
    "        # Mask heads if we want to\n",
    "        if head_mask is not None:\n",
    "            attention_probs = attention_probs * head_mask\n",
    "\n",
    "        context_layer = torch.matmul(attention_probs, value_layer)\n",
    "\n",
    "        context_layer = context_layer.permute(0, 2, 1, 3).contiguous()\n",
    "        new_context_layer_shape = context_layer.size()[:-2] + (self.all_head_size,)\n",
    "        context_layer = context_layer.view(new_context_layer_shape)\n",
    "\n",
    "        outputs = (context_layer, attention_probs) if output_attentions else (context_layer,)\n",
    "\n",
    "        return outputs\n"
   ]
  },
  {
   "cell_type": "code",
   "execution_count": 8,
   "metadata": {},
   "outputs": [],
   "source": [
    "class ViTMAESelfOutput(nn.Module):\n",
    "    \"\"\"\n",
    "    The residual connection is defined in ViTMAELayer instead of here (as is the case with other models), due to the\n",
    "    layernorm applied before each block.\n",
    "    \"\"\"\n",
    "\n",
    "    def __init__(self, hidden_size, hidden_dropout_prob) -> None:\n",
    "        super().__init__()\n",
    "        self.dense = nn.Linear(hidden_size, hidden_size)\n",
    "        self.dropout = nn.Dropout(hidden_dropout_prob)\n",
    "\n",
    "    def forward(self, hidden_states: torch.Tensor, input_tensor: torch.Tensor) -> torch.Tensor:\n",
    "        hidden_states = self.dense(hidden_states)\n",
    "        hidden_states = self.dropout(hidden_states)\n",
    "\n",
    "        return hidden_states\n"
   ]
  },
  {
   "cell_type": "code",
   "execution_count": 9,
   "metadata": {},
   "outputs": [],
   "source": [
    "class ViTMAEAttention(nn.Module):\n",
    "    def __init__(self, hidden_size, num_attention_heads, qkv_bias, attention_probs_dropout_prob, \n",
    "                 hidden_dropout_prob) -> None:\n",
    "        super().__init__()\n",
    "        self.attention = ViTMAESelfAttention(hidden_size, num_attention_heads, qkv_bias, \n",
    "                                             attention_probs_dropout_prob)\n",
    "        self.output = ViTMAESelfOutput(hidden_size, hidden_dropout_prob)\n",
    "        self.pruned_heads = set()\n",
    "\n",
    "    def prune_heads(self, heads: Set[int]) -> None:\n",
    "        if len(heads) == 0:\n",
    "            return\n",
    "        heads, index = find_pruneable_heads_and_indices(\n",
    "            heads, self.attention.num_attention_heads, self.attention.attention_head_size, self.pruned_heads\n",
    "        )\n",
    "\n",
    "        # Prune linear layers\n",
    "        self.attention.query = prune_linear_layer(self.attention.query, index)\n",
    "        self.attention.key = prune_linear_layer(self.attention.key, index)\n",
    "        self.attention.value = prune_linear_layer(self.attention.value, index)\n",
    "        self.output.dense = prune_linear_layer(self.output.dense, index, dim=1)\n",
    "\n",
    "        # Update hyper params and store pruned heads\n",
    "        self.attention.num_attention_heads = self.attention.num_attention_heads - len(heads)\n",
    "        self.attention.all_head_size = self.attention.attention_head_size * self.attention.num_attention_heads\n",
    "        self.pruned_heads = self.pruned_heads.union(heads)\n",
    "\n",
    "    def forward(\n",
    "        self,\n",
    "        hidden_states: torch.Tensor,\n",
    "        head_mask: Optional[torch.Tensor] = None,\n",
    "        output_attentions: bool = False,\n",
    "    ) -> Union[Tuple[torch.Tensor, torch.Tensor], Tuple[torch.Tensor]]:\n",
    "        self_outputs = self.attention(hidden_states, head_mask, output_attentions)\n",
    "\n",
    "        attention_output = self.output(self_outputs[0], hidden_states)\n",
    "\n",
    "        outputs = (attention_output,) + self_outputs[1:]  # add attentions if we output them\n",
    "        return outputs"
   ]
  },
  {
   "cell_type": "code",
   "execution_count": 10,
   "metadata": {},
   "outputs": [],
   "source": [
    "class ViTMAEIntermediate(nn.Module):\n",
    "    def __init__(self, hidden_size, intermediate_size, hidden_act='gelu') -> None:\n",
    "        super().__init__()\n",
    "        self.dense = nn.Linear(hidden_size, intermediate_size)\n",
    "        self.hidden_act = hidden_act\n",
    "\n",
    "    def forward(self, hidden_states: torch.Tensor) -> torch.Tensor:\n",
    "        hidden_states = self.dense(hidden_states)\n",
    "        hidden_states = getattr(F, self.hidden_act)(hidden_states)\n",
    "\n",
    "        return hidden_states"
   ]
  },
  {
   "cell_type": "code",
   "execution_count": 11,
   "metadata": {},
   "outputs": [],
   "source": [
    "class ViTMAEOutput(nn.Module):\n",
    "    def __init__(self, hidden_size, intermediate_size, hidden_dropout_prob) -> None:\n",
    "        super().__init__()\n",
    "        self.dense = nn.Linear(intermediate_size, hidden_size)\n",
    "        self.dropout = nn.Dropout(hidden_dropout_prob)\n",
    "\n",
    "    def forward(self, hidden_states: torch.Tensor, input_tensor: torch.Tensor) -> torch.Tensor:\n",
    "        hidden_states = self.dense(hidden_states)\n",
    "        hidden_states = self.dropout(hidden_states)\n",
    "\n",
    "        hidden_states = hidden_states + input_tensor\n",
    "\n",
    "        return hidden_states"
   ]
  },
  {
   "cell_type": "code",
   "execution_count": 12,
   "metadata": {},
   "outputs": [],
   "source": [
    "class ViTMAELayer(nn.Module):\n",
    "    \"\"\"This corresponds to the Block class in the timm implementation.\"\"\"\n",
    "\n",
    "    def __init__(self, hidden_size, num_attention_heads, qkv_bias, attention_probs_dropout_prob, \n",
    "                 hidden_dropout_prob, intermediate_size, layer_norm_eps, chunk_size_feed_forward) -> None:\n",
    "        super().__init__()\n",
    "        self.chunk_size_feed_forward = chunk_size_feed_forward\n",
    "        self.seq_len_dim = 1\n",
    "        self.attention = ViTMAEAttention(hidden_size, num_attention_heads, qkv_bias, \n",
    "                                         attention_probs_dropout_prob, hidden_dropout_prob)\n",
    "        self.intermediate = ViTMAEIntermediate(hidden_size, intermediate_size)\n",
    "        self.output = ViTMAEOutput(hidden_size, intermediate_size, hidden_dropout_prob)\n",
    "        self.layernorm_before = nn.LayerNorm(hidden_size, eps=layer_norm_eps)\n",
    "        self.layernorm_after = nn.LayerNorm(hidden_size, eps=layer_norm_eps)\n",
    "\n",
    "    def forward(\n",
    "        self,\n",
    "        hidden_states: torch.Tensor,\n",
    "        head_mask: Optional[torch.Tensor] = None,\n",
    "        output_attentions: bool = False,\n",
    "    ) -> Union[Tuple[torch.Tensor, torch.Tensor], Tuple[torch.Tensor]]:\n",
    "        self_attention_outputs = self.attention(\n",
    "            self.layernorm_before(hidden_states),  # in ViTMAE, layernorm is applied before self-attention\n",
    "            head_mask,\n",
    "            output_attentions=output_attentions,\n",
    "        )\n",
    "        attention_output = self_attention_outputs[0]\n",
    "        outputs = self_attention_outputs[1:]  # add self attentions if we output attention weights\n",
    "\n",
    "        # first residual connection\n",
    "        hidden_states = attention_output + hidden_states\n",
    "\n",
    "        # in ViTMAE, layernorm is also applied after self-attention\n",
    "        layer_output = self.layernorm_after(hidden_states)\n",
    "        layer_output = self.intermediate(layer_output)\n",
    "\n",
    "        # second residual connection is done here\n",
    "        layer_output = self.output(layer_output, hidden_states)\n",
    "\n",
    "        outputs = (layer_output,) + outputs\n",
    "\n",
    "        return outputs\n"
   ]
  },
  {
   "cell_type": "code",
   "execution_count": 13,
   "metadata": {},
   "outputs": [],
   "source": [
    "ViTencoder = namedtuple(\"ViTencoder\", [\"last_hidden_state\", \"hidden_states\", \"attentions\"])"
   ]
  },
  {
   "cell_type": "code",
   "execution_count": 14,
   "metadata": {},
   "outputs": [],
   "source": [
    "class ViTMAEEncoder(nn.Module):\n",
    "    def __init__(self, hidden_size, num_hidden_layers, num_attention_heads, qkv_bias, \n",
    "                 attention_probs_dropout_prob, hidden_dropout_prob, intermediate_size, \n",
    "                 layer_norm_eps, chunk_size_feed_forward) -> None:\n",
    "        super().__init__()\n",
    "        self.layer = nn.ModuleList([ViTMAELayer(hidden_size, num_attention_heads, qkv_bias, \n",
    "                 attention_probs_dropout_prob, hidden_dropout_prob, intermediate_size, \n",
    "                 layer_norm_eps, chunk_size_feed_forward) for _ in range(num_hidden_layers)])\n",
    "        self.gradient_checkpointing = False\n",
    "\n",
    "    def forward(\n",
    "        self,\n",
    "        hidden_states: torch.Tensor,\n",
    "        head_mask: Optional[torch.Tensor] = None,\n",
    "        output_attentions: bool = False,\n",
    "        output_hidden_states: bool = False,\n",
    "        return_dict: bool = True,\n",
    "    ) -> Union[tuple]:\n",
    "        all_hidden_states = () if output_hidden_states else None\n",
    "        all_self_attentions = () if output_attentions else None\n",
    "\n",
    "        for i, layer_module in enumerate(self.layer):\n",
    "            if output_hidden_states:\n",
    "                all_hidden_states = all_hidden_states + (hidden_states,)\n",
    "\n",
    "            layer_head_mask = head_mask[i] if head_mask is not None else None\n",
    "\n",
    "            if self.gradient_checkpointing and self.training:\n",
    "\n",
    "                def create_custom_forward(module):\n",
    "                    def custom_forward(*inputs):\n",
    "                        return module(*inputs, output_attentions)\n",
    "\n",
    "                    return custom_forward\n",
    "\n",
    "                layer_outputs = torch.utils.checkpoint.checkpoint(\n",
    "                    create_custom_forward(layer_module),\n",
    "                    hidden_states,\n",
    "                    layer_head_mask,\n",
    "                )\n",
    "            else:\n",
    "                layer_outputs = layer_module(hidden_states, layer_head_mask, output_attentions)\n",
    "\n",
    "            hidden_states = layer_outputs[0]\n",
    "\n",
    "            if output_attentions:\n",
    "                all_self_attentions = all_self_attentions + (layer_outputs[1],)\n",
    "\n",
    "        if output_hidden_states:\n",
    "            all_hidden_states = all_hidden_states + (hidden_states,)\n",
    "\n",
    "        if not return_dict:\n",
    "            return ViTencoder(\n",
    "                last_hidden_state=hidden_states,\n",
    "                hidden_states=all_hidden_states,\n",
    "                attentions=all_self_attentions\n",
    "            )\n"
   ]
  },
  {
   "cell_type": "code",
   "execution_count": 15,
   "metadata": {},
   "outputs": [],
   "source": [
    "ViTOutputs = namedtuple(\"ViTOutputs\", [\"last_hidden_state\", \"mask\", \"ids_restore\", \"hidden_states\", \"attentions\"])"
   ]
  },
  {
   "cell_type": "code",
   "execution_count": 16,
   "metadata": {},
   "outputs": [],
   "source": [
    "class ViTMAEModel(nn.Module):\n",
    "    def __init__(self, num_channels, image_size, patch_size, initializer_range, mask_ratio, \n",
    "                 hidden_size, num_hidden_layers, num_attention_heads, qkv_bias, \n",
    "                 attention_probs_dropout_prob, hidden_dropout_prob, intermediate_size, \n",
    "                 layer_norm_eps, chunk_size_feed_forward, output_attentions, output_hidden_states, \n",
    "                 use_return_dict):\n",
    "        super().__init__()\n",
    "        self.output_attentions = output_attentions\n",
    "        self.output_hidden_states = output_hidden_states\n",
    "        self.use_return_dict = use_return_dict\n",
    "        self.num_hidden_layers = num_hidden_layers\n",
    "\n",
    "        self.embeddings = ViTMAEEmbeddings(num_channels, hidden_size, image_size, patch_size, \n",
    "                 initializer_range, mask_ratio)\n",
    "        self.encoder = ViTMAEEncoder(hidden_size, num_hidden_layers, num_attention_heads, qkv_bias, \n",
    "                 attention_probs_dropout_prob, hidden_dropout_prob, intermediate_size, layer_norm_eps, \n",
    "                 chunk_size_feed_forward)\n",
    "\n",
    "        self.layernorm = nn.LayerNorm(hidden_size, eps=layer_norm_eps)\n",
    "\n",
    "        # Initialize weights and apply final processing\n",
    "\n",
    "    def get_input_embeddings(self):\n",
    "        return self.embeddings.patch_embeddings\n",
    "\n",
    "    def _prune_heads(self, heads_to_prune):\n",
    "        \"\"\"\n",
    "        Prunes heads of the model. heads_to_prune: dict of {layer_num: list of heads to prune in this layer} See base\n",
    "        class PreTrainedModel\n",
    "        \"\"\"\n",
    "        for layer, heads in heads_to_prune.items():\n",
    "            self.encoder.layer[layer].attention.prune_heads(heads)\n",
    "\n",
    "    def forward(\n",
    "        self,\n",
    "        pixel_values: Optional[torch.FloatTensor] = None,\n",
    "        noise: Optional[torch.FloatTensor] = None,\n",
    "        head_mask: Optional[torch.FloatTensor] = None,\n",
    "        output_attentions: Optional[bool] = None,\n",
    "        output_hidden_states: Optional[bool] = None,\n",
    "        return_dict: Optional[bool] = None,\n",
    "    ) -> Union[Tuple]:\n",
    "        r\"\"\"\n",
    "        Returns:\n",
    "        Examples:\n",
    "        ```python\n",
    "        >>> from transformers import AutoImageProcessor, ViTMAEModel\n",
    "        >>> from PIL import Image\n",
    "        >>> import requests\n",
    "        >>> url = \"http://images.cocodataset.org/val2017/000000039769.jpg\"\n",
    "        >>> image = Image.open(requests.get(url, stream=True).raw)\n",
    "        >>> image_processor = AutoImageProcessor.from_pretrained(\"facebook/vit-mae-base\")\n",
    "        >>> model = ViTMAEModel.from_pretrained(\"facebook/vit-mae-base\")\n",
    "        >>> inputs = image_processor(images=image, return_tensors=\"pt\")\n",
    "        >>> outputs = model(**inputs)\n",
    "        >>> last_hidden_states = outputs.last_hidden_state\n",
    "        ```\"\"\"\n",
    "        output_attentions = output_attentions if output_attentions is not None else self.output_attentions\n",
    "        output_hidden_states = (\n",
    "            output_hidden_states if output_hidden_states is not None else self.output_hidden_states\n",
    "        )\n",
    "        return_dict = return_dict if return_dict is not None else self.use_return_dict\n",
    "\n",
    "        if pixel_values is None:\n",
    "            raise ValueError(\"You have to specify pixel_values\")\n",
    "\n",
    "        # Prepare head mask if needed\n",
    "        # 1.0 in head_mask indicate we keep the head\n",
    "        # attention_probs has shape bsz x n_heads x N x N\n",
    "        # input head_mask has shape [num_heads] or [num_hidden_layers x num_heads]\n",
    "        # and head_mask is converted to shape [num_hidden_layers x batch x num_heads x seq_length x seq_length]\n",
    "        head_mask = None\n",
    "        #head_mask = self.get_head_mask(head_mask, self.num_hidden_layers)\n",
    "\n",
    "        embedding_output, mask, ids_restore = self.embeddings(pixel_values, noise=noise)\n",
    "\n",
    "        encoder_outputs = self.encoder(\n",
    "            embedding_output,\n",
    "            head_mask=head_mask,\n",
    "            output_attentions=output_attentions,\n",
    "            output_hidden_states=output_hidden_states,\n",
    "            return_dict=return_dict,\n",
    "        )\n",
    "        sequence_output = encoder_outputs[0]\n",
    "        sequence_output = self.layernorm(sequence_output)\n",
    "\n",
    "        if not return_dict:\n",
    "            return ViTOutputs(\n",
    "                last_hidden_state=sequence_output,\n",
    "                mask=mask,\n",
    "                ids_restore=ids_restore,\n",
    "                hidden_states=encoder_outputs.hidden_states,\n",
    "                attentions=encoder_outputs.attentions\n",
    "            )"
   ]
  },
  {
   "cell_type": "code",
   "execution_count": 17,
   "metadata": {},
   "outputs": [],
   "source": [
    "num_channels = 3\n",
    "hidden_size = 64\n",
    "image_size = 64\n",
    "patch_size = 4\n",
    "initializer_range = 0.02\n",
    "mask_ratio = 0.5\n",
    "num_hidden_layers = 2\n",
    "num_attention_heads = 2\n",
    "qkv_bias = True\n",
    "attention_probs_dropout_prob = 0\n",
    "hidden_dropout_prob = 0\n",
    "intermediate_size = 128\n",
    "layer_norm_eps = 1e-12\n",
    "chunk_size_feed_forward = 0\n",
    "output_attentions = True\n",
    "output_hidden_states = True\n",
    "use_return_dict = False\n",
    "\n",
    "model = ViTMAEModel(\n",
    "    num_channels=num_channels,\n",
    "    image_size=image_size,\n",
    "    patch_size=patch_size,\n",
    "    initializer_range=initializer_range,\n",
    "    mask_ratio=mask_ratio,\n",
    "    hidden_size=hidden_size,\n",
    "    num_hidden_layers=num_hidden_layers,\n",
    "    num_attention_heads=num_attention_heads,\n",
    "    qkv_bias=qkv_bias,\n",
    "    attention_probs_dropout_prob=attention_probs_dropout_prob,\n",
    "    hidden_dropout_prob=hidden_dropout_prob,\n",
    "    intermediate_size=intermediate_size,\n",
    "    layer_norm_eps=layer_norm_eps,\n",
    "    chunk_size_feed_forward=chunk_size_feed_forward,\n",
    "    output_attentions=output_attentions,\n",
    "    output_hidden_states=output_hidden_states,\n",
    "    use_return_dict=use_return_dict\n",
    ")"
   ]
  },
  {
   "cell_type": "code",
   "execution_count": 18,
   "metadata": {},
   "outputs": [
    {
     "name": "stdout",
     "output_type": "stream",
     "text": [
      "sequence_output shape: torch.Size([5, 129, 64])\n",
      "mask shape: torch.Size([5, 256])\n",
      "ids_restore shape: torch.Size([5, 256])\n"
     ]
    }
   ],
   "source": [
    "sample_image = torch.rand(5, 3, 64, 64)\n",
    "outputs = model(pixel_values=sample_image)\n",
    "sequence_output, mask, ids_restore, hidden_states, attentions = outputs\n",
    "print(\"sequence_output shape:\", sequence_output.shape)\n",
    "print(\"mask shape:\",mask.shape)\n",
    "print(\"ids_restore shape:\", ids_restore.shape)"
   ]
  },
  {
   "cell_type": "code",
   "execution_count": 19,
   "metadata": {},
   "outputs": [],
   "source": [
    "ViTdecoder = namedtuple(\"ViTdecoder\", [\"logits\", \"hidden_states\", \"attentions\"])"
   ]
  },
  {
   "cell_type": "code",
   "execution_count": 20,
   "metadata": {},
   "outputs": [],
   "source": [
    "class ViTMAEDecoder(nn.Module):\n",
    "    def __init__(self, num_channels, decoder_num_hidden_layers, patch_size, hidden_size, \n",
    "                 decoder_hidden_size, num_attention_heads, qkv_bias, attention_probs_dropout_prob, \n",
    "                 hidden_dropout_prob, intermediate_size, layer_norm_eps, chunk_size_feed_forward, \n",
    "                 initializer_range, num_patches):\n",
    "        super().__init__()\n",
    "        self.decoder_embed = nn.Linear(hidden_size, decoder_hidden_size, bias=True)\n",
    "        self.mask_token = nn.Parameter(torch.zeros(1, 1, decoder_hidden_size))\n",
    "        self.decoder_pos_embed = nn.Parameter(\n",
    "            torch.zeros(1, num_patches + 1, decoder_hidden_size), requires_grad=False\n",
    "        )  # fixed sin-cos embedding\n",
    "\n",
    "        self.decoder_layers = nn.ModuleList(\n",
    "            [ViTMAELayer(hidden_size, num_attention_heads, qkv_bias, attention_probs_dropout_prob, \n",
    "                 hidden_dropout_prob, intermediate_size, layer_norm_eps, chunk_size_feed_forward) for _ in range(decoder_num_hidden_layers)]\n",
    "        )\n",
    "\n",
    "        self.decoder_norm = nn.LayerNorm(decoder_hidden_size, eps=layer_norm_eps)\n",
    "        self.decoder_pred = nn.Linear(\n",
    "            decoder_hidden_size, decoder_hidden_size, bias=True\n",
    "        )  # encoder to decoder\n",
    "        \n",
    "        self.upsampling = nn.ConvTranspose2d(hidden_size, num_channels, kernel_size=patch_size, stride=patch_size)\n",
    "        self.gradient_checkpointing = False\n",
    "        self.initializer_range = initializer_range\n",
    "        self.initialize_weights(num_patches)\n",
    "\n",
    "    def initialize_weights(self, num_patches):\n",
    "        # initialize (and freeze) position embeddings by sin-cos embedding\n",
    "        decoder_pos_embed = get_2d_sincos_pos_embed(\n",
    "            self.decoder_pos_embed.shape[-1], int(num_patches**0.5), add_cls_token=True\n",
    "        )\n",
    "        self.decoder_pos_embed.data.copy_(torch.from_numpy(decoder_pos_embed).float().unsqueeze(0))\n",
    "\n",
    "        # timm's trunc_normal_(std=.02) is effectively normal_(std=0.02) as cutoff is too big (2.)\n",
    "        torch.nn.init.normal_(self.mask_token, std=self.initializer_range)\n",
    "\n",
    "    def forward(\n",
    "        self,\n",
    "        hidden_states,\n",
    "        ids_restore,\n",
    "        output_attentions=False,\n",
    "        output_hidden_states=False,\n",
    "        return_dict=False,\n",
    "    ):\n",
    "        # embed tokens\n",
    "        x = self.decoder_embed(hidden_states)\n",
    "\n",
    "        # append mask tokens to sequence\n",
    "        mask_tokens = self.mask_token.repeat(x.shape[0], ids_restore.shape[1] + 1 - x.shape[1], 1)\n",
    "        x_ = torch.cat([x[:, 1:, :], mask_tokens], dim=1)  # no cls token\n",
    "        x_ = torch.gather(x_, dim=1, index=ids_restore.unsqueeze(-1).repeat(1, 1, x.shape[2]))  # unshuffle\n",
    "        x = torch.cat([x[:, :1, :], x_], dim=1)  # append cls token\n",
    "\n",
    "        # add pos embed\n",
    "        hidden_states = x + self.decoder_pos_embed\n",
    "\n",
    "        # apply Transformer layers (blocks)\n",
    "        all_hidden_states = () if output_hidden_states else None\n",
    "        all_self_attentions = () if output_attentions else None\n",
    "        for i, layer_module in enumerate(self.decoder_layers):\n",
    "            if output_hidden_states:\n",
    "                all_hidden_states = all_hidden_states + (hidden_states,)\n",
    "\n",
    "            if self.gradient_checkpointing and self.training:\n",
    "\n",
    "                def create_custom_forward(module):\n",
    "                    def custom_forward(*inputs):\n",
    "                        return module(*inputs, output_attentions)\n",
    "\n",
    "                    return custom_forward\n",
    "\n",
    "                layer_outputs = torch.utils.checkpoint.checkpoint(\n",
    "                    create_custom_forward(layer_module),\n",
    "                    hidden_states,\n",
    "                    None,\n",
    "                )\n",
    "            else:\n",
    "                layer_outputs = layer_module(hidden_states, head_mask=None, output_attentions=output_attentions)\n",
    "\n",
    "            hidden_states = layer_outputs[0]\n",
    "\n",
    "            if output_attentions:\n",
    "                all_self_attentions = all_self_attentions + (layer_outputs[1],)\n",
    "\n",
    "        if output_hidden_states:\n",
    "            all_hidden_states = all_hidden_states + (hidden_states,)\n",
    "\n",
    "        hidden_states = self.decoder_norm(hidden_states)\n",
    "\n",
    "        # predictor projection\n",
    "        logits = self.decoder_pred(hidden_states)\n",
    "\n",
    "        # remove cls token\n",
    "        logits = logits[:, 1:, :]\n",
    "        batch_size, height_width, embed_dim = logits.shape\n",
    "        logits = logits.transpose(1, 2).view(batch_size, embed_dim, int(height_width**(1/2)), int(height_width**(1/2)))\n",
    "        logits = self.upsampling(logits)\n",
    "        \n",
    "\n",
    "        if not return_dict:\n",
    "            return ViTdecoder(\n",
    "                logits=logits,\n",
    "                hidden_states=all_hidden_states,\n",
    "                attentions=all_self_attentions\n",
    "            )"
   ]
  },
  {
   "cell_type": "code",
   "execution_count": 21,
   "metadata": {},
   "outputs": [],
   "source": [
    "ViTMAEForPreTrainingOutput = namedtuple(\"ViTMAEForPreTrainingOutput\", [\"logits\", \"mask\", \"ids_restore\", \"hidden_states\", \"attentions\"])"
   ]
  },
  {
   "cell_type": "code",
   "execution_count": 22,
   "metadata": {},
   "outputs": [],
   "source": [
    "class ViTMAEForPreTraining(nn.Module):\n",
    "    def __init__(self, num_channels, image_size, patch_size, initializer_range, mask_ratio, \n",
    "                 hidden_size, decoder_hidden_size, num_hidden_layers, decoder_num_hidden_layers, \n",
    "                 num_attention_heads, qkv_bias, attention_probs_dropout_prob, hidden_dropout_prob, \n",
    "                 intermediate_size, layer_norm_eps, chunk_size_feed_forward, norm_pix_loss, \n",
    "                 output_attentions, output_hidden_states, use_return_dict):\n",
    "        super().__init__()\n",
    "        self.patch_size = patch_size\n",
    "        self.num_channels = num_channels\n",
    "        self.norm_pix_loss = norm_pix_loss\n",
    "        self.use_return_dict = use_return_dict\n",
    "\n",
    "        self.vit = ViTMAEModel(num_channels, image_size, patch_size, initializer_range, mask_ratio, \n",
    "                 hidden_size, num_hidden_layers, num_attention_heads, qkv_bias, \n",
    "                 attention_probs_dropout_prob, hidden_dropout_prob, intermediate_size, \n",
    "                 layer_norm_eps, chunk_size_feed_forward, output_attentions, output_hidden_states, \n",
    "                 use_return_dict)\n",
    "        self.decoder = ViTMAEDecoder(num_channels, decoder_num_hidden_layers, patch_size, hidden_size, \n",
    "                 decoder_hidden_size, num_attention_heads, qkv_bias, attention_probs_dropout_prob, \n",
    "                 hidden_dropout_prob, intermediate_size, layer_norm_eps, chunk_size_feed_forward, \n",
    "                 initializer_range, num_patches=self.vit.embeddings.num_patches)\n",
    "\n",
    "        # Initialize weights and apply final processing\n",
    "\n",
    "    def get_input_embeddings(self):\n",
    "        return self.vit.embeddings.patch_embeddings\n",
    "\n",
    "    def _prune_heads(self, heads_to_prune):\n",
    "        \"\"\"\n",
    "        Prunes heads of the model. heads_to_prune: dict of {layer_num: list of heads to prune in this layer} See base\n",
    "        class PreTrainedModel\n",
    "        \"\"\"\n",
    "        for layer, heads in heads_to_prune.items():\n",
    "            self.encoder.layer[layer].attention.prune_heads(heads)\n",
    "\n",
    "    def patchify(self, pixel_values):\n",
    "        \"\"\"\n",
    "        Args:\n",
    "            pixel_values (`torch.FloatTensor` of shape `(batch_size, num_channels, height, width)`):\n",
    "                Pixel values.\n",
    "        Returns:\n",
    "            `torch.FloatTensor` of shape `(batch_size, num_patches, patch_size**2 * num_channels)`:\n",
    "                Patchified pixel values.\n",
    "        \"\"\"\n",
    "        patch_size, num_channels = self.patch_size, self.num_channels\n",
    "        # sanity checks\n",
    "        if (pixel_values.shape[2] != pixel_values.shape[3]) or (pixel_values.shape[2] % patch_size != 0):\n",
    "            raise ValueError(\"Make sure the pixel values have a squared size that is divisible by the patch size\")\n",
    "        if pixel_values.shape[1] != num_channels:\n",
    "            raise ValueError(\n",
    "                \"Make sure the number of channels of the pixel values is equal to the one set in the configuration\"\n",
    "            )\n",
    "\n",
    "        # patchify\n",
    "        batch_size = pixel_values.shape[0]\n",
    "        num_patches_one_direction = pixel_values.shape[2] // patch_size\n",
    "        patchified_pixel_values = pixel_values.reshape(\n",
    "            batch_size, num_channels, num_patches_one_direction, patch_size, num_patches_one_direction, patch_size\n",
    "        )\n",
    "        patchified_pixel_values = torch.einsum(\"nchpwq->nhwpqc\", patchified_pixel_values)\n",
    "        patchified_pixel_values = patchified_pixel_values.reshape(\n",
    "            batch_size, num_patches_one_direction * num_patches_one_direction, patch_size**2 * num_channels\n",
    "        )\n",
    "        return patchified_pixel_values\n",
    "\n",
    "    def unpatchify(self, patchified_pixel_values):\n",
    "        \"\"\"\n",
    "        Args:\n",
    "            patchified_pixel_values (`torch.FloatTensor` of shape `(batch_size, num_patches, patch_size**2 * num_channels)`:\n",
    "                Patchified pixel values.\n",
    "        Returns:\n",
    "            `torch.FloatTensor` of shape `(batch_size, num_channels, height, width)`:\n",
    "                Pixel values.\n",
    "        \"\"\"\n",
    "        patch_size, num_channels = self.patch_size, self.num_channels\n",
    "        num_patches_one_direction = int(patchified_pixel_values.shape[1] ** 0.5)\n",
    "        # sanity check\n",
    "        if num_patches_one_direction**2 != patchified_pixel_values.shape[1]:\n",
    "            raise ValueError(\"Make sure that the number of patches can be squared\")\n",
    "\n",
    "        # unpatchify\n",
    "        batch_size = patchified_pixel_values.shape[0]\n",
    "        patchified_pixel_values = patchified_pixel_values.reshape(\n",
    "            batch_size,\n",
    "            num_patches_one_direction,\n",
    "            num_patches_one_direction,\n",
    "            patch_size,\n",
    "            patch_size,\n",
    "            num_channels,\n",
    "        )\n",
    "        patchified_pixel_values = torch.einsum(\"nhwpqc->nchpwq\", patchified_pixel_values)\n",
    "        pixel_values = patchified_pixel_values.reshape(\n",
    "            batch_size,\n",
    "            num_channels,\n",
    "            num_patches_one_direction * patch_size,\n",
    "            num_patches_one_direction * patch_size,\n",
    "        )\n",
    "        return pixel_values\n",
    "\n",
    "    def forward_loss(self, pixel_values, pred, mask):\n",
    "        \"\"\"\n",
    "        Args:\n",
    "            pixel_values (`torch.FloatTensor` of shape `(batch_size, num_channels, height, width)`):\n",
    "                Pixel values.\n",
    "            pred (`torch.FloatTensor` of shape `(batch_size, num_patches, patch_size**2 * num_channels)`:\n",
    "                Predicted pixel values.\n",
    "            mask (`torch.FloatTensor` of shape `(batch_size, sequence_length)`):\n",
    "                Tensor indicating which patches are masked (1) and which are not (0).\n",
    "        Returns:\n",
    "            `torch.FloatTensor`: Pixel reconstruction loss.\n",
    "        \"\"\"\n",
    "        target = self.patchify(pixel_values)\n",
    "        if self.norm_pix_loss:\n",
    "            mean = target.mean(dim=-1, keepdim=True)\n",
    "            var = target.var(dim=-1, keepdim=True)\n",
    "            target = (target - mean) / (var + 1.0e-6) ** 0.5\n",
    "\n",
    "        loss = (pred - target) ** 2\n",
    "        loss = loss.mean(dim=-1)  # [N, L], mean loss per patch\n",
    "\n",
    "        loss = (loss * mask).sum() / mask.sum()  # mean loss on removed patches\n",
    "        return loss\n",
    "\n",
    "    def forward(\n",
    "        self,\n",
    "        pixel_values: Optional[torch.FloatTensor] = None,\n",
    "        noise: Optional[torch.FloatTensor] = None,\n",
    "        head_mask: Optional[torch.FloatTensor] = None,\n",
    "        output_attentions: Optional[bool] = None,\n",
    "        output_hidden_states: Optional[bool] = None,\n",
    "        return_dict: Optional[bool] = None,\n",
    "    ) -> Union[Tuple]:\n",
    "        r\"\"\"\n",
    "        Returns:\n",
    "        Examples:\n",
    "        ```python\n",
    "        >>> from transformers import AutoImageProcessor, ViTMAEForPreTraining\n",
    "        >>> from PIL import Image\n",
    "        >>> import requests\n",
    "        >>> url = \"http://images.cocodataset.org/val2017/000000039769.jpg\"\n",
    "        >>> image = Image.open(requests.get(url, stream=True).raw)\n",
    "        >>> image_processor = AutoImageProcessor.from_pretrained(\"facebook/vit-mae-base\")\n",
    "        >>> model = ViTMAEForPreTraining.from_pretrained(\"facebook/vit-mae-base\")\n",
    "        >>> inputs = image_processor(images=image, return_tensors=\"pt\")\n",
    "        >>> outputs = model(**inputs)\n",
    "        >>> loss = outputs.loss\n",
    "        >>> mask = outputs.mask\n",
    "        >>> ids_restore = outputs.ids_restore\n",
    "        ```\"\"\"\n",
    "        return_dict = return_dict if return_dict is not None else self.use_return_dict\n",
    "\n",
    "        outputs = self.vit(\n",
    "            pixel_values,\n",
    "            noise=noise,\n",
    "            head_mask=head_mask,\n",
    "            output_attentions=output_attentions,\n",
    "            output_hidden_states=output_hidden_states,\n",
    "            return_dict=return_dict,\n",
    "        )\n",
    "\n",
    "        latent = outputs.last_hidden_state\n",
    "        ids_restore = outputs.ids_restore\n",
    "        mask = outputs.mask\n",
    "\n",
    "        decoder_outputs = self.decoder(latent, ids_restore)\n",
    "        logits = decoder_outputs.logits  # shape (batch_size, num_patches, patch_size*patch_size*num_channels)\n",
    "\n",
    "        #loss = self.forward_loss(pixel_values, logits, mask)\n",
    "\n",
    "        if not return_dict:\n",
    "            return ViTMAEForPreTrainingOutput(\n",
    "                logits=logits,\n",
    "                mask=mask,\n",
    "                ids_restore=ids_restore,\n",
    "                hidden_states=outputs.hidden_states,\n",
    "                attentions=outputs.attentions\n",
    "            )"
   ]
  },
  {
   "cell_type": "code",
   "execution_count": 23,
   "metadata": {},
   "outputs": [],
   "source": [
    "num_channels=3\n",
    "image_size=64\n",
    "patch_size=4\n",
    "initializer_range=0.02\n",
    "mask_ratio=0.5\n",
    "hidden_size=64\n",
    "decoder_hidden_size=64\n",
    "num_hidden_layers=2\n",
    "decoder_num_hidden_layers=2\n",
    "num_attention_heads=2\n",
    "qkv_bias=True,\n",
    "attention_probs_dropout_prob=0\n",
    "hidden_dropout_prob=0\n",
    "intermediate_size=128\n",
    "layer_norm_eps=1e-12\n",
    "chunk_size_feed_forward=0\n",
    "norm_pix_loss=True\n",
    "output_attentions=True\n",
    "output_hidden_states=True\n",
    "use_return_dict=False\n",
    "\n",
    "modelMAE = ViTMAEForPreTraining(\n",
    "    num_channels=num_channels,\n",
    "    image_size=image_size,\n",
    "    patch_size=patch_size,\n",
    "    initializer_range=initializer_range,\n",
    "    mask_ratio=mask_ratio,\n",
    "    hidden_size=hidden_size,\n",
    "    decoder_hidden_size=decoder_hidden_size,\n",
    "    num_hidden_layers=num_hidden_layers,\n",
    "    decoder_num_hidden_layers=decoder_num_hidden_layers,\n",
    "    num_attention_heads=num_attention_heads,\n",
    "    qkv_bias=qkv_bias,\n",
    "    attention_probs_dropout_prob=attention_probs_dropout_prob,\n",
    "    hidden_dropout_prob=hidden_dropout_prob,\n",
    "    intermediate_size=intermediate_size,\n",
    "    layer_norm_eps=layer_norm_eps,\n",
    "    chunk_size_feed_forward=chunk_size_feed_forward,\n",
    "    norm_pix_loss=norm_pix_loss,\n",
    "    output_attentions=output_attentions,\n",
    "    output_hidden_states=output_hidden_states,\n",
    "    use_return_dict=use_return_dict\n",
    ")"
   ]
  },
  {
   "cell_type": "code",
   "execution_count": 24,
   "metadata": {},
   "outputs": [
    {
     "name": "stdout",
     "output_type": "stream",
     "text": [
      "logits shape: torch.Size([5, 3, 64, 64])\n",
      "ids_restore shape: torch.Size([5, 256])\n"
     ]
    }
   ],
   "source": [
    "sample_image = torch.rand(5, 3, 64, 64)\n",
    "outputs = modelMAE(pixel_values=sample_image)\n",
    "logits, mask, ids_restore, hidden_states, attentions = outputs\n",
    "print(\"logits shape:\", logits.shape)\n",
    "print(\"ids_restore shape:\", ids_restore.shape)"
   ]
  },
  {
   "cell_type": "code",
   "execution_count": 25,
   "metadata": {},
   "outputs": [],
   "source": [
    "import os\n",
    "import glob\n",
    "import torch\n",
    "import torchvision\n",
    "import torchvision.transforms as transforms\n",
    "from PIL import Image\n",
    "from torch.utils.data import Dataset\n",
    "import torch.optim as optim\n",
    "import matplotlib.pyplot as plt\n",
    "import numpy as np\n",
    "from tqdm import tqdm "
   ]
  },
  {
   "cell_type": "code",
   "execution_count": 26,
   "metadata": {},
   "outputs": [],
   "source": [
    "class CustomDataset(Dataset):\n",
    "    def __init__(self, lr_folder, hr_folder, transform=None):\n",
    "        self.lr_images = sorted(glob.glob(os.path.join(lr_folder, '*')))\n",
    "        self.hr_images = sorted(glob.glob(os.path.join(hr_folder, '*')))\n",
    "        self.transform = transform\n",
    "\n",
    "    def __len__(self):\n",
    "        return len(self.lr_images)\n",
    "\n",
    "    def __getitem__(self, idx):\n",
    "        lr_image = Image.open(self.lr_images[idx]).convert('RGB')\n",
    "        hr_image = Image.open(self.hr_images[idx]).convert('RGB')\n",
    "\n",
    "        if self.transform:\n",
    "            lr_image = self.transform(lr_image)\n",
    "            hr_image = self.transform(hr_image)\n",
    "\n",
    "        return lr_image, hr_image"
   ]
  },
  {
   "cell_type": "code",
   "execution_count": 27,
   "metadata": {},
   "outputs": [],
   "source": [
    "from torch.utils.data import DataLoader\n",
    "\n",
    "# Set paths for low-resolution and high-resolution image folders\n",
    "lr_folder = 'D:\\deep learning specialization\\Vision Transformer\\DIV2K_train_LR_bicubic_X2'\n",
    "hr_folder = 'D:\\deep learning specialization\\Vision Transformer\\DIV2K_train_LR_bicubic_X2'\n",
    "\n",
    "# Create dataset and data loader\n",
    "transform = transforms.Compose([\n",
    "    transforms.ToTensor()\n",
    "])\n",
    "\n",
    "dataset = CustomDataset(lr_folder, hr_folder, transform=transform)\n",
    "data_loader = DataLoader(dataset, batch_size=16, shuffle=True)"
   ]
  },
  {
   "cell_type": "code",
   "execution_count": 28,
   "metadata": {},
   "outputs": [],
   "source": [
    "loss_function = torch.nn.MSELoss()\n",
    "optimizer = optim.Adam(modelMAE.parameters(), lr=0.001)"
   ]
  },
  {
   "cell_type": "code",
   "execution_count": 29,
   "metadata": {},
   "outputs": [],
   "source": [
    "def imshow(img):\n",
    "    img = img / 2 + 0.5  # unnormalize\n",
    "    npimg = img.detach().numpy()\n",
    "    plt.imshow(np.transpose(npimg, (1, 2, 0)))\n",
    "    plt.show()"
   ]
  },
  {
   "cell_type": "code",
   "execution_count": 30,
   "metadata": {},
   "outputs": [],
   "source": [
    "dataiter = iter(data_loader)\n",
    "images, labels = next(dataiter)"
   ]
  },
  {
   "cell_type": "code",
   "execution_count": 31,
   "metadata": {},
   "outputs": [
    {
     "data": {
      "image/png": "[encoded data removed]",
      "text/plain": [
       "<Figure size 432x288 with 1 Axes>"
      ]
     },
     "metadata": {
      "needs_background": "light"
     },
     "output_type": "display_data"
    }
   ],
   "source": [
    "imshow(torchvision.utils.make_grid(images[0]))"
   ]
  },
  {
   "cell_type": "code",
   "execution_count": 32,
   "metadata": {},
   "outputs": [
    {
     "data": {
      "image/png": "[encoded data removed]",
      "text/plain": [
       "<Figure size 432x288 with 1 Axes>"
      ]
     },
     "metadata": {
      "needs_background": "light"
     },
     "output_type": "display_data"
    }
   ],
   "source": [
    "imshow(torchvision.utils.make_grid(labels[0]))"
   ]
  },
  {
   "cell_type": "code",
   "execution_count": 33,
   "metadata": {},
   "outputs": [],
   "source": [
    "num_epochs = 100\n",
    "device = torch.device('cpu')"
   ]
  },
  {
   "cell_type": "code",
   "execution_count": 34,
   "metadata": {},
   "outputs": [
    {
     "name": "stderr",
     "output_type": "stream",
     "text": [
      "100%|██████████████████████████████████████████████████████████████████████████████████| 50/50 [00:12<00:00,  4.10it/s]\n",
      "  2%|█▋                                                                                 | 1/50 [00:00<00:06,  7.19it/s]"
     ]
    },
    {
     "name": "stdout",
     "output_type": "stream",
     "text": [
      "Epoch: 0 Loss: 0.04411652684211731\n"
     ]
    },
    {
     "name": "stderr",
     "output_type": "stream",
     "text": [
      "100%|██████████████████████████████████████████████████████████████████████████████████| 50/50 [00:08<00:00,  5.66it/s]\n",
      "  2%|█▋                                                                                 | 1/50 [00:00<00:06,  7.57it/s]"
     ]
    },
    {
     "name": "stdout",
     "output_type": "stream",
     "text": [
      "Epoch: 1 Loss: 0.03201250359416008\n"
     ]
    },
    {
     "name": "stderr",
     "output_type": "stream",
     "text": [
      "100%|██████████████████████████████████████████████████████████████████████████████████| 50/50 [00:08<00:00,  6.07it/s]\n",
      "  2%|█▋                                                                                 | 1/50 [00:00<00:07,  6.53it/s]"
     ]
    },
    {
     "name": "stdout",
     "output_type": "stream",
     "text": [
      "Epoch: 2 Loss: 0.029678111895918846\n"
     ]
    },
    {
     "name": "stderr",
     "output_type": "stream",
     "text": [
      "100%|██████████████████████████████████████████████████████████████████████████████████| 50/50 [00:08<00:00,  5.94it/s]\n",
      "  0%|                                                                                           | 0/50 [00:00<?, ?it/s]"
     ]
    },
    {
     "name": "stdout",
     "output_type": "stream",
     "text": [
      "Epoch: 3 Loss: 0.024256819859147072\n"
     ]
    },
    {
     "name": "stderr",
     "output_type": "stream",
     "text": [
      "100%|██████████████████████████████████████████████████████████████████████████████████| 50/50 [00:08<00:00,  5.74it/s]\n",
      "  2%|█▋                                                                                 | 1/50 [00:00<00:06,  7.30it/s]"
     ]
    },
    {
     "name": "stdout",
     "output_type": "stream",
     "text": [
      "Epoch: 4 Loss: 0.020662536844611168\n"
     ]
    },
    {
     "name": "stderr",
     "output_type": "stream",
     "text": [
      "100%|██████████████████████████████████████████████████████████████████████████████████| 50/50 [00:08<00:00,  5.96it/s]\n",
      "  2%|█▋                                                                                 | 1/50 [00:00<00:06,  7.04it/s]"
     ]
    },
    {
     "name": "stdout",
     "output_type": "stream",
     "text": [
      "Epoch: 5 Loss: 0.018197983503341675\n"
     ]
    },
    {
     "name": "stderr",
     "output_type": "stream",
     "text": [
      "100%|██████████████████████████████████████████████████████████████████████████████████| 50/50 [00:09<00:00,  5.53it/s]\n",
      "  2%|█▋                                                                                 | 1/50 [00:00<00:07,  6.53it/s]"
     ]
    },
    {
     "name": "stdout",
     "output_type": "stream",
     "text": [
      "Epoch: 6 Loss: 0.016080427914857864\n"
     ]
    },
    {
     "name": "stderr",
     "output_type": "stream",
     "text": [
      "100%|██████████████████████████████████████████████████████████████████████████████████| 50/50 [00:08<00:00,  6.08it/s]\n",
      "  2%|█▋                                                                                 | 1/50 [00:00<00:07,  6.21it/s]"
     ]
    },
    {
     "name": "stdout",
     "output_type": "stream",
     "text": [
      "Epoch: 7 Loss: 0.014706403017044067\n"
     ]
    },
    {
     "name": "stderr",
     "output_type": "stream",
     "text": [
      "100%|██████████████████████████████████████████████████████████████████████████████████| 50/50 [00:08<00:00,  6.10it/s]\n",
      "  2%|█▋                                                                                 | 1/50 [00:00<00:09,  5.38it/s]"
     ]
    },
    {
     "name": "stdout",
     "output_type": "stream",
     "text": [
      "Epoch: 8 Loss: 0.013234484009444714\n"
     ]
    },
    {
     "name": "stderr",
     "output_type": "stream",
     "text": [
      "100%|██████████████████████████████████████████████████████████████████████████████████| 50/50 [00:08<00:00,  5.66it/s]\n",
      "  2%|█▋                                                                                 | 1/50 [00:00<00:07,  6.13it/s]"
     ]
    },
    {
     "name": "stdout",
     "output_type": "stream",
     "text": [
      "Epoch: 9 Loss: 0.01702040433883667\n"
     ]
    },
    {
     "name": "stderr",
     "output_type": "stream",
     "text": [
      "100%|██████████████████████████████████████████████████████████████████████████████████| 50/50 [00:08<00:00,  6.01it/s]\n",
      "  2%|█▋                                                                                 | 1/50 [00:00<00:06,  7.35it/s]"
     ]
    },
    {
     "name": "stdout",
     "output_type": "stream",
     "text": [
      "Epoch: 10 Loss: 0.01618635095655918\n"
     ]
    },
    {
     "name": "stderr",
     "output_type": "stream",
     "text": [
      "100%|██████████████████████████████████████████████████████████████████████████████████| 50/50 [00:08<00:00,  6.04it/s]\n",
      "  0%|                                                                                           | 0/50 [00:00<?, ?it/s]"
     ]
    },
    {
     "name": "stdout",
     "output_type": "stream",
     "text": [
      "Epoch: 11 Loss: 0.013827850110828876\n"
     ]
    },
    {
     "name": "stderr",
     "output_type": "stream",
     "text": [
      "100%|██████████████████████████████████████████████████████████████████████████████████| 50/50 [00:08<00:00,  5.66it/s]\n",
      "  2%|█▋                                                                                 | 1/50 [00:00<00:07,  6.37it/s]"
     ]
    },
    {
     "name": "stdout",
     "output_type": "stream",
     "text": [
      "Epoch: 12 Loss: 0.014931335113942623\n"
     ]
    },
    {
     "name": "stderr",
     "output_type": "stream",
     "text": [
      "100%|██████████████████████████████████████████████████████████████████████████████████| 50/50 [00:08<00:00,  6.07it/s]\n",
      "  2%|█▋                                                                                 | 1/50 [00:00<00:08,  6.10it/s]"
     ]
    },
    {
     "name": "stdout",
     "output_type": "stream",
     "text": [
      "Epoch: 13 Loss: 0.01316565740853548\n"
     ]
    },
    {
     "name": "stderr",
     "output_type": "stream",
     "text": [
      "100%|██████████████████████████████████████████████████████████████████████████████████| 50/50 [00:09<00:00,  5.49it/s]\n",
      "  2%|█▋                                                                                 | 1/50 [00:00<00:07,  6.45it/s]"
     ]
    },
    {
     "name": "stdout",
     "output_type": "stream",
     "text": [
      "Epoch: 14 Loss: 0.010660125873982906\n"
     ]
    },
    {
     "name": "stderr",
     "output_type": "stream",
     "text": [
      "100%|██████████████████████████████████████████████████████████████████████████████████| 50/50 [00:08<00:00,  6.00it/s]\n",
      "  2%|█▋                                                                                 | 1/50 [00:00<00:06,  7.19it/s]"
     ]
    },
    {
     "name": "stdout",
     "output_type": "stream",
     "text": [
      "Epoch: 15 Loss: 0.013685985468327999\n"
     ]
    },
    {
     "name": "stderr",
     "output_type": "stream",
     "text": [
      "100%|██████████████████████████████████████████████████████████████████████████████████| 50/50 [00:08<00:00,  6.23it/s]\n",
      "  0%|                                                                                           | 0/50 [00:00<?, ?it/s]"
     ]
    },
    {
     "name": "stdout",
     "output_type": "stream",
     "text": [
      "Epoch: 16 Loss: 0.013892185874283314\n"
     ]
    },
    {
     "name": "stderr",
     "output_type": "stream",
     "text": [
      "100%|██████████████████████████████████████████████████████████████████████████████████| 50/50 [00:09<00:00,  5.38it/s]\n",
      "  2%|█▋                                                                                 | 1/50 [00:00<00:06,  7.14it/s]"
     ]
    },
    {
     "name": "stdout",
     "output_type": "stream",
     "text": [
      "Epoch: 17 Loss: 0.011591047048568726\n"
     ]
    },
    {
     "name": "stderr",
     "output_type": "stream",
     "text": [
      "100%|██████████████████████████████████████████████████████████████████████████████████| 50/50 [00:08<00:00,  6.17it/s]\n",
      "  2%|█▋                                                                                 | 1/50 [00:00<00:06,  7.63it/s]"
     ]
    },
    {
     "name": "stdout",
     "output_type": "stream",
     "text": [
      "Epoch: 18 Loss: 0.010777264833450317\n"
     ]
    },
    {
     "name": "stderr",
     "output_type": "stream",
     "text": [
      "100%|██████████████████████████████████████████████████████████████████████████████████| 50/50 [00:10<00:00,  4.70it/s]\n",
      "  2%|█▋                                                                                 | 1/50 [00:00<00:08,  5.62it/s]"
     ]
    },
    {
     "name": "stdout",
     "output_type": "stream",
     "text": [
      "Epoch: 19 Loss: 0.009849931113421917\n"
     ]
    },
    {
     "name": "stderr",
     "output_type": "stream",
     "text": [
      "100%|██████████████████████████████████████████████████████████████████████████████████| 50/50 [00:09<00:00,  5.50it/s]\n",
      "  2%|█▋                                                                                 | 1/50 [00:00<00:05,  8.19it/s]"
     ]
    },
    {
     "name": "stdout",
     "output_type": "stream",
     "text": [
      "Epoch: 20 Loss: 0.013249577023088932\n"
     ]
    },
    {
     "name": "stderr",
     "output_type": "stream",
     "text": [
      "100%|██████████████████████████████████████████████████████████████████████████████████| 50/50 [00:09<00:00,  5.43it/s]\n",
      "  2%|█▋                                                                                 | 1/50 [00:00<00:07,  6.99it/s]"
     ]
    },
    {
     "name": "stdout",
     "output_type": "stream",
     "text": [
      "Epoch: 21 Loss: 0.012999165803194046\n"
     ]
    },
    {
     "name": "stderr",
     "output_type": "stream",
     "text": [
      "100%|██████████████████████████████████████████████████████████████████████████████████| 50/50 [00:08<00:00,  6.06it/s]\n",
      "  2%|█▋                                                                                 | 1/50 [00:00<00:06,  7.46it/s]"
     ]
    },
    {
     "name": "stdout",
     "output_type": "stream",
     "text": [
      "Epoch: 22 Loss: 0.012535597197711468\n"
     ]
    },
    {
     "name": "stderr",
     "output_type": "stream",
     "text": [
      "100%|██████████████████████████████████████████████████████████████████████████████████| 50/50 [00:08<00:00,  5.58it/s]\n",
      "  2%|█▋                                                                                 | 1/50 [00:00<00:09,  5.08it/s]"
     ]
    },
    {
     "name": "stdout",
     "output_type": "stream",
     "text": [
      "Epoch: 23 Loss: 0.011228390969336033\n"
     ]
    },
    {
     "name": "stderr",
     "output_type": "stream",
     "text": [
      "100%|██████████████████████████████████████████████████████████████████████████████████| 50/50 [00:08<00:00,  5.85it/s]\n",
      "  2%|█▋                                                                                 | 1/50 [00:00<00:08,  5.68it/s]"
     ]
    },
    {
     "name": "stdout",
     "output_type": "stream",
     "text": [
      "Epoch: 24 Loss: 0.010728769935667515\n"
     ]
    },
    {
     "name": "stderr",
     "output_type": "stream",
     "text": [
      "100%|██████████████████████████████████████████████████████████████████████████████████| 50/50 [00:08<00:00,  6.20it/s]\n",
      "  2%|█▋                                                                                 | 1/50 [00:00<00:07,  6.49it/s]"
     ]
    },
    {
     "name": "stdout",
     "output_type": "stream",
     "text": [
      "Epoch: 25 Loss: 0.011812624521553516\n"
     ]
    },
    {
     "name": "stderr",
     "output_type": "stream",
     "text": [
      "100%|██████████████████████████████████████████████████████████████████████████████████| 50/50 [00:08<00:00,  5.65it/s]\n",
      "  2%|█▋                                                                                 | 1/50 [00:00<00:07,  6.99it/s]"
     ]
    },
    {
     "name": "stdout",
     "output_type": "stream",
     "text": [
      "Epoch: 26 Loss: 0.010818272829055786\n"
     ]
    },
    {
     "name": "stderr",
     "output_type": "stream",
     "text": [
      "100%|██████████████████████████████████████████████████████████████████████████████████| 50/50 [00:08<00:00,  5.97it/s]\n",
      "  2%|█▋                                                                                 | 1/50 [00:00<00:07,  6.76it/s]"
     ]
    },
    {
     "name": "stdout",
     "output_type": "stream",
     "text": [
      "Epoch: 27 Loss: 0.011627908796072006\n"
     ]
    },
    {
     "name": "stderr",
     "output_type": "stream",
     "text": [
      "100%|██████████████████████████████████████████████████████████████████████████████████| 50/50 [00:08<00:00,  6.07it/s]\n",
      "  0%|                                                                                           | 0/50 [00:00<?, ?it/s]"
     ]
    },
    {
     "name": "stdout",
     "output_type": "stream",
     "text": [
      "Epoch: 28 Loss: 0.009994854219257832\n"
     ]
    },
    {
     "name": "stderr",
     "output_type": "stream",
     "text": [
      "100%|██████████████████████████████████████████████████████████████████████████████████| 50/50 [00:08<00:00,  5.56it/s]\n",
      "  2%|█▋                                                                                 | 1/50 [00:00<00:06,  7.69it/s]"
     ]
    },
    {
     "name": "stdout",
     "output_type": "stream",
     "text": [
      "Epoch: 29 Loss: 0.012168758548796177\n"
     ]
    },
    {
     "name": "stderr",
     "output_type": "stream",
     "text": [
      "100%|██████████████████████████████████████████████████████████████████████████████████| 50/50 [00:08<00:00,  6.12it/s]\n",
      "  2%|█▋                                                                                 | 1/50 [00:00<00:06,  7.09it/s]"
     ]
    },
    {
     "name": "stdout",
     "output_type": "stream",
     "text": [
      "Epoch: 30 Loss: 0.008521365001797676\n"
     ]
    },
    {
     "name": "stderr",
     "output_type": "stream",
     "text": [
      "100%|██████████████████████████████████████████████████████████████████████████████████| 50/50 [00:08<00:00,  5.69it/s]\n",
      "  0%|                                                                                           | 0/50 [00:00<?, ?it/s]"
     ]
    },
    {
     "name": "stdout",
     "output_type": "stream",
     "text": [
      "Epoch: 31 Loss: 0.012805395759642124\n"
     ]
    },
    {
     "name": "stderr",
     "output_type": "stream",
     "text": [
      "100%|██████████████████████████████████████████████████████████████████████████████████| 50/50 [00:08<00:00,  5.97it/s]\n",
      "  2%|█▋                                                                                 | 1/50 [00:00<00:06,  7.19it/s]"
     ]
    },
    {
     "name": "stdout",
     "output_type": "stream",
     "text": [
      "Epoch: 32 Loss: 0.009522121399641037\n"
     ]
    },
    {
     "name": "stderr",
     "output_type": "stream",
     "text": [
      "100%|██████████████████████████████████████████████████████████████████████████████████| 50/50 [00:08<00:00,  6.23it/s]\n",
      "  2%|█▋                                                                                 | 1/50 [00:00<00:07,  6.13it/s]"
     ]
    },
    {
     "name": "stdout",
     "output_type": "stream",
     "text": [
      "Epoch: 33 Loss: 0.009993473999202251\n"
     ]
    },
    {
     "name": "stderr",
     "output_type": "stream",
     "text": [
      "100%|██████████████████████████████████████████████████████████████████████████████████| 50/50 [00:08<00:00,  5.70it/s]\n",
      "  0%|                                                                                           | 0/50 [00:00<?, ?it/s]"
     ]
    },
    {
     "name": "stdout",
     "output_type": "stream",
     "text": [
      "Epoch: 34 Loss: 0.013604588806629181\n"
     ]
    },
    {
     "name": "stderr",
     "output_type": "stream",
     "text": [
      "100%|██████████████████████████████████████████████████████████████████████████████████| 50/50 [00:08<00:00,  5.99it/s]\n",
      "  2%|█▋                                                                                 | 1/50 [00:00<00:07,  6.25it/s]"
     ]
    },
    {
     "name": "stdout",
     "output_type": "stream",
     "text": [
      "Epoch: 35 Loss: 0.009020179510116577\n"
     ]
    },
    {
     "name": "stderr",
     "output_type": "stream",
     "text": [
      "100%|██████████████████████████████████████████████████████████████████████████████████| 50/50 [00:08<00:00,  6.17it/s]\n",
      "  2%|█▋                                                                                 | 1/50 [00:00<00:07,  6.85it/s]"
     ]
    },
    {
     "name": "stdout",
     "output_type": "stream",
     "text": [
      "Epoch: 36 Loss: 0.010397887788712978\n"
     ]
    },
    {
     "name": "stderr",
     "output_type": "stream",
     "text": [
      "100%|██████████████████████████████████████████████████████████████████████████████████| 50/50 [00:08<00:00,  5.77it/s]\n",
      "  2%|█▋                                                                                 | 1/50 [00:00<00:08,  5.88it/s]"
     ]
    },
    {
     "name": "stdout",
     "output_type": "stream",
     "text": [
      "Epoch: 37 Loss: 0.013973926194012165\n"
     ]
    },
    {
     "name": "stderr",
     "output_type": "stream",
     "text": [
      "100%|██████████████████████████████████████████████████████████████████████████████████| 50/50 [00:08<00:00,  6.03it/s]\n",
      "  2%|█▋                                                                                 | 1/50 [00:00<00:07,  6.21it/s]"
     ]
    },
    {
     "name": "stdout",
     "output_type": "stream",
     "text": [
      "Epoch: 38 Loss: 0.010187403298914433\n"
     ]
    },
    {
     "name": "stderr",
     "output_type": "stream",
     "text": [
      "100%|██████████████████████████████████████████████████████████████████████████████████| 50/50 [00:08<00:00,  6.19it/s]\n",
      "  2%|█▋                                                                                 | 1/50 [00:00<00:07,  6.80it/s]"
     ]
    },
    {
     "name": "stdout",
     "output_type": "stream",
     "text": [
      "Epoch: 39 Loss: 0.008651371113955975\n"
     ]
    },
    {
     "name": "stderr",
     "output_type": "stream",
     "text": [
      "100%|██████████████████████████████████████████████████████████████████████████████████| 50/50 [00:08<00:00,  5.59it/s]\n",
      "  2%|█▋                                                                                 | 1/50 [00:00<00:05,  8.55it/s]"
     ]
    },
    {
     "name": "stdout",
     "output_type": "stream",
     "text": [
      "Epoch: 40 Loss: 0.010299808345735073\n"
     ]
    },
    {
     "name": "stderr",
     "output_type": "stream",
     "text": [
      "100%|██████████████████████████████████████████████████████████████████████████████████| 50/50 [00:08<00:00,  5.98it/s]\n",
      "  2%|█▋                                                                                 | 1/50 [00:00<00:07,  6.76it/s]"
     ]
    },
    {
     "name": "stdout",
     "output_type": "stream",
     "text": [
      "Epoch: 41 Loss: 0.01021707896143198\n"
     ]
    },
    {
     "name": "stderr",
     "output_type": "stream",
     "text": [
      "100%|██████████████████████████████████████████████████████████████████████████████████| 50/50 [00:08<00:00,  5.91it/s]\n",
      "  2%|█▋                                                                                 | 1/50 [00:00<00:09,  4.97it/s]"
     ]
    },
    {
     "name": "stdout",
     "output_type": "stream",
     "text": [
      "Epoch: 42 Loss: 0.010268766433000565\n"
     ]
    },
    {
     "name": "stderr",
     "output_type": "stream",
     "text": [
      "100%|██████████████████████████████████████████████████████████████████████████████████| 50/50 [00:08<00:00,  5.78it/s]\n",
      "  2%|█▋                                                                                 | 1/50 [00:00<00:07,  6.85it/s]"
     ]
    },
    {
     "name": "stdout",
     "output_type": "stream",
     "text": [
      "Epoch: 43 Loss: 0.011622880585491657\n"
     ]
    },
    {
     "name": "stderr",
     "output_type": "stream",
     "text": [
      "100%|██████████████████████████████████████████████████████████████████████████████████| 50/50 [00:08<00:00,  6.15it/s]\n",
      "  2%|█▋                                                                                 | 1/50 [00:00<00:06,  7.46it/s]"
     ]
    },
    {
     "name": "stdout",
     "output_type": "stream",
     "text": [
      "Epoch: 44 Loss: 0.007520081475377083\n"
     ]
    },
    {
     "name": "stderr",
     "output_type": "stream",
     "text": [
      "100%|██████████████████████████████████████████████████████████████████████████████████| 50/50 [00:08<00:00,  5.87it/s]\n",
      "  0%|                                                                                           | 0/50 [00:00<?, ?it/s]"
     ]
    },
    {
     "name": "stdout",
     "output_type": "stream",
     "text": [
      "Epoch: 45 Loss: 0.011301524005830288\n"
     ]
    },
    {
     "name": "stderr",
     "output_type": "stream",
     "text": [
      "100%|██████████████████████████████████████████████████████████████████████████████████| 50/50 [00:09<00:00,  5.54it/s]\n",
      "  2%|█▋                                                                                 | 1/50 [00:00<00:05,  8.62it/s]"
     ]
    },
    {
     "name": "stdout",
     "output_type": "stream",
     "text": [
      "Epoch: 46 Loss: 0.009917110204696655\n"
     ]
    },
    {
     "name": "stderr",
     "output_type": "stream",
     "text": [
      "100%|██████████████████████████████████████████████████████████████████████████████████| 50/50 [00:08<00:00,  5.98it/s]\n",
      "  2%|█▋                                                                                 | 1/50 [00:00<00:07,  6.85it/s]"
     ]
    },
    {
     "name": "stdout",
     "output_type": "stream",
     "text": [
      "Epoch: 47 Loss: 0.008108607493340969\n"
     ]
    },
    {
     "name": "stderr",
     "output_type": "stream",
     "text": [
      "100%|██████████████████████████████████████████████████████████████████████████████████| 50/50 [00:09<00:00,  5.23it/s]\n",
      "  2%|█▋                                                                                 | 1/50 [00:00<00:09,  4.95it/s]"
     ]
    },
    {
     "name": "stdout",
     "output_type": "stream",
     "text": [
      "Epoch: 48 Loss: 0.01108276192098856\n"
     ]
    },
    {
     "name": "stderr",
     "output_type": "stream",
     "text": [
      "100%|██████████████████████████████████████████████████████████████████████████████████| 50/50 [00:08<00:00,  5.65it/s]\n",
      "  2%|█▋                                                                                 | 1/50 [00:00<00:08,  5.78it/s]"
     ]
    },
    {
     "name": "stdout",
     "output_type": "stream",
     "text": [
      "Epoch: 49 Loss: 0.00873115099966526\n"
     ]
    },
    {
     "name": "stderr",
     "output_type": "stream",
     "text": [
      "100%|██████████████████████████████████████████████████████████████████████████████████| 50/50 [00:09<00:00,  5.16it/s]\n",
      "  2%|█▋                                                                                 | 1/50 [00:00<00:09,  5.29it/s]"
     ]
    },
    {
     "name": "stdout",
     "output_type": "stream",
     "text": [
      "Epoch: 50 Loss: 0.00888141617178917\n"
     ]
    },
    {
     "name": "stderr",
     "output_type": "stream",
     "text": [
      "100%|██████████████████████████████████████████████████████████████████████████████████| 50/50 [00:08<00:00,  5.94it/s]\n",
      "  2%|█▋                                                                                 | 1/50 [00:00<00:06,  7.63it/s]"
     ]
    },
    {
     "name": "stdout",
     "output_type": "stream",
     "text": [
      "Epoch: 51 Loss: 0.00889579951763153\n"
     ]
    },
    {
     "name": "stderr",
     "output_type": "stream",
     "text": [
      "100%|██████████████████████████████████████████████████████████████████████████████████| 50/50 [00:08<00:00,  5.57it/s]\n",
      "  2%|█▋                                                                                 | 1/50 [00:00<00:07,  6.80it/s]"
     ]
    },
    {
     "name": "stdout",
     "output_type": "stream",
     "text": [
      "Epoch: 52 Loss: 0.008678981103003025\n"
     ]
    },
    {
     "name": "stderr",
     "output_type": "stream",
     "text": [
      "100%|██████████████████████████████████████████████████████████████████████████████████| 50/50 [00:08<00:00,  5.96it/s]\n",
      "  2%|█▋                                                                                 | 1/50 [00:00<00:06,  7.14it/s]"
     ]
    },
    {
     "name": "stdout",
     "output_type": "stream",
     "text": [
      "Epoch: 53 Loss: 0.007618038449436426\n"
     ]
    },
    {
     "name": "stderr",
     "output_type": "stream",
     "text": [
      "100%|██████████████████████████████████████████████████████████████████████████████████| 50/50 [00:08<00:00,  5.97it/s]\n",
      "  2%|█▋                                                                                 | 1/50 [00:00<00:06,  7.04it/s]"
     ]
    },
    {
     "name": "stdout",
     "output_type": "stream",
     "text": [
      "Epoch: 54 Loss: 0.008953256532549858\n"
     ]
    },
    {
     "name": "stderr",
     "output_type": "stream",
     "text": [
      "100%|██████████████████████████████████████████████████████████████████████████████████| 50/50 [00:09<00:00,  5.51it/s]\n",
      "  2%|█▋                                                                                 | 1/50 [00:00<00:06,  7.75it/s]"
     ]
    },
    {
     "name": "stdout",
     "output_type": "stream",
     "text": [
      "Epoch: 55 Loss: 0.00913854781538248\n"
     ]
    },
    {
     "name": "stderr",
     "output_type": "stream",
     "text": [
      "100%|██████████████████████████████████████████████████████████████████████████████████| 50/50 [00:08<00:00,  6.07it/s]\n",
      "  2%|█▋                                                                                 | 1/50 [00:00<00:06,  7.93it/s]"
     ]
    },
    {
     "name": "stdout",
     "output_type": "stream",
     "text": [
      "Epoch: 56 Loss: 0.009941517375409603\n"
     ]
    },
    {
     "name": "stderr",
     "output_type": "stream",
     "text": [
      "100%|██████████████████████████████████████████████████████████████████████████████████| 50/50 [00:08<00:00,  5.93it/s]\n",
      "  2%|█▋                                                                                 | 1/50 [00:00<00:08,  6.10it/s]"
     ]
    },
    {
     "name": "stdout",
     "output_type": "stream",
     "text": [
      "Epoch: 57 Loss: 0.0096983527764678\n"
     ]
    },
    {
     "name": "stderr",
     "output_type": "stream",
     "text": [
      "100%|██████████████████████████████████████████████████████████████████████████████████| 50/50 [00:08<00:00,  5.61it/s]\n",
      "  2%|█▋                                                                                 | 1/50 [00:00<00:05,  8.47it/s]"
     ]
    },
    {
     "name": "stdout",
     "output_type": "stream",
     "text": [
      "Epoch: 58 Loss: 0.007829178124666214\n"
     ]
    },
    {
     "name": "stderr",
     "output_type": "stream",
     "text": [
      "100%|██████████████████████████████████████████████████████████████████████████████████| 50/50 [00:08<00:00,  6.08it/s]\n",
      "  2%|█▋                                                                                 | 1/50 [00:00<00:08,  5.95it/s]"
     ]
    },
    {
     "name": "stdout",
     "output_type": "stream",
     "text": [
      "Epoch: 59 Loss: 0.008066224865615368\n"
     ]
    },
    {
     "name": "stderr",
     "output_type": "stream",
     "text": [
      "100%|██████████████████████████████████████████████████████████████████████████████████| 50/50 [00:08<00:00,  5.56it/s]\n",
      "  2%|█▋                                                                                 | 1/50 [00:00<00:06,  7.09it/s]"
     ]
    },
    {
     "name": "stdout",
     "output_type": "stream",
     "text": [
      "Epoch: 60 Loss: 0.010031514801084995\n"
     ]
    },
    {
     "name": "stderr",
     "output_type": "stream",
     "text": [
      "100%|██████████████████████████████████████████████████████████████████████████████████| 50/50 [00:08<00:00,  6.03it/s]\n",
      "  2%|█▋                                                                                 | 1/50 [00:00<00:07,  6.99it/s]"
     ]
    },
    {
     "name": "stdout",
     "output_type": "stream",
     "text": [
      "Epoch: 61 Loss: 0.010438273660838604\n"
     ]
    },
    {
     "name": "stderr",
     "output_type": "stream",
     "text": [
      "100%|██████████████████████████████████████████████████████████████████████████████████| 50/50 [00:08<00:00,  5.97it/s]\n",
      "  0%|                                                                                           | 0/50 [00:00<?, ?it/s]"
     ]
    },
    {
     "name": "stdout",
     "output_type": "stream",
     "text": [
      "Epoch: 62 Loss: 0.007119397167116404\n"
     ]
    },
    {
     "name": "stderr",
     "output_type": "stream",
     "text": [
      "100%|██████████████████████████████████████████████████████████████████████████████████| 50/50 [00:09<00:00,  5.43it/s]\n",
      "  2%|█▋                                                                                 | 1/50 [00:00<00:06,  7.52it/s]"
     ]
    },
    {
     "name": "stdout",
     "output_type": "stream",
     "text": [
      "Epoch: 63 Loss: 0.010726735927164555\n"
     ]
    },
    {
     "name": "stderr",
     "output_type": "stream",
     "text": [
      "100%|██████████████████████████████████████████████████████████████████████████████████| 50/50 [00:08<00:00,  6.13it/s]\n",
      "  2%|█▋                                                                                 | 1/50 [00:00<00:08,  5.81it/s]"
     ]
    },
    {
     "name": "stdout",
     "output_type": "stream",
     "text": [
      "Epoch: 64 Loss: 0.010583124123513699\n"
     ]
    },
    {
     "name": "stderr",
     "output_type": "stream",
     "text": [
      "100%|██████████████████████████████████████████████████████████████████████████████████| 50/50 [00:09<00:00,  5.51it/s]\n",
      "  2%|█▋                                                                                 | 1/50 [00:00<00:07,  6.37it/s]"
     ]
    },
    {
     "name": "stdout",
     "output_type": "stream",
     "text": [
      "Epoch: 65 Loss: 0.008861118927598\n"
     ]
    },
    {
     "name": "stderr",
     "output_type": "stream",
     "text": [
      "100%|██████████████████████████████████████████████████████████████████████████████████| 50/50 [00:08<00:00,  6.14it/s]\n",
      "  2%|█▋                                                                                 | 1/50 [00:00<00:07,  6.29it/s]"
     ]
    },
    {
     "name": "stdout",
     "output_type": "stream",
     "text": [
      "Epoch: 66 Loss: 0.01100069284439087\n"
     ]
    },
    {
     "name": "stderr",
     "output_type": "stream",
     "text": [
      "100%|██████████████████████████████████████████████████████████████████████████████████| 50/50 [00:07<00:00,  6.31it/s]\n",
      "  2%|█▋                                                                                 | 1/50 [00:00<00:07,  6.71it/s]"
     ]
    },
    {
     "name": "stdout",
     "output_type": "stream",
     "text": [
      "Epoch: 67 Loss: 0.008928780443966389\n"
     ]
    },
    {
     "name": "stderr",
     "output_type": "stream",
     "text": [
      "100%|██████████████████████████████████████████████████████████████████████████████████| 50/50 [00:09<00:00,  5.51it/s]\n",
      "  2%|█▋                                                                                 | 1/50 [00:00<00:05,  8.85it/s]"
     ]
    },
    {
     "name": "stdout",
     "output_type": "stream",
     "text": [
      "Epoch: 68 Loss: 0.008553680963814259\n"
     ]
    },
    {
     "name": "stderr",
     "output_type": "stream",
     "text": [
      "100%|██████████████████████████████████████████████████████████████████████████████████| 50/50 [00:08<00:00,  5.76it/s]\n",
      "  2%|█▋                                                                                 | 1/50 [00:00<00:07,  6.85it/s]"
     ]
    },
    {
     "name": "stdout",
     "output_type": "stream",
     "text": [
      "Epoch: 69 Loss: 0.009497647173702717\n"
     ]
    },
    {
     "name": "stderr",
     "output_type": "stream",
     "text": [
      "100%|██████████████████████████████████████████████████████████████████████████████████| 50/50 [00:09<00:00,  5.34it/s]\n",
      "  2%|█▋                                                                                 | 1/50 [00:00<00:09,  4.92it/s]"
     ]
    },
    {
     "name": "stdout",
     "output_type": "stream",
     "text": [
      "Epoch: 70 Loss: 0.009094558656215668\n"
     ]
    },
    {
     "name": "stderr",
     "output_type": "stream",
     "text": [
      "100%|██████████████████████████████████████████████████████████████████████████████████| 50/50 [00:08<00:00,  5.79it/s]\n",
      "  2%|█▋                                                                                 | 1/50 [00:00<00:06,  7.30it/s]"
     ]
    },
    {
     "name": "stdout",
     "output_type": "stream",
     "text": [
      "Epoch: 71 Loss: 0.007842082530260086\n"
     ]
    },
    {
     "name": "stderr",
     "output_type": "stream",
     "text": [
      "100%|██████████████████████████████████████████████████████████████████████████████████| 50/50 [00:08<00:00,  5.77it/s]\n",
      "  2%|█▋                                                                                 | 1/50 [00:00<00:09,  5.13it/s]"
     ]
    },
    {
     "name": "stdout",
     "output_type": "stream",
     "text": [
      "Epoch: 72 Loss: 0.007394792977720499\n"
     ]
    },
    {
     "name": "stderr",
     "output_type": "stream",
     "text": [
      "100%|██████████████████████████████████████████████████████████████████████████████████| 50/50 [00:09<00:00,  5.51it/s]\n",
      "  2%|█▋                                                                                 | 1/50 [00:00<00:06,  7.81it/s]"
     ]
    },
    {
     "name": "stdout",
     "output_type": "stream",
     "text": [
      "Epoch: 73 Loss: 0.008242509327828884\n"
     ]
    },
    {
     "name": "stderr",
     "output_type": "stream",
     "text": [
      "100%|██████████████████████████████████████████████████████████████████████████████████| 50/50 [00:08<00:00,  6.15it/s]\n",
      "  0%|                                                                                           | 0/50 [00:00<?, ?it/s]"
     ]
    },
    {
     "name": "stdout",
     "output_type": "stream",
     "text": [
      "Epoch: 74 Loss: 0.006635178346186876\n"
     ]
    },
    {
     "name": "stderr",
     "output_type": "stream",
     "text": [
      "100%|██████████████████████████████████████████████████████████████████████████████████| 50/50 [00:09<00:00,  5.23it/s]\n",
      "  0%|                                                                                           | 0/50 [00:00<?, ?it/s]"
     ]
    },
    {
     "name": "stdout",
     "output_type": "stream",
     "text": [
      "Epoch: 75 Loss: 0.00782203208655119\n"
     ]
    },
    {
     "name": "stderr",
     "output_type": "stream",
     "text": [
      "100%|██████████████████████████████████████████████████████████████████████████████████| 50/50 [00:08<00:00,  5.91it/s]\n",
      "  2%|█▋                                                                                 | 1/50 [00:00<00:05,  8.69it/s]"
     ]
    },
    {
     "name": "stdout",
     "output_type": "stream",
     "text": [
      "Epoch: 76 Loss: 0.007312650326639414\n"
     ]
    },
    {
     "name": "stderr",
     "output_type": "stream",
     "text": [
      "100%|██████████████████████████████████████████████████████████████████████████████████| 50/50 [00:09<00:00,  5.28it/s]\n",
      "  0%|                                                                                           | 0/50 [00:00<?, ?it/s]"
     ]
    },
    {
     "name": "stdout",
     "output_type": "stream",
     "text": [
      "Epoch: 77 Loss: 0.01130058616399765\n"
     ]
    },
    {
     "name": "stderr",
     "output_type": "stream",
     "text": [
      "100%|██████████████████████████████████████████████████████████████████████████████████| 50/50 [00:09<00:00,  5.41it/s]\n",
      "  2%|█▋                                                                                 | 1/50 [00:00<00:06,  8.13it/s]"
     ]
    },
    {
     "name": "stdout",
     "output_type": "stream",
     "text": [
      "Epoch: 78 Loss: 0.010733301751315594\n"
     ]
    },
    {
     "name": "stderr",
     "output_type": "stream",
     "text": [
      "100%|██████████████████████████████████████████████████████████████████████████████████| 50/50 [00:09<00:00,  5.31it/s]\n",
      "  0%|                                                                                           | 0/50 [00:00<?, ?it/s]"
     ]
    },
    {
     "name": "stdout",
     "output_type": "stream",
     "text": [
      "Epoch: 79 Loss: 0.008288013748824596\n"
     ]
    },
    {
     "name": "stderr",
     "output_type": "stream",
     "text": [
      "100%|██████████████████████████████████████████████████████████████████████████████████| 50/50 [00:08<00:00,  5.62it/s]\n",
      "  2%|█▋                                                                                 | 1/50 [00:00<00:07,  6.85it/s]"
     ]
    },
    {
     "name": "stdout",
     "output_type": "stream",
     "text": [
      "Epoch: 80 Loss: 0.007727098185569048\n"
     ]
    },
    {
     "name": "stderr",
     "output_type": "stream",
     "text": [
      "100%|██████████████████████████████████████████████████████████████████████████████████| 50/50 [00:09<00:00,  5.55it/s]\n",
      "  0%|                                                                                           | 0/50 [00:00<?, ?it/s]"
     ]
    },
    {
     "name": "stdout",
     "output_type": "stream",
     "text": [
      "Epoch: 81 Loss: 0.0077364821918308735\n"
     ]
    },
    {
     "name": "stderr",
     "output_type": "stream",
     "text": [
      "100%|██████████████████████████████████████████████████████████████████████████████████| 50/50 [00:08<00:00,  5.82it/s]\n",
      "  2%|█▋                                                                                 | 1/50 [00:00<00:08,  5.92it/s]"
     ]
    },
    {
     "name": "stdout",
     "output_type": "stream",
     "text": [
      "Epoch: 82 Loss: 0.009931427426636219\n"
     ]
    },
    {
     "name": "stderr",
     "output_type": "stream",
     "text": [
      "100%|██████████████████████████████████████████████████████████████████████████████████| 50/50 [00:08<00:00,  5.86it/s]\n",
      "  2%|█▋                                                                                 | 1/50 [00:00<00:09,  5.15it/s]"
     ]
    },
    {
     "name": "stdout",
     "output_type": "stream",
     "text": [
      "Epoch: 83 Loss: 0.008267550729215145\n"
     ]
    },
    {
     "name": "stderr",
     "output_type": "stream",
     "text": [
      "100%|██████████████████████████████████████████████████████████████████████████████████| 50/50 [00:09<00:00,  5.37it/s]\n",
      "  2%|█▋                                                                                 | 1/50 [00:00<00:07,  6.99it/s]"
     ]
    },
    {
     "name": "stdout",
     "output_type": "stream",
     "text": [
      "Epoch: 84 Loss: 0.00947132520377636\n"
     ]
    },
    {
     "name": "stderr",
     "output_type": "stream",
     "text": [
      "100%|██████████████████████████████████████████████████████████████████████████████████| 50/50 [00:08<00:00,  5.92it/s]\n",
      "  2%|█▋                                                                                 | 1/50 [00:00<00:07,  6.99it/s]"
     ]
    },
    {
     "name": "stdout",
     "output_type": "stream",
     "text": [
      "Epoch: 85 Loss: 0.007665211800485849\n"
     ]
    },
    {
     "name": "stderr",
     "output_type": "stream",
     "text": [
      "100%|██████████████████████████████████████████████████████████████████████████████████| 50/50 [00:09<00:00,  5.28it/s]\n",
      "  2%|█▋                                                                                 | 1/50 [00:00<00:06,  7.04it/s]"
     ]
    },
    {
     "name": "stdout",
     "output_type": "stream",
     "text": [
      "Epoch: 86 Loss: 0.006930354982614517\n"
     ]
    },
    {
     "name": "stderr",
     "output_type": "stream",
     "text": [
      "100%|██████████████████████████████████████████████████████████████████████████████████| 50/50 [00:08<00:00,  5.76it/s]\n",
      "  2%|█▋                                                                                 | 1/50 [00:00<00:06,  7.81it/s]"
     ]
    },
    {
     "name": "stdout",
     "output_type": "stream",
     "text": [
      "Epoch: 87 Loss: 0.01134368684142828\n"
     ]
    },
    {
     "name": "stderr",
     "output_type": "stream",
     "text": [
      "100%|██████████████████████████████████████████████████████████████████████████████████| 50/50 [00:08<00:00,  5.66it/s]\n",
      "  2%|█▋                                                                                 | 1/50 [00:00<00:06,  7.69it/s]"
     ]
    },
    {
     "name": "stdout",
     "output_type": "stream",
     "text": [
      "Epoch: 88 Loss: 0.008099057711660862\n"
     ]
    },
    {
     "name": "stderr",
     "output_type": "stream",
     "text": [
      "100%|██████████████████████████████████████████████████████████████████████████████████| 50/50 [00:08<00:00,  5.75it/s]\n",
      "  2%|█▋                                                                                 | 1/50 [00:00<00:06,  7.57it/s]"
     ]
    },
    {
     "name": "stdout",
     "output_type": "stream",
     "text": [
      "Epoch: 89 Loss: 0.007965427823364735\n"
     ]
    },
    {
     "name": "stderr",
     "output_type": "stream",
     "text": [
      "100%|██████████████████████████████████████████████████████████████████████████████████| 50/50 [00:08<00:00,  5.95it/s]\n",
      "  2%|█▋                                                                                 | 1/50 [00:00<00:07,  6.94it/s]"
     ]
    },
    {
     "name": "stdout",
     "output_type": "stream",
     "text": [
      "Epoch: 90 Loss: 0.008551458828151226\n"
     ]
    },
    {
     "name": "stderr",
     "output_type": "stream",
     "text": [
      "100%|██████████████████████████████████████████████████████████████████████████████████| 50/50 [00:09<00:00,  5.37it/s]\n",
      "  2%|█▋                                                                                 | 1/50 [00:00<00:06,  7.04it/s]"
     ]
    },
    {
     "name": "stdout",
     "output_type": "stream",
     "text": [
      "Epoch: 91 Loss: 0.008080709725618362\n"
     ]
    },
    {
     "name": "stderr",
     "output_type": "stream",
     "text": [
      "100%|██████████████████████████████████████████████████████████████████████████████████| 50/50 [00:08<00:00,  6.23it/s]\n",
      "  2%|█▋                                                                                 | 1/50 [00:00<00:06,  7.93it/s]"
     ]
    },
    {
     "name": "stdout",
     "output_type": "stream",
     "text": [
      "Epoch: 92 Loss: 0.008623565547168255\n"
     ]
    },
    {
     "name": "stderr",
     "output_type": "stream",
     "text": [
      "100%|██████████████████████████████████████████████████████████████████████████████████| 50/50 [00:08<00:00,  5.66it/s]\n",
      "  2%|█▋                                                                                 | 1/50 [00:00<00:07,  6.85it/s]"
     ]
    },
    {
     "name": "stdout",
     "output_type": "stream",
     "text": [
      "Epoch: 93 Loss: 0.008905764669179916\n"
     ]
    },
    {
     "name": "stderr",
     "output_type": "stream",
     "text": [
      "100%|██████████████████████████████████████████████████████████████████████████████████| 50/50 [00:08<00:00,  5.92it/s]\n",
      "  2%|█▋                                                                                 | 1/50 [00:00<00:08,  6.06it/s]"
     ]
    },
    {
     "name": "stdout",
     "output_type": "stream",
     "text": [
      "Epoch: 94 Loss: 0.009371109306812286\n"
     ]
    },
    {
     "name": "stderr",
     "output_type": "stream",
     "text": [
      "100%|██████████████████████████████████████████████████████████████████████████████████| 50/50 [00:08<00:00,  5.71it/s]\n",
      "  2%|█▋                                                                                 | 1/50 [00:00<00:08,  5.92it/s]"
     ]
    },
    {
     "name": "stdout",
     "output_type": "stream",
     "text": [
      "Epoch: 95 Loss: 0.00963776744902134\n"
     ]
    },
    {
     "name": "stderr",
     "output_type": "stream",
     "text": [
      "100%|██████████████████████████████████████████████████████████████████████████████████| 50/50 [00:08<00:00,  5.77it/s]\n",
      "  0%|                                                                                           | 0/50 [00:00<?, ?it/s]"
     ]
    },
    {
     "name": "stdout",
     "output_type": "stream",
     "text": [
      "Epoch: 96 Loss: 0.007677294313907623\n"
     ]
    },
    {
     "name": "stderr",
     "output_type": "stream",
     "text": [
      "100%|██████████████████████████████████████████████████████████████████████████████████| 50/50 [00:08<00:00,  6.07it/s]\n",
      "  2%|█▋                                                                                 | 1/50 [00:00<00:06,  7.75it/s]"
     ]
    },
    {
     "name": "stdout",
     "output_type": "stream",
     "text": [
      "Epoch: 97 Loss: 0.009026882238686085\n"
     ]
    },
    {
     "name": "stderr",
     "output_type": "stream",
     "text": [
      "100%|██████████████████████████████████████████████████████████████████████████████████| 50/50 [00:09<00:00,  5.21it/s]\n",
      "  0%|                                                                                           | 0/50 [00:00<?, ?it/s]"
     ]
    },
    {
     "name": "stdout",
     "output_type": "stream",
     "text": [
      "Epoch: 98 Loss: 0.008074695244431496\n"
     ]
    },
    {
     "name": "stderr",
     "output_type": "stream",
     "text": [
      "100%|██████████████████████████████████████████████████████████████████████████████████| 50/50 [00:08<00:00,  5.74it/s]"
     ]
    },
    {
     "name": "stdout",
     "output_type": "stream",
     "text": [
      "Epoch: 99 Loss: 0.00782921351492405\n"
     ]
    },
    {
     "name": "stderr",
     "output_type": "stream",
     "text": [
      "\n"
     ]
    }
   ],
   "source": [
    "for epoch in range(num_epochs):\n",
    "    for i, (lr_images, hr_images) in enumerate(tqdm(data_loader)):\n",
    "        # Move data to the GPU\n",
    "        lr_images = lr_images.to(device=device)\n",
    "        hr_images = hr_images.to(device=device)\n",
    "\n",
    "        # Forward pass\n",
    "        outputs =  modelMAE(lr_images)\n",
    "        logits, mask, ids_restore, hidden_states, attentions = outputs      \n",
    "        loss = loss_function(logits, hr_images)\n",
    "\n",
    "        # Backward pass and optimization\n",
    "        optimizer.zero_grad()\n",
    "        loss.backward()\n",
    "        optimizer.step()\n",
    "        \n",
    "    print('Epoch:', epoch, 'Loss:', loss.item())"
   ]
  },
  {
   "cell_type": "code",
   "execution_count": 35,
   "metadata": {},
   "outputs": [],
   "source": [
    "dataiter = iter(data_loader)\n",
    "images, labels = next(dataiter)"
   ]
  },
  {
   "cell_type": "code",
   "execution_count": 36,
   "metadata": {},
   "outputs": [
    {
     "name": "stderr",
     "output_type": "stream",
     "text": [
      "Clipping input data to the valid range for imshow with RGB data ([0..1] for floats or [0..255] for integers).\n"
     ]
    },
    {
     "data": {
      "image/png": "[encoded data removed]",
      "text/plain": [
       "<Figure size 432x288 with 1 Axes>"
      ]
     },
     "metadata": {
      "needs_background": "light"
     },
     "output_type": "display_data"
    }
   ],
   "source": [
    "Restoration = modelMAE(images.to(device=device))\n",
    "imshow(torchvision.utils.make_grid(Restoration[0][0]))"
   ]
  },
  {
   "cell_type": "code",
   "execution_count": 37,
   "metadata": {},
   "outputs": [
    {
     "data": {
      "image/png": "[encoded data removed]",
      "text/plain": [
       "<Figure size 432x288 with 1 Axes>"
      ]
     },
     "metadata": {
      "needs_background": "light"
     },
     "output_type": "display_data"
    }
   ],
   "source": [
    "imshow(torchvision.utils.make_grid(labels[0]))"
   ]
  },
  {
   "cell_type": "code",
   "execution_count": null,
   "metadata": {},
   "outputs": [],
   "source": []
  }
 ],
 "metadata": {
  "kernelspec": {
   "display_name": "Python 3",
   "language": "python",
   "name": "python3"
  },
  "language_info": {
   "codemirror_mode": {
    "name": "ipython",
    "version": 3
   },
   "file_extension": ".py",
   "mimetype": "text/x-python",
   "name": "python",
   "nbconvert_exporter": "python",
   "pygments_lexer": "ipython3",
   "version": "3.8.3"
  }
 },
 "nbformat": 4,
 "nbformat_minor": 4
}
