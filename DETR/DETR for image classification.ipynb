{
 "cells": [
  {
   "cell_type": "code",
   "execution_count": 1,
   "metadata": {},
   "outputs": [],
   "source": [
    "import math\n",
    "import random\n",
    "from dataclasses import dataclass\n",
    "from typing import Dict, List, Optional, Tuple, Union\n",
    "\n",
    "import torch\n",
    "from torch import Tensor, nn\n",
    "from timm import create_model"
   ]
  },
  {
   "cell_type": "code",
   "execution_count": 2,
   "metadata": {},
   "outputs": [],
   "source": [
    "class DetrFrozenBatchNorm2d(nn.Module):\n",
    "    \"\"\"\n",
    "    BatchNorm2d where the batch statistics and the affine parameters are fixed.\n",
    "    Copy-paste from torchvision.misc.ops with added eps before rqsrt, without which any other models than\n",
    "    torchvision.models.resnet[18,34,50,101] produce nans.\n",
    "    \"\"\"\n",
    "\n",
    "    def __init__(self, n):\n",
    "        super().__init__()\n",
    "        self.register_buffer(\"weight\", torch.ones(n))\n",
    "        self.register_buffer(\"bias\", torch.zeros(n))\n",
    "        self.register_buffer(\"running_mean\", torch.zeros(n))\n",
    "        self.register_buffer(\"running_var\", torch.ones(n))\n",
    "\n",
    "    def _load_from_state_dict(\n",
    "        self, state_dict, prefix, local_metadata, strict, missing_keys, unexpected_keys, error_msgs\n",
    "    ):\n",
    "        num_batches_tracked_key = prefix + \"num_batches_tracked\"\n",
    "        if num_batches_tracked_key in state_dict:\n",
    "            del state_dict[num_batches_tracked_key]\n",
    "\n",
    "        super()._load_from_state_dict(\n",
    "            state_dict, prefix, local_metadata, strict, missing_keys, unexpected_keys, error_msgs\n",
    "        )\n",
    "\n",
    "    def forward(self, x):\n",
    "        # move reshapes to the beginning\n",
    "        # to make it user-friendly\n",
    "        weight = self.weight.reshape(1, -1, 1, 1)\n",
    "        bias = self.bias.reshape(1, -1, 1, 1)\n",
    "        running_var = self.running_var.reshape(1, -1, 1, 1)\n",
    "        running_mean = self.running_mean.reshape(1, -1, 1, 1)\n",
    "        epsilon = 1e-5\n",
    "        scale = weight * (running_var + epsilon).rsqrt()\n",
    "        bias = bias - running_mean * scale\n",
    "        return x * scale + bias"
   ]
  },
  {
   "cell_type": "code",
   "execution_count": 3,
   "metadata": {},
   "outputs": [],
   "source": [
    "def replace_batch_norm(m, name=\"\"):\n",
    "    for attr_str in dir(m):\n",
    "        target_attr = getattr(m, attr_str)\n",
    "        if isinstance(target_attr, nn.BatchNorm2d):\n",
    "            frozen = DetrFrozenBatchNorm2d(target_attr.num_features)\n",
    "            bn = getattr(m, attr_str)\n",
    "            frozen.weight.data.copy_(bn.weight)\n",
    "            frozen.bias.data.copy_(bn.bias)\n",
    "            frozen.running_mean.data.copy_(bn.running_mean)\n",
    "            frozen.running_var.data.copy_(bn.running_var)\n",
    "            setattr(m, attr_str, frozen)\n",
    "    for n, ch in m.named_children():\n",
    "        replace_batch_norm(ch, n)"
   ]
  },
  {
   "cell_type": "code",
   "execution_count": 4,
   "metadata": {},
   "outputs": [],
   "source": [
    "class DetrConvEncoder(nn.Module):\n",
    "    \"\"\"\n",
    "    Convolutional backbone, using either the AutoBackbone API or one from the timm library.\n",
    "    nn.BatchNorm2d layers are replaced by DetrFrozenBatchNorm2d as defined above.\n",
    "    \"\"\"\n",
    "\n",
    "    def __init__(self, use_timm_backbone, dilation, backbone, use_pretrained_backbone, \n",
    "                 num_channels, backbone_config,):\n",
    "        super().__init__()\n",
    "\n",
    "        self.use_timm_backbone = use_timm_backbone\n",
    "\n",
    "        if use_timm_backbone:\n",
    "            #requires_backends(self, [\"timm\"])\n",
    "            kwargs = {}\n",
    "            if dilation:\n",
    "                kwargs[\"output_stride\"] = 16\n",
    "            backbone1 = create_model(\n",
    "                backbone,\n",
    "                pretrained=use_pretrained_backbone,\n",
    "                features_only=True,\n",
    "                out_indices=(1, 2, 3, 4),\n",
    "                in_chans=num_channels,\n",
    "                **kwargs,\n",
    "            )\n",
    "        else:\n",
    "            backbone = AutoBackbone.from_config(backbone_config)\n",
    "\n",
    "        # replace batch norm by frozen batch norm\n",
    "        with torch.no_grad():\n",
    "            replace_batch_norm(backbone1)\n",
    "        self.model = backbone1\n",
    "        self.intermediate_channel_sizes = (\n",
    "            self.model.feature_info.channels() if use_timm_backbone else self.model.channels\n",
    "        )\n",
    "\n",
    "        backbone_model_type = backbone if use_timm_backbone else backbone_config.model_type\n",
    "        if \"resnet\" in backbone_model_type:\n",
    "            for name, parameter in self.model.named_parameters():\n",
    "                if use_timm_backbone:\n",
    "                    if \"layer2\" not in name and \"layer3\" not in name and \"layer4\" not in name:\n",
    "                        parameter.requires_grad_(False)\n",
    "                else:\n",
    "                    if \"stage.1\" not in name and \"stage.2\" not in name and \"stage.3\" not in name:\n",
    "                        parameter.requires_grad_(False)\n",
    "\n",
    "    def forward(self, pixel_values: torch.Tensor, pixel_mask: torch.Tensor):\n",
    "        # send pixel_values through the model to get list of feature maps\n",
    "        features = self.model(pixel_values) if self.use_timm_backbone else self.model(pixel_values).feature_maps\n",
    "\n",
    "        out = []\n",
    "        for feature_map in features:\n",
    "            # downsample pixel_mask to match shape of corresponding feature_map\n",
    "            mask = nn.functional.interpolate(pixel_mask[None].float(), size=feature_map.shape[-2:]).to(torch.bool)[0]\n",
    "            out.append((feature_map, mask))\n",
    "        return out"
   ]
  },
  {
   "cell_type": "code",
   "execution_count": 5,
   "metadata": {},
   "outputs": [],
   "source": [
    "class DetrConvModel(nn.Module):\n",
    "    \"\"\"\n",
    "    This module adds 2D position embeddings to all intermediate feature maps of the convolutional encoder.\n",
    "    \"\"\"\n",
    "\n",
    "    def __init__(self, conv_encoder, position_embedding):\n",
    "        super().__init__()\n",
    "        self.conv_encoder = conv_encoder\n",
    "        self.position_embedding = position_embedding\n",
    "\n",
    "    def forward(self, pixel_values, pixel_mask):\n",
    "        # send pixel_values and pixel_mask through backbone to get list of (feature_map, pixel_mask) tuples\n",
    "        out = self.conv_encoder(pixel_values, pixel_mask)\n",
    "        pos = []\n",
    "        for feature_map, mask in out:\n",
    "            # position encoding\n",
    "            pos.append(self.position_embedding(feature_map, mask).to(feature_map.dtype))\n",
    "\n",
    "        return out, pos"
   ]
  },
  {
   "cell_type": "code",
   "execution_count": 6,
   "metadata": {},
   "outputs": [],
   "source": [
    "def _expand_mask(mask: torch.Tensor, dtype: torch.dtype, target_len: Optional[int] = None):\n",
    "    \"\"\"\n",
    "    Expands attention_mask from `[batch_size, seq_len]` to `[batch_size, 1, target_seq_len, source_seq_len]`.\n",
    "    \"\"\"\n",
    "    batch_size, source_len = mask.size()\n",
    "    target_len = target_len if target_len is not None else source_len\n",
    "\n",
    "    expanded_mask = mask[:, None, None, :].expand(batch_size, 1, target_len, source_len).to(dtype)\n",
    "\n",
    "    inverted_mask = 1.0 - expanded_mask\n",
    "\n",
    "    return inverted_mask.masked_fill(inverted_mask.bool(), torch.finfo(dtype).min)"
   ]
  },
  {
   "cell_type": "code",
   "execution_count": 7,
   "metadata": {},
   "outputs": [],
   "source": [
    "class DetrSinePositionEmbedding(nn.Module):\n",
    "    \"\"\"\n",
    "    This is a more standard version of the position embedding, very similar to the one used by the Attention is all you\n",
    "    need paper, generalized to work on images.\n",
    "    \"\"\"\n",
    "\n",
    "    def __init__(self, embedding_dim=64, temperature=10000, normalize=False, scale=None):\n",
    "        super().__init__()\n",
    "        self.embedding_dim = embedding_dim\n",
    "        self.temperature = temperature\n",
    "        self.normalize = normalize\n",
    "        if scale is not None and normalize is False:\n",
    "            raise ValueError(\"normalize should be True if scale is passed\")\n",
    "        if scale is None:\n",
    "            scale = 2 * math.pi\n",
    "        self.scale = scale\n",
    "\n",
    "    def forward(self, pixel_values, pixel_mask):\n",
    "        if pixel_mask is None:\n",
    "            raise ValueError(\"No pixel mask provided\")\n",
    "        y_embed = pixel_mask.cumsum(1, dtype=torch.float32)\n",
    "        x_embed = pixel_mask.cumsum(2, dtype=torch.float32)\n",
    "        if self.normalize:\n",
    "            y_embed = y_embed / (y_embed[:, -1:, :] + 1e-6) * self.scale\n",
    "            x_embed = x_embed / (x_embed[:, :, -1:] + 1e-6) * self.scale\n",
    "\n",
    "        dim_t = torch.arange(self.embedding_dim, dtype=torch.float32, device=pixel_values.device)\n",
    "        dim_t = self.temperature ** (2 * torch.div(dim_t, 2, rounding_mode=\"floor\") / self.embedding_dim)\n",
    "\n",
    "        pos_x = x_embed[:, :, :, None] / dim_t\n",
    "        pos_y = y_embed[:, :, :, None] / dim_t\n",
    "        pos_x = torch.stack((pos_x[:, :, :, 0::2].sin(), pos_x[:, :, :, 1::2].cos()), dim=4).flatten(3)\n",
    "        pos_y = torch.stack((pos_y[:, :, :, 0::2].sin(), pos_y[:, :, :, 1::2].cos()), dim=4).flatten(3)\n",
    "        pos = torch.cat((pos_y, pos_x), dim=3).permute(0, 3, 1, 2)\n",
    "        return pos"
   ]
  },
  {
   "cell_type": "code",
   "execution_count": 8,
   "metadata": {},
   "outputs": [],
   "source": [
    "class DetrLearnedPositionEmbedding(nn.Module):\n",
    "    \"\"\"\n",
    "    This module learns positional embeddings up to a fixed maximum size.\n",
    "    \"\"\"\n",
    "\n",
    "    def __init__(self, embedding_dim=256):\n",
    "        super().__init__()\n",
    "        self.row_embeddings = nn.Embedding(50, embedding_dim)\n",
    "        self.column_embeddings = nn.Embedding(50, embedding_dim)\n",
    "\n",
    "    def forward(self, pixel_values, pixel_mask=None):\n",
    "        height, width = pixel_values.shape[-2:]\n",
    "        width_values = torch.arange(width, device=pixel_values.device)\n",
    "        height_values = torch.arange(height, device=pixel_values.device)\n",
    "        x_emb = self.column_embeddings(width_values)\n",
    "        y_emb = self.row_embeddings(height_values)\n",
    "        pos = torch.cat([x_emb.unsqueeze(0).repeat(height, 1, 1), y_emb.unsqueeze(1).repeat(1, width, 1)], dim=-1)\n",
    "        pos = pos.permute(2, 0, 1)\n",
    "        pos = pos.unsqueeze(0)\n",
    "        pos = pos.repeat(pixel_values.shape[0], 1, 1, 1)\n",
    "        return pos\n"
   ]
  },
  {
   "cell_type": "code",
   "execution_count": 9,
   "metadata": {},
   "outputs": [],
   "source": [
    "def build_position_encoding(d_model, position_embedding_type):\n",
    "    n_steps = d_model // 2\n",
    "    if position_embedding_type == \"sine\":\n",
    "        # TODO find a better way of exposing other arguments\n",
    "        position_embedding = DetrSinePositionEmbedding(n_steps, normalize=True)\n",
    "    elif position_embedding_type == \"learned\":\n",
    "        position_embedding = DetrLearnedPositionEmbedding(n_steps)\n",
    "    else:\n",
    "        raise ValueError(f\"Not supported {position_embedding_type}\")\n",
    "\n",
    "    return position_embedding\n"
   ]
  },
  {
   "cell_type": "code",
   "execution_count": 10,
   "metadata": {},
   "outputs": [],
   "source": [
    "class DetrAttention(nn.Module):\n",
    "    \"\"\"\n",
    "    Multi-headed attention from 'Attention Is All You Need' paper.\n",
    "    Here, we add position embeddings to the queries and keys (as explained in the DETR paper).\n",
    "    \"\"\"\n",
    "\n",
    "    def __init__(\n",
    "        self,\n",
    "        embed_dim: int,\n",
    "        num_heads: int,\n",
    "        dropout: float = 0.0,\n",
    "        is_decoder: bool = False,\n",
    "        bias: bool = True,\n",
    "    ):\n",
    "        super().__init__()\n",
    "        self.embed_dim = embed_dim\n",
    "        self.num_heads = num_heads\n",
    "        self.dropout = dropout\n",
    "        self.head_dim = embed_dim // num_heads\n",
    "        if self.head_dim * num_heads != self.embed_dim:\n",
    "            raise ValueError(\n",
    "                f\"embed_dim must be divisible by num_heads (got `embed_dim`: {self.embed_dim} and `num_heads`:\"\n",
    "                f\" {num_heads}).\"\n",
    "            )\n",
    "        self.scaling = self.head_dim**-0.5\n",
    "\n",
    "        self.k_proj = nn.Linear(embed_dim, embed_dim, bias=bias)\n",
    "        self.v_proj = nn.Linear(embed_dim, embed_dim, bias=bias)\n",
    "        self.q_proj = nn.Linear(embed_dim, embed_dim, bias=bias)\n",
    "        self.out_proj = nn.Linear(embed_dim, embed_dim, bias=bias)\n",
    "\n",
    "    def _shape(self, tensor: torch.Tensor, seq_len: int, batch_size: int):\n",
    "        return tensor.view(batch_size, seq_len, self.num_heads, self.head_dim).transpose(1, 2).contiguous()\n",
    "\n",
    "    def with_pos_embed(self, tensor: torch.Tensor, position_embeddings: Optional[Tensor]):\n",
    "        return tensor if position_embeddings is None else tensor + position_embeddings\n",
    "\n",
    "    def forward(\n",
    "        self,\n",
    "        hidden_states: torch.Tensor,\n",
    "        attention_mask: Optional[torch.Tensor] = None,\n",
    "        position_embeddings: Optional[torch.Tensor] = None,\n",
    "        key_value_states: Optional[torch.Tensor] = None,\n",
    "        key_value_position_embeddings: Optional[torch.Tensor] = None,\n",
    "        output_attentions: bool = False,\n",
    "    ) -> Tuple[torch.Tensor, Optional[torch.Tensor], Optional[Tuple[torch.Tensor]]]:\n",
    "        \"\"\"Input shape: Batch x Time x Channel\"\"\"\n",
    "\n",
    "        # if key_value_states are provided this layer is used as a cross-attention layer\n",
    "        # for the decoder\n",
    "        is_cross_attention = key_value_states is not None\n",
    "        batch_size, target_len, embed_dim = hidden_states.size()\n",
    "\n",
    "        # add position embeddings to the hidden states before projecting to queries and keys\n",
    "        if position_embeddings is not None:\n",
    "            hidden_states_original = hidden_states\n",
    "            hidden_states = self.with_pos_embed(hidden_states, position_embeddings)\n",
    "\n",
    "        # add key-value position embeddings to the key value states\n",
    "        if key_value_position_embeddings is not None:\n",
    "            key_value_states_original = key_value_states\n",
    "            key_value_states = self.with_pos_embed(key_value_states, key_value_position_embeddings)\n",
    "\n",
    "        # get query proj\n",
    "        query_states = self.q_proj(hidden_states) * self.scaling\n",
    "        # get key, value proj\n",
    "        if is_cross_attention:\n",
    "            # cross_attentions\n",
    "            key_states = self._shape(self.k_proj(key_value_states), -1, batch_size)\n",
    "            value_states = self._shape(self.v_proj(key_value_states_original), -1, batch_size)\n",
    "        else:\n",
    "            # self_attention\n",
    "            key_states = self._shape(self.k_proj(hidden_states), -1, batch_size)\n",
    "            value_states = self._shape(self.v_proj(hidden_states_original), -1, batch_size)\n",
    "\n",
    "        proj_shape = (batch_size * self.num_heads, -1, self.head_dim)\n",
    "        query_states = self._shape(query_states, target_len, batch_size).view(*proj_shape)\n",
    "        key_states = key_states.view(*proj_shape)\n",
    "        value_states = value_states.view(*proj_shape)\n",
    "\n",
    "        source_len = key_states.size(1)\n",
    "\n",
    "        attn_weights = torch.bmm(query_states, key_states.transpose(1, 2))\n",
    "\n",
    "        if attn_weights.size() != (batch_size * self.num_heads, target_len, source_len):\n",
    "            raise ValueError(\n",
    "                f\"Attention weights should be of size {(batch_size * self.num_heads, target_len, source_len)}, but is\"\n",
    "                f\" {attn_weights.size()}\"\n",
    "            )\n",
    "\n",
    "        if attention_mask is not None:\n",
    "            if attention_mask.size() != (batch_size, 1, target_len, source_len):\n",
    "                raise ValueError(\n",
    "                    f\"Attention mask should be of size {(batch_size, 1, target_len, source_len)}, but is\"\n",
    "                    f\" {attention_mask.size()}\"\n",
    "                )\n",
    "            attn_weights = attn_weights.view(batch_size, self.num_heads, target_len, source_len) + attention_mask\n",
    "            attn_weights = attn_weights.view(batch_size * self.num_heads, target_len, source_len)\n",
    "\n",
    "        attn_weights = nn.functional.softmax(attn_weights, dim=-1)\n",
    "\n",
    "        if output_attentions:\n",
    "            # this operation is a bit awkward, but it's required to\n",
    "            # make sure that attn_weights keeps its gradient.\n",
    "            # In order to do so, attn_weights have to reshaped\n",
    "            # twice and have to be reused in the following\n",
    "            attn_weights_reshaped = attn_weights.view(batch_size, self.num_heads, target_len, source_len)\n",
    "            attn_weights = attn_weights_reshaped.view(batch_size * self.num_heads, target_len, source_len)\n",
    "        else:\n",
    "            attn_weights_reshaped = None\n",
    "\n",
    "        attn_probs = nn.functional.dropout(attn_weights, p=self.dropout, training=self.training)\n",
    "\n",
    "        attn_output = torch.bmm(attn_probs, value_states)\n",
    "\n",
    "        if attn_output.size() != (batch_size * self.num_heads, target_len, self.head_dim):\n",
    "            raise ValueError(\n",
    "                f\"`attn_output` should be of size {(batch_size, self.num_heads, target_len, self.head_dim)}, but is\"\n",
    "                f\" {attn_output.size()}\"\n",
    "            )\n",
    "\n",
    "        attn_output = attn_output.view(batch_size, self.num_heads, target_len, self.head_dim)\n",
    "        attn_output = attn_output.transpose(1, 2)\n",
    "        attn_output = attn_output.reshape(batch_size, target_len, embed_dim)\n",
    "\n",
    "        attn_output = self.out_proj(attn_output)\n",
    "\n",
    "        return attn_output, attn_weights_reshaped"
   ]
  },
  {
   "cell_type": "code",
   "execution_count": 11,
   "metadata": {},
   "outputs": [],
   "source": [
    "class DetrEncoderLayer(nn.Module):\n",
    "    def __init__(self, d_model, encoder_attention_heads, attention_dropout, activation_dropout, dropout, encoder_ffn_dim):\n",
    "        super().__init__()\n",
    "        self.embed_dim = d_model\n",
    "        self.self_attn = DetrAttention(\n",
    "            embed_dim=self.embed_dim,\n",
    "            num_heads=encoder_attention_heads,\n",
    "            dropout=attention_dropout,\n",
    "        )\n",
    "        self.self_attn_layer_norm = nn.LayerNorm(self.embed_dim)\n",
    "        self.dropout = dropout\n",
    "        self.activation_fn = nn.GELU()\n",
    "        self.activation_dropout = activation_dropout\n",
    "        self.fc1 = nn.Linear(self.embed_dim, encoder_ffn_dim)\n",
    "        self.fc2 = nn.Linear(encoder_ffn_dim, self.embed_dim)\n",
    "        self.final_layer_norm = nn.LayerNorm(self.embed_dim)\n",
    "\n",
    "    def forward(\n",
    "        self,\n",
    "        hidden_states: torch.Tensor,\n",
    "        attention_mask: torch.Tensor,\n",
    "        position_embeddings: torch.Tensor = None,\n",
    "        output_attentions: bool = False,\n",
    "    ):\n",
    "        \"\"\"\n",
    "        Args:\n",
    "            hidden_states (`torch.FloatTensor`): input to the layer of shape `(seq_len, batch, embed_dim)`\n",
    "            attention_mask (`torch.FloatTensor`): attention mask of size\n",
    "                `(batch, 1, target_len, source_len)` where padding elements are indicated by very large negative\n",
    "                values.\n",
    "            position_embeddings (`torch.FloatTensor`, *optional*): position embeddings, to be added to hidden_states.\n",
    "            output_attentions (`bool`, *optional*):\n",
    "                Whether or not to return the attentions tensors of all attention layers. See `attentions` under\n",
    "                returned tensors for more detail.\n",
    "        \"\"\"\n",
    "        residual = hidden_states\n",
    "        hidden_states, attn_weights = self.self_attn(\n",
    "            hidden_states=hidden_states,\n",
    "            attention_mask=attention_mask,\n",
    "            position_embeddings=position_embeddings,\n",
    "            output_attentions=output_attentions,\n",
    "        )\n",
    "\n",
    "        hidden_states = nn.functional.dropout(hidden_states, p=self.dropout, training=self.training)\n",
    "        hidden_states = residual + hidden_states\n",
    "        hidden_states = self.self_attn_layer_norm(hidden_states)\n",
    "\n",
    "        residual = hidden_states\n",
    "        hidden_states = self.activation_fn(self.fc1(hidden_states))\n",
    "        hidden_states = nn.functional.dropout(hidden_states, p=self.activation_dropout, training=self.training)\n",
    "\n",
    "        hidden_states = self.fc2(hidden_states)\n",
    "        hidden_states = nn.functional.dropout(hidden_states, p=self.dropout, training=self.training)\n",
    "\n",
    "        hidden_states = residual + hidden_states\n",
    "        hidden_states = self.final_layer_norm(hidden_states)\n",
    "\n",
    "        if self.training:\n",
    "            if torch.isinf(hidden_states).any() or torch.isnan(hidden_states).any():\n",
    "                clamp_value = torch.finfo(hidden_states.dtype).max - 1000\n",
    "                hidden_states = torch.clamp(hidden_states, min=-clamp_value, max=clamp_value)\n",
    "\n",
    "        outputs = (hidden_states,)\n",
    "\n",
    "        if output_attentions:\n",
    "            outputs += (attn_weights,)\n",
    "\n",
    "        return outputs\n"
   ]
  },
  {
   "cell_type": "code",
   "execution_count": 12,
   "metadata": {},
   "outputs": [],
   "source": [
    "class DetrDecoderLayer(nn.Module):\n",
    "    def __init__(self, d_model, decoder_attention_heads, attention_dropout, activation_dropout, dropout, decoder_ffn_dim):\n",
    "        super().__init__()\n",
    "        self.embed_dim = d_model\n",
    "\n",
    "        self.self_attn = DetrAttention(\n",
    "            embed_dim=self.embed_dim,\n",
    "            num_heads=decoder_attention_heads,\n",
    "            dropout=attention_dropout,\n",
    "            is_decoder=True,\n",
    "        )\n",
    "        self.dropout = dropout\n",
    "        self.activation_fn = nn.GELU()\n",
    "        self.activation_dropout = activation_dropout\n",
    "\n",
    "        self.self_attn_layer_norm = nn.LayerNorm(self.embed_dim)\n",
    "        self.encoder_attn = DetrAttention(\n",
    "            self.embed_dim,\n",
    "            decoder_attention_heads,\n",
    "            dropout=attention_dropout,\n",
    "            is_decoder=True,\n",
    "        )\n",
    "        self.encoder_attn_layer_norm = nn.LayerNorm(self.embed_dim)\n",
    "        self.fc1 = nn.Linear(self.embed_dim, decoder_ffn_dim)\n",
    "        self.fc2 = nn.Linear(decoder_ffn_dim, self.embed_dim)\n",
    "        self.final_layer_norm = nn.LayerNorm(self.embed_dim)\n",
    "\n",
    "    def forward(\n",
    "        self,\n",
    "        hidden_states: torch.Tensor,\n",
    "        attention_mask: Optional[torch.Tensor] = None,\n",
    "        position_embeddings: Optional[torch.Tensor] = None,\n",
    "        query_position_embeddings: Optional[torch.Tensor] = None,\n",
    "        encoder_hidden_states: Optional[torch.Tensor] = None,\n",
    "        encoder_attention_mask: Optional[torch.Tensor] = None,\n",
    "        output_attentions: Optional[bool] = False,\n",
    "    ):\n",
    "        \"\"\"\n",
    "        Args:\n",
    "            hidden_states (`torch.FloatTensor`): input to the layer of shape `(seq_len, batch, embed_dim)`\n",
    "            attention_mask (`torch.FloatTensor`): attention mask of size\n",
    "                `(batch, 1, target_len, source_len)` where padding elements are indicated by very large negative\n",
    "                values.\n",
    "            position_embeddings (`torch.FloatTensor`, *optional*):\n",
    "                position embeddings that are added to the queries and keys\n",
    "            in the cross-attention layer.\n",
    "            query_position_embeddings (`torch.FloatTensor`, *optional*):\n",
    "                position embeddings that are added to the queries and keys\n",
    "            in the self-attention layer.\n",
    "            encoder_hidden_states (`torch.FloatTensor`):\n",
    "                cross attention input to the layer of shape `(seq_len, batch, embed_dim)`\n",
    "            encoder_attention_mask (`torch.FloatTensor`): encoder attention mask of size\n",
    "                `(batch, 1, target_len, source_len)` where padding elements are indicated by very large negative\n",
    "                values.\n",
    "            output_attentions (`bool`, *optional*):\n",
    "                Whether or not to return the attentions tensors of all attention layers. See `attentions` under\n",
    "                returned tensors for more detail.\n",
    "        \"\"\"\n",
    "        residual = hidden_states\n",
    "\n",
    "        # Self Attention\n",
    "        hidden_states, self_attn_weights = self.self_attn(\n",
    "            hidden_states=hidden_states,\n",
    "            position_embeddings=query_position_embeddings,\n",
    "            attention_mask=attention_mask,\n",
    "            output_attentions=output_attentions,\n",
    "        )\n",
    "\n",
    "        hidden_states = nn.functional.dropout(hidden_states, p=self.dropout, training=self.training)\n",
    "        hidden_states = residual + hidden_states\n",
    "        hidden_states = self.self_attn_layer_norm(hidden_states)\n",
    "\n",
    "        # Cross-Attention Block\n",
    "        cross_attn_weights = None\n",
    "        if encoder_hidden_states is not None:\n",
    "            residual = hidden_states\n",
    "\n",
    "            hidden_states, cross_attn_weights = self.encoder_attn(\n",
    "                hidden_states=hidden_states,\n",
    "                position_embeddings=query_position_embeddings,\n",
    "                key_value_states=encoder_hidden_states,\n",
    "                attention_mask=encoder_attention_mask,\n",
    "                key_value_position_embeddings=position_embeddings,\n",
    "                output_attentions=output_attentions,\n",
    "            )\n",
    "\n",
    "            hidden_states = nn.functional.dropout(hidden_states, p=self.dropout, training=self.training)\n",
    "            hidden_states = residual + hidden_states\n",
    "            hidden_states = self.encoder_attn_layer_norm(hidden_states)\n",
    "\n",
    "        # Fully Connected\n",
    "        residual = hidden_states\n",
    "        hidden_states = self.activation_fn(self.fc1(hidden_states))\n",
    "        hidden_states = nn.functional.dropout(hidden_states, p=self.activation_dropout, training=self.training)\n",
    "        hidden_states = self.fc2(hidden_states)\n",
    "        hidden_states = nn.functional.dropout(hidden_states, p=self.dropout, training=self.training)\n",
    "        hidden_states = residual + hidden_states\n",
    "        hidden_states = self.final_layer_norm(hidden_states)\n",
    "\n",
    "        outputs = (hidden_states,)\n",
    "\n",
    "        if output_attentions:\n",
    "            outputs += (self_attn_weights, cross_attn_weights)\n",
    "\n",
    "        return outputs"
   ]
  },
  {
   "cell_type": "code",
   "execution_count": 13,
   "metadata": {},
   "outputs": [],
   "source": [
    "class DetrClassificationHead(nn.Module):\n",
    "    \"\"\"Head for sentence-level classification tasks.\"\"\"\n",
    "\n",
    "    def __init__(self, input_dim: int, inner_dim: int, num_classes: int, pooler_dropout: float):\n",
    "        super().__init__()\n",
    "        self.dense = nn.Linear(input_dim, inner_dim)\n",
    "        self.dropout = nn.Dropout(p=pooler_dropout)\n",
    "        self.out_proj = nn.Linear(inner_dim, num_classes)\n",
    "\n",
    "    def forward(self, hidden_states: torch.Tensor):\n",
    "        hidden_states = self.dropout(hidden_states)\n",
    "        hidden_states = self.dense(hidden_states)\n",
    "        hidden_states = torch.tanh(hidden_states)\n",
    "        hidden_states = self.dropout(hidden_states)\n",
    "        hidden_states = self.out_proj(hidden_states)\n",
    "        return hidden_states"
   ]
  },
  {
   "cell_type": "code",
   "execution_count": 14,
   "metadata": {},
   "outputs": [],
   "source": [
    "class DetrEncoder(nn.Module):\n",
    "    \"\"\"\n",
    "    Transformer encoder consisting of *config.encoder_layers* self attention layers. Each layer is a\n",
    "    [`DetrEncoderLayer`].\n",
    "    The encoder updates the flattened feature map through multiple self-attention layers.\n",
    "    Small tweak for DETR:\n",
    "    - position_embeddings are added to the forward pass.\n",
    "    Args:\n",
    "        config: DetrConfig\n",
    "    \"\"\"\n",
    "\n",
    "    def __init__(self, encoder_layers, encoder_layerdrop, d_model, encoder_attention_heads, \n",
    "                 attention_dropout, activation_dropout, dropout, encoder_ffn_dim, \n",
    "                 output_attentions, output_hidden_states, use_return_dict):\n",
    "        super().__init__()\n",
    "\n",
    "        self.dropout = dropout\n",
    "        self.layerdrop = encoder_layerdrop\n",
    "\n",
    "        self.layers = nn.ModuleList([DetrEncoderLayer(d_model, encoder_attention_heads, \n",
    "                 attention_dropout, activation_dropout, dropout, encoder_ffn_dim) for _ in range(encoder_layers)])\n",
    "\n",
    "        # in the original DETR, no layernorm is used at the end of the encoder, as \"normalize_before\" is set to False by default\n",
    "\n",
    "        # Initialize weights and apply final processing\n",
    "        \n",
    "        self.output_attentions = output_attentions\n",
    "        self.output_hidden_states = output_hidden_states\n",
    "        self.use_return_dict = use_return_dict\n",
    "\n",
    "    def forward(\n",
    "        self,\n",
    "        inputs_embeds=None,\n",
    "        attention_mask=None,\n",
    "        position_embeddings=None,\n",
    "        output_attentions=None,\n",
    "        output_hidden_states=None,\n",
    "        return_dict=None,\n",
    "    ):\n",
    "        r\"\"\"\n",
    "        Args:\n",
    "            inputs_embeds (`torch.FloatTensor` of shape `(batch_size, sequence_length, hidden_size)`):\n",
    "                Flattened feature map (output of the backbone + projection layer) that is passed to the encoder.\n",
    "            attention_mask (`torch.Tensor` of shape `(batch_size, sequence_length)`, *optional*):\n",
    "                Mask to avoid performing attention on padding pixel features. Mask values selected in `[0, 1]`:\n",
    "                - 1 for pixel features that are real (i.e. **not masked**),\n",
    "                - 0 for pixel features that are padding (i.e. **masked**).\n",
    "                [What are attention masks?](../glossary#attention-mask)\n",
    "            position_embeddings (`torch.FloatTensor` of shape `(batch_size, sequence_length, hidden_size)`):\n",
    "                Position embeddings that are added to the queries and keys in each self-attention layer.\n",
    "            output_attentions (`bool`, *optional*):\n",
    "                Whether or not to return the attentions tensors of all attention layers. See `attentions` under\n",
    "                returned tensors for more detail.\n",
    "            output_hidden_states (`bool`, *optional*):\n",
    "                Whether or not to return the hidden states of all layers. See `hidden_states` under returned tensors\n",
    "                for more detail.\n",
    "            return_dict (`bool`, *optional*):\n",
    "                Whether or not to return a [`~utils.ModelOutput`] instead of a plain tuple.\n",
    "        \"\"\"\n",
    "        output_attentions = output_attentions if output_attentions is not None else self.output_attentions\n",
    "        output_hidden_states = (\n",
    "            output_hidden_states if output_hidden_states is not None else self.output_hidden_states\n",
    "        )\n",
    "        return_dict = return_dict if return_dict is not None else self.use_return_dict\n",
    "\n",
    "        hidden_states = inputs_embeds\n",
    "        hidden_states = nn.functional.dropout(hidden_states, p=self.dropout, training=self.training)\n",
    "\n",
    "        # expand attention_mask\n",
    "        if attention_mask is not None:\n",
    "            # [batch_size, seq_len] -> [batch_size, 1, target_seq_len, source_seq_len]\n",
    "            attention_mask = _expand_mask(attention_mask, inputs_embeds.dtype)\n",
    "\n",
    "        encoder_states = () if output_hidden_states else None\n",
    "        all_attentions = () if output_attentions else None\n",
    "        for i, encoder_layer in enumerate(self.layers):\n",
    "            if output_hidden_states:\n",
    "                encoder_states = encoder_states + (hidden_states,)\n",
    "            # add LayerDrop (see https://arxiv.org/abs/1909.11556 for description)\n",
    "            dropout_probability = random.uniform(0, 1)\n",
    "            if self.training and (dropout_probability < self.layerdrop):  # skip the layer\n",
    "                layer_outputs = (None, None)\n",
    "            else:\n",
    "                # we add position_embeddings as extra input to the encoder_layer\n",
    "                layer_outputs = encoder_layer(\n",
    "                    hidden_states,\n",
    "                    attention_mask,\n",
    "                    position_embeddings=position_embeddings,\n",
    "                    output_attentions=output_attentions,\n",
    "                )\n",
    "\n",
    "                hidden_states = layer_outputs[0]\n",
    "\n",
    "            if output_attentions:\n",
    "                all_attentions = all_attentions + (layer_outputs[1],)\n",
    "\n",
    "        if output_hidden_states:\n",
    "            encoder_states = encoder_states + (hidden_states,)\n",
    "\n",
    "        if not return_dict:\n",
    "            return tuple(v for v in [hidden_states, encoder_states, all_attentions] if v is not None)"
   ]
  },
  {
   "cell_type": "code",
   "execution_count": 15,
   "metadata": {},
   "outputs": [],
   "source": [
    "class DetrDecoder(nn.Module):\n",
    "    \"\"\"\n",
    "    Transformer decoder consisting of *config.decoder_layers* layers. Each layer is a [`DetrDecoderLayer`].\n",
    "    The decoder updates the query embeddings through multiple self-attention and cross-attention layers.\n",
    "    Some small tweaks for DETR:\n",
    "    - position_embeddings and query_position_embeddings are added to the forward pass.\n",
    "    - if self.config.auxiliary_loss is set to True, also returns a stack of activations from all decoding layers.\n",
    "    Args:\n",
    "        config: DetrConfig\n",
    "    \"\"\"\n",
    "\n",
    "    def __init__(self, decoder_layers, decoder_layerdrop, d_model, decoder_attention_heads, \n",
    "                 attention_dropout, activation_dropout, dropout, decoder_ffn_dim, \n",
    "                 output_attentions, output_hidden_states, use_return_dict, auxiliary_loss):\n",
    "        super().__init__()\n",
    "        self.dropout = dropout\n",
    "        self.layerdrop = decoder_layerdrop\n",
    "\n",
    "        self.layers = nn.ModuleList([DetrDecoderLayer(d_model, decoder_attention_heads, \n",
    "                 attention_dropout, activation_dropout, dropout, decoder_ffn_dim) for _ in range(decoder_layers)])\n",
    "        # in DETR, the decoder uses layernorm after the last decoder layer output\n",
    "        self.layernorm = nn.LayerNorm(d_model)\n",
    "\n",
    "        self.gradient_checkpointing = False\n",
    "        # Initialize weights and apply final processing\n",
    "        \n",
    "        self.output_attentions = output_attentions\n",
    "        self.output_hidden_states = output_hidden_states\n",
    "        self.use_return_dict = use_return_dict\n",
    "        self.auxiliary_loss = auxiliary_loss\n",
    "\n",
    "    def forward(\n",
    "        self,\n",
    "        inputs_embeds=None,\n",
    "        attention_mask=None,\n",
    "        encoder_hidden_states=None,\n",
    "        encoder_attention_mask=None,\n",
    "        position_embeddings=None,\n",
    "        query_position_embeddings=None,\n",
    "        output_attentions=None,\n",
    "        output_hidden_states=None,\n",
    "        return_dict=None,\n",
    "    ):\n",
    "        r\"\"\"\n",
    "        Args:\n",
    "            inputs_embeds (`torch.FloatTensor` of shape `(batch_size, sequence_length, hidden_size)`):\n",
    "                The query embeddings that are passed into the decoder.\n",
    "            attention_mask (`torch.Tensor` of shape `(batch_size, sequence_length)`, *optional*):\n",
    "                Mask to avoid performing attention on certain queries. Mask values selected in `[0, 1]`:\n",
    "                - 1 for queries that are **not masked**,\n",
    "                - 0 for queries that are **masked**.\n",
    "                [What are attention masks?](../glossary#attention-mask)\n",
    "            encoder_hidden_states (`torch.FloatTensor` of shape `(batch_size, encoder_sequence_length, hidden_size)`, *optional*):\n",
    "                Sequence of hidden-states at the output of the last layer of the encoder. Used in the cross-attention\n",
    "                of the decoder.\n",
    "            encoder_attention_mask (`torch.LongTensor` of shape `(batch_size, encoder_sequence_length)`, *optional*):\n",
    "                Mask to avoid performing cross-attention on padding pixel_values of the encoder. Mask values selected\n",
    "                in `[0, 1]`:\n",
    "                - 1 for pixels that are real (i.e. **not masked**),\n",
    "                - 0 for pixels that are padding (i.e. **masked**).\n",
    "            position_embeddings (`torch.FloatTensor` of shape `(batch_size, sequence_length, hidden_size)`, *optional*):\n",
    "                Position embeddings that are added to the queries and keys in each cross-attention layer.\n",
    "            query_position_embeddings (`torch.FloatTensor` of shape `(batch_size, num_queries, hidden_size)`):\n",
    "                , *optional*): Position embeddings that are added to the queries and keys in each self-attention layer.\n",
    "            output_attentions (`bool`, *optional*):\n",
    "                Whether or not to return the attentions tensors of all attention layers. See `attentions` under\n",
    "                returned tensors for more detail.\n",
    "            output_hidden_states (`bool`, *optional*):\n",
    "                Whether or not to return the hidden states of all layers. See `hidden_states` under returned tensors\n",
    "                for more detail.\n",
    "            return_dict (`bool`, *optional*):\n",
    "                Whether or not to return a [`~utils.ModelOutput`] instead of a plain tuple.\n",
    "        \"\"\"\n",
    "        output_attentions = output_attentions if output_attentions is not None else self.output_attentions\n",
    "        output_hidden_states = (\n",
    "            output_hidden_states if output_hidden_states is not None else self.output_hidden_states\n",
    "        )\n",
    "        return_dict = return_dict if return_dict is not None else self.use_return_dict\n",
    "\n",
    "        if inputs_embeds is not None:\n",
    "            hidden_states = inputs_embeds\n",
    "            input_shape = inputs_embeds.size()[:-1]\n",
    "\n",
    "        combined_attention_mask = None\n",
    "\n",
    "        if attention_mask is not None and combined_attention_mask is not None:\n",
    "            # [batch_size, seq_len] -> [batch_size, 1, target_seq_len, source_seq_len]\n",
    "            combined_attention_mask = combined_attention_mask + _expand_mask(\n",
    "                attention_mask, inputs_embeds.dtype, target_len=input_shape[-1]\n",
    "            )\n",
    "\n",
    "        # expand encoder attention mask\n",
    "        if encoder_hidden_states is not None and encoder_attention_mask is not None:\n",
    "            # [batch_size, seq_len] -> [batch_size, 1, target_seq_len, source_seq_len]\n",
    "            encoder_attention_mask = _expand_mask(\n",
    "                encoder_attention_mask, inputs_embeds.dtype, target_len=input_shape[-1]\n",
    "            )\n",
    "\n",
    "        # optional intermediate hidden states\n",
    "        intermediate = () if self.auxiliary_loss else None\n",
    "\n",
    "        # decoder layers\n",
    "        all_hidden_states = () if output_hidden_states else None\n",
    "        all_self_attns = () if output_attentions else None\n",
    "        all_cross_attentions = () if (output_attentions and encoder_hidden_states is not None) else None\n",
    "\n",
    "        for idx, decoder_layer in enumerate(self.layers):\n",
    "            # add LayerDrop (see https://arxiv.org/abs/1909.11556 for description)\n",
    "            if output_hidden_states:\n",
    "                all_hidden_states += (hidden_states,)\n",
    "            dropout_probability = random.uniform(0, 1)\n",
    "            if self.training and (dropout_probability < self.layerdrop):\n",
    "                continue\n",
    "\n",
    "            if self.gradient_checkpointing and self.training:\n",
    "\n",
    "                def create_custom_forward(module):\n",
    "                    def custom_forward(*inputs):\n",
    "                        return module(*inputs, output_attentions)\n",
    "\n",
    "                    return custom_forward\n",
    "\n",
    "                layer_outputs = torch.utils.checkpoint.checkpoint(\n",
    "                    create_custom_forward(decoder_layer),\n",
    "                    hidden_states,\n",
    "                    combined_attention_mask,\n",
    "                    encoder_hidden_states,\n",
    "                    encoder_attention_mask,\n",
    "                    None,\n",
    "                )\n",
    "            else:\n",
    "                layer_outputs = decoder_layer(\n",
    "                    hidden_states,\n",
    "                    attention_mask=combined_attention_mask,\n",
    "                    position_embeddings=position_embeddings,\n",
    "                    query_position_embeddings=query_position_embeddings,\n",
    "                    encoder_hidden_states=encoder_hidden_states,\n",
    "                    encoder_attention_mask=encoder_attention_mask,\n",
    "                    output_attentions=output_attentions,\n",
    "                )\n",
    "\n",
    "            hidden_states = layer_outputs[0]\n",
    "\n",
    "            if self.auxiliary_loss:\n",
    "                hidden_states = self.layernorm(hidden_states)\n",
    "                intermediate += (hidden_states,)\n",
    "\n",
    "            if output_attentions:\n",
    "                all_self_attns += (layer_outputs[1],)\n",
    "\n",
    "                if encoder_hidden_states is not None:\n",
    "                    all_cross_attentions += (layer_outputs[2],)\n",
    "\n",
    "        # finally, apply layernorm\n",
    "        hidden_states = self.layernorm(hidden_states)\n",
    "\n",
    "        # add hidden states from the last decoder layer\n",
    "        if output_hidden_states:\n",
    "            all_hidden_states += (hidden_states,)\n",
    "\n",
    "        # stack intermediate decoder activations\n",
    "        if self.auxiliary_loss:\n",
    "            intermediate = torch.stack(intermediate)\n",
    "\n",
    "        if not return_dict:\n",
    "            return tuple(\n",
    "                v\n",
    "                for v in [hidden_states, all_hidden_states, all_self_attns, all_cross_attentions, intermediate]\n",
    "                if v is not None\n",
    "            )\n"
   ]
  },
  {
   "cell_type": "code",
   "execution_count": 16,
   "metadata": {},
   "outputs": [],
   "source": [
    "class DetrModel(nn.Module):\n",
    "    def __init__(self, use_timm_backbone, dilation, backbone, use_pretrained_backbone, \n",
    "                 num_channels, backbone_config, d_model, num_queries, position_embedding_type, \n",
    "                 encoder_layers, decoder_layers, encoder_layerdrop, decoder_layerdrop, \n",
    "                 encoder_attention_heads, decoder_attention_heads, attention_dropout, \n",
    "                 activation_dropout, dropout, encoder_ffn_dim, decoder_ffn_dim, \n",
    "                 output_attentions, output_hidden_states, use_return_dict, auxiliary_loss):\n",
    "        super().__init__()\n",
    "\n",
    "        # Create backbone + positional encoding\n",
    "        backbone = DetrConvEncoder(use_timm_backbone, dilation, backbone, use_pretrained_backbone, \n",
    "                 num_channels, backbone_config)\n",
    "        position_embeddings = build_position_encoding(d_model, position_embedding_type)\n",
    "        self.backbone = DetrConvModel(backbone, position_embeddings)\n",
    "\n",
    "        # Create projection layer\n",
    "        self.input_projection = nn.Conv2d(backbone.intermediate_channel_sizes[-1], d_model, kernel_size=1)\n",
    "\n",
    "        self.query_position_embeddings = nn.Embedding(num_queries, d_model)\n",
    "\n",
    "        self.encoder = DetrEncoder(encoder_layers, encoder_layerdrop, d_model, \n",
    "                 encoder_attention_heads, attention_dropout, activation_dropout, \n",
    "                 dropout, encoder_ffn_dim, output_attentions, output_hidden_states, \n",
    "                 use_return_dict)\n",
    "        self.decoder = DetrDecoder(decoder_layers, decoder_layerdrop, d_model, \n",
    "                 decoder_attention_heads, attention_dropout, activation_dropout, \n",
    "                 dropout, decoder_ffn_dim, output_attentions, output_hidden_states, \n",
    "                 use_return_dict, auxiliary_loss)\n",
    "\n",
    "        # Initialize weights and apply final processing\n",
    "        \n",
    "        self.output_attentions = output_attentions\n",
    "        self.output_hidden_states = output_hidden_states\n",
    "        self.use_return_dict = use_return_dict\n",
    "\n",
    "    def get_encoder(self):\n",
    "        return self.encoder\n",
    "\n",
    "    def get_decoder(self):\n",
    "        return self.decoder\n",
    "\n",
    "    def freeze_backbone(self):\n",
    "        for name, param in self.backbone.conv_encoder.model.named_parameters():\n",
    "            param.requires_grad_(False)\n",
    "\n",
    "    def unfreeze_backbone(self):\n",
    "        for name, param in self.backbone.conv_encoder.model.named_parameters():\n",
    "            param.requires_grad_(True)\n",
    "\n",
    "    def forward(\n",
    "        self,\n",
    "        pixel_values,\n",
    "        pixel_mask=None,\n",
    "        decoder_attention_mask=None,\n",
    "        encoder_outputs=None,\n",
    "        inputs_embeds=None,\n",
    "        decoder_inputs_embeds=None,\n",
    "        output_attentions=None,\n",
    "        output_hidden_states=None,\n",
    "        return_dict=None,\n",
    "    ):\n",
    "        r\"\"\"\n",
    "        Returns:\n",
    "        Examples:\n",
    "        ```python\n",
    "        >>> from transformers import AutoImageProcessor, DetrModel\n",
    "        >>> from PIL import Image\n",
    "        >>> import requests\n",
    "        >>> url = \"http://images.cocodataset.org/val2017/000000039769.jpg\"\n",
    "        >>> image = Image.open(requests.get(url, stream=True).raw)\n",
    "        >>> image_processor = AutoImageProcessor.from_pretrained(\"facebook/detr-resnet-50\")\n",
    "        >>> model = DetrModel.from_pretrained(\"facebook/detr-resnet-50\")\n",
    "        >>> # prepare image for the model\n",
    "        >>> inputs = image_processor(images=image, return_tensors=\"pt\")\n",
    "        >>> # forward pass\n",
    "        >>> outputs = model(**inputs)\n",
    "        >>> # the last hidden states are the final query embeddings of the Transformer decoder\n",
    "        >>> # these are of shape (batch_size, num_queries, hidden_size)\n",
    "        >>> last_hidden_states = outputs.last_hidden_state\n",
    "        >>> list(last_hidden_states.shape)\n",
    "        [1, 100, 256]\n",
    "        ```\"\"\"\n",
    "        output_attentions = output_attentions if output_attentions is not None else self.output_attentions\n",
    "        output_hidden_states = (\n",
    "            output_hidden_states if output_hidden_states is not None else self.output_hidden_states\n",
    "        )\n",
    "        return_dict = return_dict if return_dict is not None else self.use_return_dict\n",
    "\n",
    "        batch_size, num_channels, height, width = pixel_values.shape\n",
    "        device = pixel_values.device\n",
    "\n",
    "        if pixel_mask is None:\n",
    "            pixel_mask = torch.ones(((batch_size, height, width)), device=device)\n",
    "\n",
    "        # First, sent pixel_values + pixel_mask through Backbone to obtain the features\n",
    "        # pixel_values should be of shape (batch_size, num_channels, height, width)\n",
    "        # pixel_mask should be of shape (batch_size, height, width)     \n",
    "        features, position_embeddings_list = self.backbone(pixel_values, pixel_mask)\n",
    "\n",
    "        # get final feature map and downsampled mask\n",
    "        feature_map, mask = features[-1]\n",
    "\n",
    "        if mask is None:\n",
    "            raise ValueError(\"Backbone does not return downsampled pixel mask\")\n",
    "\n",
    "        # Second, apply 1x1 convolution to reduce the channel dimension to d_model (256 by default)\n",
    "        projected_feature_map = self.input_projection(feature_map)\n",
    "\n",
    "        # Third, flatten the feature map + position embeddings of shape NxCxHxW to NxCxHW, and permute it to NxHWxC\n",
    "        # In other words, turn their shape into (batch_size, sequence_length, hidden_size)\n",
    "        flattened_features = projected_feature_map.flatten(2).permute(0, 2, 1)\n",
    "        position_embeddings = position_embeddings_list[-1].flatten(2).permute(0, 2, 1)\n",
    "\n",
    "        flattened_mask = mask.flatten(1)\n",
    "\n",
    "        # Fourth, sent flattened_features + flattened_mask + position embeddings through encoder\n",
    "        # flattened_features is a Tensor of shape (batch_size, heigth*width, hidden_size)\n",
    "        # flattened_mask is a Tensor of shape (batch_size, heigth*width)\n",
    "        \n",
    "        if encoder_outputs is None:\n",
    "            encoder_outputs = self.encoder(\n",
    "                inputs_embeds=flattened_features,\n",
    "                attention_mask=flattened_mask,\n",
    "                position_embeddings=position_embeddings,\n",
    "                output_attentions=output_attentions,\n",
    "                output_hidden_states=output_hidden_states,\n",
    "                return_dict=return_dict,\n",
    "            )\n",
    "        # If the user passed a tuple for encoder_outputs, we wrap it in a BaseModelOutput when return_dict=True\n",
    "        elif return_dict and not isinstance(encoder_outputs, BaseModelOutput):\n",
    "            encoder_outputs = BaseModelOutput(\n",
    "                last_hidden_state=encoder_outputs[0],\n",
    "                hidden_states=encoder_outputs[1] if len(encoder_outputs) > 1 else None,\n",
    "                attentions=encoder_outputs[2] if len(encoder_outputs) > 2 else None,\n",
    "            )\n",
    "\n",
    "        # Fifth, sent query embeddings + position embeddings through the decoder (which is conditioned on the encoder output)\n",
    "        query_position_embeddings = self.query_position_embeddings.weight.unsqueeze(0).repeat(batch_size, 1, 1)\n",
    "        queries = torch.zeros_like(query_position_embeddings)\n",
    "\n",
    "        # decoder outputs consists of (dec_features, dec_hidden, dec_attn)\n",
    "        decoder_outputs = self.decoder(\n",
    "            inputs_embeds=queries,\n",
    "            attention_mask=None,\n",
    "            position_embeddings=position_embeddings,\n",
    "            query_position_embeddings=query_position_embeddings,\n",
    "            encoder_hidden_states=encoder_outputs[0],\n",
    "            encoder_attention_mask=flattened_mask,\n",
    "            output_attentions=output_attentions,\n",
    "            output_hidden_states=output_hidden_states,\n",
    "            return_dict=return_dict,\n",
    "        )\n",
    "\n",
    "        if not return_dict:\n",
    "            return decoder_outputs + encoder_outputs\n"
   ]
  },
  {
   "cell_type": "code",
   "execution_count": 17,
   "metadata": {},
   "outputs": [],
   "source": [
    "class DetrForImageClassification(nn.Module):\n",
    "    def __init__(self, num_labels, use_timm_backbone, dilation, backbone, use_pretrained_backbone, \n",
    "                 num_channels, backbone_config, d_model, num_queries, position_embedding_type, \n",
    "                 encoder_layers, decoder_layers, encoder_layerdrop, decoder_layerdrop, \n",
    "                 encoder_attention_heads, decoder_attention_heads, attention_dropout, \n",
    "                 activation_dropout, dropout, encoder_ffn_dim, decoder_ffn_dim, \n",
    "                 output_attentions, output_hidden_states, use_return_dict, auxiliary_loss) -> None:\n",
    "        super().__init__()\n",
    "\n",
    "        self.num_labels = num_labels\n",
    "        self.use_return_dict = use_return_dict\n",
    "        self.model = DetrModel(use_timm_backbone, dilation, backbone, use_pretrained_backbone, \n",
    "                 num_channels, backbone_config, d_model, num_queries, position_embedding_type, \n",
    "                 encoder_layers, decoder_layers, encoder_layerdrop, decoder_layerdrop, \n",
    "                 encoder_attention_heads, decoder_attention_heads, attention_dropout, \n",
    "                 activation_dropout, dropout, encoder_ffn_dim, decoder_ffn_dim, \n",
    "                 output_attentions, output_hidden_states, use_return_dict, auxiliary_loss)\n",
    "        \n",
    "        # Classifier head\n",
    "        self.classifier = nn.Linear(d_model, num_labels) if num_labels > 0 else nn.Identity()\n",
    "\n",
    "        # Initialize weights and apply final processing\n",
    "\n",
    "    def forward(\n",
    "        self,\n",
    "        pixel_values: Optional[torch.Tensor] = None,\n",
    "        head_mask: Optional[torch.Tensor] = None,\n",
    "        labels: Optional[torch.Tensor] = None,\n",
    "        output_attentions: Optional[bool] = None,\n",
    "        output_hidden_states: Optional[bool] = None,\n",
    "        interpolate_pos_encoding: Optional[bool] = None,\n",
    "        return_dict: Optional[bool] = None,\n",
    "    ) -> Union[tuple]:\n",
    "        r\"\"\"\n",
    "        labels (`torch.LongTensor` of shape `(batch_size,)`, *optional*):\n",
    "            Labels for computing the image classification/regression loss. Indices should be in `[0, ...,\n",
    "            config.num_labels - 1]`. If `config.num_labels == 1` a regression loss is computed (Mean-Square loss), If\n",
    "            `config.num_labels > 1` a classification loss is computed (Cross-Entropy).\n",
    "        \"\"\"\n",
    "        return_dict = return_dict if return_dict is not None else self.use_return_dict\n",
    "\n",
    "        outputs = self.model(\n",
    "            pixel_values,\n",
    "        )\n",
    "\n",
    "        sequence_output = outputs[0]\n",
    "\n",
    "        logits = self.classifier(sequence_output[:, 0, :])\n",
    "\n",
    "        loss = None\n",
    "        if labels is not None:\n",
    "            # move labels to correct device to enable model parallelism\n",
    "            labels = labels.to(logits.device)\n",
    "            if self.config.problem_type is None:\n",
    "                if self.num_labels == 1:\n",
    "                    self.config.problem_type = \"regression\"\n",
    "                elif self.num_labels > 1 and (labels.dtype == torch.long or labels.dtype == torch.int):\n",
    "                    self.config.problem_type = \"single_label_classification\"\n",
    "                else:\n",
    "                    self.config.problem_type = \"multi_label_classification\"\n",
    "\n",
    "            if self.config.problem_type == \"regression\":\n",
    "                loss_fct = MSELoss()\n",
    "                if self.num_labels == 1:\n",
    "                    loss = loss_fct(logits.squeeze(), labels.squeeze())\n",
    "                else:\n",
    "                    loss = loss_fct(logits, labels)\n",
    "            elif self.config.problem_type == \"single_label_classification\":\n",
    "                loss_fct = CrossEntropyLoss()\n",
    "                loss = loss_fct(logits.view(-1, self.num_labels), labels.view(-1))\n",
    "            elif self.config.problem_type == \"multi_label_classification\":\n",
    "                loss_fct = BCEWithLogitsLoss()\n",
    "                loss = loss_fct(logits, labels)\n",
    "\n",
    "        if not return_dict:\n",
    "            output = (logits,) + outputs[1:]\n",
    "            return ((loss,) + output) if loss is not None else output\n"
   ]
  },
  {
   "cell_type": "code",
   "execution_count": 18,
   "metadata": {
    "scrolled": false
   },
   "outputs": [],
   "source": [
    "num_labels = 10\n",
    "use_timm_backbone = True\n",
    "dilation = True\n",
    "backbone = \"resnet50\"\n",
    "use_pretrained_backbone = False\n",
    "num_channels = 3\n",
    "backbone_config = None\n",
    "d_model = 64\n",
    "num_queries = 10\n",
    "position_embedding_type = \"sine\"\n",
    "encoder_layers = 2\n",
    "decoder_layers = 2\n",
    "activation_dropout = 0\n",
    "dropout = 0\n",
    "encoder_layerdrop = 0.0\n",
    "decoder_layerdrop = 0.0\n",
    "encoder_attention_heads = 2\n",
    "decoder_attention_heads = 2\n",
    "attention_dropout = 0.0\n",
    "encoder_ffn_dim = 64\n",
    "decoder_ffn_dim = 64\n",
    "output_attentions = False\n",
    "output_hidden_states = False\n",
    "use_return_dict = False\n",
    "auxiliary_loss = True\n",
    "\n",
    "modelClassification = DetrForImageClassification(\n",
    "    num_labels=num_labels,\n",
    "    use_timm_backbone=use_timm_backbone,\n",
    "    dilation=dilation,\n",
    "    backbone=backbone,\n",
    "    use_pretrained_backbone=use_pretrained_backbone,\n",
    "    num_channels=num_channels,\n",
    "    backbone_config=backbone_config,\n",
    "    d_model=d_model,\n",
    "    num_queries=num_queries,\n",
    "    position_embedding_type=position_embedding_type,\n",
    "    encoder_layers=encoder_layers,\n",
    "    decoder_layers=decoder_layers,\n",
    "    activation_dropout=activation_dropout,\n",
    "    dropout=dropout,\n",
    "    encoder_layerdrop=encoder_layerdrop,\n",
    "    decoder_layerdrop=decoder_layerdrop,\n",
    "    encoder_attention_heads=encoder_attention_heads,\n",
    "    decoder_attention_heads=decoder_attention_heads,\n",
    "    attention_dropout=attention_dropout,\n",
    "    encoder_ffn_dim=encoder_ffn_dim,\n",
    "    decoder_ffn_dim=decoder_ffn_dim,\n",
    "    output_attentions=output_attentions,\n",
    "    output_hidden_states=output_hidden_states,\n",
    "    use_return_dict=use_return_dict,\n",
    "    auxiliary_loss=auxiliary_loss\n",
    ")"
   ]
  },
  {
   "cell_type": "code",
   "execution_count": 19,
   "metadata": {},
   "outputs": [
    {
     "name": "stdout",
     "output_type": "stream",
     "text": [
      "torch.Size([5, 10])\n"
     ]
    }
   ],
   "source": [
    "images = torch.randn(5, 3, 32, 32)\n",
    "outputs = modelClassification(pixel_values=images)\n",
    "print(outputs[0].shape)"
   ]
  },
  {
   "cell_type": "code",
   "execution_count": 20,
   "metadata": {},
   "outputs": [],
   "source": [
    "import torch.optim as optim\n",
    "from torch.utils.data import DataLoader\n",
    "import torchvision\n",
    "import torchvision.datasets as datasets\n",
    "import torchvision.transforms as transforms\n",
    "import matplotlib.pyplot as plt\n",
    "import numpy as np\n",
    "from tqdm import tqdm "
   ]
  },
  {
   "cell_type": "code",
   "execution_count": 21,
   "metadata": {},
   "outputs": [
    {
     "name": "stdout",
     "output_type": "stream",
     "text": [
      "Files already downloaded and verified\n",
      "Files already downloaded and verified\n"
     ]
    }
   ],
   "source": [
    "batch_size = 64\n",
    "learning_rate = 3e-4\n",
    "train_dataset = datasets.CIFAR10(root='dataset/', train=True, transform=transforms.ToTensor(), download=True)\n",
    "train_loader = DataLoader(dataset=train_dataset, batch_size=batch_size, shuffle=True)\n",
    "test_dataset = datasets.CIFAR10(root=\"dataset/\", train=False, transform=transforms.ToTensor(), download=True)\n",
    "test_loader = DataLoader(dataset=test_dataset, batch_size=batch_size, shuffle=True)"
   ]
  },
  {
   "cell_type": "code",
   "execution_count": 22,
   "metadata": {},
   "outputs": [],
   "source": [
    "classes = ['plane', 'car', 'bird', 'cat', 'deer', 'dog', 'frog', 'horse', 'ship', 'truck']"
   ]
  },
  {
   "cell_type": "code",
   "execution_count": 23,
   "metadata": {},
   "outputs": [],
   "source": [
    "def imshow(img):\n",
    "    img = img / 2 + 0.5  # unnormalize\n",
    "    npimg = img.numpy()\n",
    "    plt.imshow(np.transpose(npimg, (1, 2, 0)))\n",
    "    plt.show()"
   ]
  },
  {
   "cell_type": "code",
   "execution_count": 24,
   "metadata": {},
   "outputs": [],
   "source": [
    "dataiter = iter(train_loader)\n",
    "images, labels = next(dataiter)"
   ]
  },
  {
   "cell_type": "code",
   "execution_count": 25,
   "metadata": {},
   "outputs": [
    {
     "name": "stdout",
     "output_type": "stream",
     "text": [
      "ship\n"
     ]
    },
    {
     "data": {
      "image/png": "[encoded data removed]",
      "text/plain": [
       "<Figure size 432x288 with 1 Axes>"
      ]
     },
     "metadata": {
      "needs_background": "light"
     },
     "output_type": "display_data"
    }
   ],
   "source": [
    "print(classes[labels[63]])\n",
    "imshow(torchvision.utils.make_grid(images[63]))"
   ]
  },
  {
   "cell_type": "code",
   "execution_count": 26,
   "metadata": {},
   "outputs": [],
   "source": [
    "criterion = nn.CrossEntropyLoss()\n",
    "optimizer = optim.Adam(modelClassification.parameters(), lr=learning_rate)"
   ]
  },
  {
   "cell_type": "code",
   "execution_count": 27,
   "metadata": {},
   "outputs": [],
   "source": [
    "num_epochs = 100\n",
    "device = torch.device('cpu')"
   ]
  },
  {
   "cell_type": "code",
   "execution_count": 28,
   "metadata": {},
   "outputs": [
    {
     "name": "stderr",
     "output_type": "stream",
     "text": [
      "100%|████████████████████████████████████████████████████████████████████████████████| 782/782 [08:22<00:00,  1.56it/s]\n",
      "  0%|                                                                                          | 0/782 [00:00<?, ?it/s]"
     ]
    },
    {
     "name": "stdout",
     "output_type": "stream",
     "text": [
      "Epoch: 0 Loss: 1.7664159536361694\n"
     ]
    },
    {
     "name": "stderr",
     "output_type": "stream",
     "text": [
      "100%|████████████████████████████████████████████████████████████████████████████████| 782/782 [09:41<00:00,  1.35it/s]\n",
      "  0%|                                                                                          | 0/782 [00:00<?, ?it/s]"
     ]
    },
    {
     "name": "stdout",
     "output_type": "stream",
     "text": [
      "Epoch: 1 Loss: 1.5363328456878662\n"
     ]
    },
    {
     "name": "stderr",
     "output_type": "stream",
     "text": [
      "100%|████████████████████████████████████████████████████████████████████████████████| 782/782 [09:36<00:00,  1.36it/s]\n",
      "  0%|                                                                                          | 0/782 [00:00<?, ?it/s]"
     ]
    },
    {
     "name": "stdout",
     "output_type": "stream",
     "text": [
      "Epoch: 2 Loss: 2.1764719486236572\n"
     ]
    },
    {
     "name": "stderr",
     "output_type": "stream",
     "text": [
      "100%|████████████████████████████████████████████████████████████████████████████████| 782/782 [09:37<00:00,  1.35it/s]\n",
      "  0%|                                                                                          | 0/782 [00:00<?, ?it/s]"
     ]
    },
    {
     "name": "stdout",
     "output_type": "stream",
     "text": [
      "Epoch: 3 Loss: 1.6342103481292725\n"
     ]
    },
    {
     "name": "stderr",
     "output_type": "stream",
     "text": [
      "100%|████████████████████████████████████████████████████████████████████████████████| 782/782 [09:37<00:00,  1.35it/s]\n",
      "  0%|                                                                                          | 0/782 [00:00<?, ?it/s]"
     ]
    },
    {
     "name": "stdout",
     "output_type": "stream",
     "text": [
      "Epoch: 4 Loss: 1.298985481262207\n"
     ]
    },
    {
     "name": "stderr",
     "output_type": "stream",
     "text": [
      "100%|████████████████████████████████████████████████████████████████████████████████| 782/782 [09:37<00:00,  1.35it/s]\n",
      "  0%|                                                                                          | 0/782 [00:00<?, ?it/s]"
     ]
    },
    {
     "name": "stdout",
     "output_type": "stream",
     "text": [
      "Epoch: 5 Loss: 1.2573175430297852\n"
     ]
    },
    {
     "name": "stderr",
     "output_type": "stream",
     "text": [
      "100%|████████████████████████████████████████████████████████████████████████████████| 782/782 [09:34<00:00,  1.36it/s]\n",
      "  0%|                                                                                          | 0/782 [00:00<?, ?it/s]"
     ]
    },
    {
     "name": "stdout",
     "output_type": "stream",
     "text": [
      "Epoch: 6 Loss: 1.443627953529358\n"
     ]
    },
    {
     "name": "stderr",
     "output_type": "stream",
     "text": [
      "100%|████████████████████████████████████████████████████████████████████████████████| 782/782 [09:34<00:00,  1.36it/s]\n",
      "  0%|                                                                                          | 0/782 [00:00<?, ?it/s]"
     ]
    },
    {
     "name": "stdout",
     "output_type": "stream",
     "text": [
      "Epoch: 7 Loss: 1.8281599283218384\n"
     ]
    },
    {
     "name": "stderr",
     "output_type": "stream",
     "text": [
      "100%|████████████████████████████████████████████████████████████████████████████████| 782/782 [09:34<00:00,  1.36it/s]\n",
      "  0%|                                                                                          | 0/782 [00:00<?, ?it/s]"
     ]
    },
    {
     "name": "stdout",
     "output_type": "stream",
     "text": [
      "Epoch: 8 Loss: 0.7796991467475891\n"
     ]
    },
    {
     "name": "stderr",
     "output_type": "stream",
     "text": [
      "100%|████████████████████████████████████████████████████████████████████████████████| 782/782 [09:35<00:00,  1.36it/s]\n",
      "  0%|                                                                                          | 0/782 [00:00<?, ?it/s]"
     ]
    },
    {
     "name": "stdout",
     "output_type": "stream",
     "text": [
      "Epoch: 9 Loss: 1.2514439821243286\n"
     ]
    },
    {
     "name": "stderr",
     "output_type": "stream",
     "text": [
      "100%|████████████████████████████████████████████████████████████████████████████████| 782/782 [09:34<00:00,  1.36it/s]\n",
      "  0%|                                                                                          | 0/782 [00:00<?, ?it/s]"
     ]
    },
    {
     "name": "stdout",
     "output_type": "stream",
     "text": [
      "Epoch: 10 Loss: 1.1235840320587158\n"
     ]
    },
    {
     "name": "stderr",
     "output_type": "stream",
     "text": [
      "100%|████████████████████████████████████████████████████████████████████████████████| 782/782 [09:34<00:00,  1.36it/s]\n",
      "  0%|                                                                                          | 0/782 [00:00<?, ?it/s]"
     ]
    },
    {
     "name": "stdout",
     "output_type": "stream",
     "text": [
      "Epoch: 11 Loss: 0.60024493932724\n"
     ]
    },
    {
     "name": "stderr",
     "output_type": "stream",
     "text": [
      "100%|████████████████████████████████████████████████████████████████████████████████| 782/782 [09:35<00:00,  1.36it/s]\n",
      "  0%|                                                                                          | 0/782 [00:00<?, ?it/s]"
     ]
    },
    {
     "name": "stdout",
     "output_type": "stream",
     "text": [
      "Epoch: 12 Loss: 0.3884141147136688\n"
     ]
    },
    {
     "name": "stderr",
     "output_type": "stream",
     "text": [
      "100%|████████████████████████████████████████████████████████████████████████████████| 782/782 [09:34<00:00,  1.36it/s]\n",
      "  0%|                                                                                          | 0/782 [00:00<?, ?it/s]"
     ]
    },
    {
     "name": "stdout",
     "output_type": "stream",
     "text": [
      "Epoch: 13 Loss: 1.1200603246688843\n"
     ]
    },
    {
     "name": "stderr",
     "output_type": "stream",
     "text": [
      "100%|████████████████████████████████████████████████████████████████████████████████| 782/782 [09:31<00:00,  1.37it/s]\n",
      "  0%|                                                                                          | 0/782 [00:00<?, ?it/s]"
     ]
    },
    {
     "name": "stdout",
     "output_type": "stream",
     "text": [
      "Epoch: 14 Loss: 0.5139546990394592\n"
     ]
    },
    {
     "name": "stderr",
     "output_type": "stream",
     "text": [
      "100%|████████████████████████████████████████████████████████████████████████████████| 782/782 [09:31<00:00,  1.37it/s]\n",
      "  0%|                                                                                          | 0/782 [00:00<?, ?it/s]"
     ]
    },
    {
     "name": "stdout",
     "output_type": "stream",
     "text": [
      "Epoch: 15 Loss: 0.6440439224243164\n"
     ]
    },
    {
     "name": "stderr",
     "output_type": "stream",
     "text": [
      "100%|████████████████████████████████████████████████████████████████████████████████| 782/782 [09:33<00:00,  1.36it/s]\n",
      "  0%|                                                                                          | 0/782 [00:00<?, ?it/s]"
     ]
    },
    {
     "name": "stdout",
     "output_type": "stream",
     "text": [
      "Epoch: 16 Loss: 0.8525748252868652\n"
     ]
    },
    {
     "name": "stderr",
     "output_type": "stream",
     "text": [
      "100%|████████████████████████████████████████████████████████████████████████████████| 782/782 [09:30<00:00,  1.37it/s]\n",
      "  0%|                                                                                          | 0/782 [00:00<?, ?it/s]"
     ]
    },
    {
     "name": "stdout",
     "output_type": "stream",
     "text": [
      "Epoch: 17 Loss: 1.417183518409729\n"
     ]
    },
    {
     "name": "stderr",
     "output_type": "stream",
     "text": [
      "100%|████████████████████████████████████████████████████████████████████████████████| 782/782 [09:30<00:00,  1.37it/s]\n",
      "  0%|                                                                                          | 0/782 [00:00<?, ?it/s]"
     ]
    },
    {
     "name": "stdout",
     "output_type": "stream",
     "text": [
      "Epoch: 18 Loss: 0.3066483736038208\n"
     ]
    },
    {
     "name": "stderr",
     "output_type": "stream",
     "text": [
      "100%|████████████████████████████████████████████████████████████████████████████████| 782/782 [09:31<00:00,  1.37it/s]\n",
      "  0%|                                                                                          | 0/782 [00:00<?, ?it/s]"
     ]
    },
    {
     "name": "stdout",
     "output_type": "stream",
     "text": [
      "Epoch: 19 Loss: 0.5687718987464905\n"
     ]
    },
    {
     "name": "stderr",
     "output_type": "stream",
     "text": [
      "100%|████████████████████████████████████████████████████████████████████████████████| 782/782 [09:30<00:00,  1.37it/s]\n",
      "  0%|                                                                                          | 0/782 [00:00<?, ?it/s]"
     ]
    },
    {
     "name": "stdout",
     "output_type": "stream",
     "text": [
      "Epoch: 20 Loss: 1.065653681755066\n"
     ]
    },
    {
     "name": "stderr",
     "output_type": "stream",
     "text": [
      "100%|████████████████████████████████████████████████████████████████████████████████| 782/782 [09:31<00:00,  1.37it/s]\n",
      "  0%|                                                                                          | 0/782 [00:00<?, ?it/s]"
     ]
    },
    {
     "name": "stdout",
     "output_type": "stream",
     "text": [
      "Epoch: 21 Loss: 0.3892928659915924\n"
     ]
    },
    {
     "name": "stderr",
     "output_type": "stream",
     "text": [
      "100%|████████████████████████████████████████████████████████████████████████████████| 782/782 [09:30<00:00,  1.37it/s]\n",
      "  0%|                                                                                          | 0/782 [00:00<?, ?it/s]"
     ]
    },
    {
     "name": "stdout",
     "output_type": "stream",
     "text": [
      "Epoch: 22 Loss: 0.4416012167930603\n"
     ]
    },
    {
     "name": "stderr",
     "output_type": "stream",
     "text": [
      "100%|████████████████████████████████████████████████████████████████████████████████| 782/782 [09:30<00:00,  1.37it/s]\n",
      "  0%|                                                                                          | 0/782 [00:00<?, ?it/s]"
     ]
    },
    {
     "name": "stdout",
     "output_type": "stream",
     "text": [
      "Epoch: 23 Loss: 0.3041522204875946\n"
     ]
    },
    {
     "name": "stderr",
     "output_type": "stream",
     "text": [
      "100%|████████████████████████████████████████████████████████████████████████████████| 782/782 [09:30<00:00,  1.37it/s]\n",
      "  0%|                                                                                          | 0/782 [00:00<?, ?it/s]"
     ]
    },
    {
     "name": "stdout",
     "output_type": "stream",
     "text": [
      "Epoch: 24 Loss: 0.32107070088386536\n"
     ]
    },
    {
     "name": "stderr",
     "output_type": "stream",
     "text": [
      "100%|████████████████████████████████████████████████████████████████████████████████| 782/782 [09:30<00:00,  1.37it/s]\n",
      "  0%|                                                                                          | 0/782 [00:00<?, ?it/s]"
     ]
    },
    {
     "name": "stdout",
     "output_type": "stream",
     "text": [
      "Epoch: 25 Loss: 0.6905975937843323\n"
     ]
    },
    {
     "name": "stderr",
     "output_type": "stream",
     "text": [
      "100%|████████████████████████████████████████████████████████████████████████████████| 782/782 [09:31<00:00,  1.37it/s]\n",
      "  0%|                                                                                          | 0/782 [00:00<?, ?it/s]"
     ]
    },
    {
     "name": "stdout",
     "output_type": "stream",
     "text": [
      "Epoch: 26 Loss: 0.050578922033309937\n"
     ]
    },
    {
     "name": "stderr",
     "output_type": "stream",
     "text": [
      "100%|████████████████████████████████████████████████████████████████████████████████| 782/782 [09:29<00:00,  1.37it/s]\n",
      "  0%|                                                                                          | 0/782 [00:00<?, ?it/s]"
     ]
    },
    {
     "name": "stdout",
     "output_type": "stream",
     "text": [
      "Epoch: 27 Loss: 0.7956045269966125\n"
     ]
    },
    {
     "name": "stderr",
     "output_type": "stream",
     "text": [
      "100%|████████████████████████████████████████████████████████████████████████████████| 782/782 [09:31<00:00,  1.37it/s]\n",
      "  0%|                                                                                          | 0/782 [00:00<?, ?it/s]"
     ]
    },
    {
     "name": "stdout",
     "output_type": "stream",
     "text": [
      "Epoch: 28 Loss: 0.04852501302957535\n"
     ]
    },
    {
     "name": "stderr",
     "output_type": "stream",
     "text": [
      "100%|████████████████████████████████████████████████████████████████████████████████| 782/782 [09:28<00:00,  1.37it/s]\n",
      "  0%|                                                                                          | 0/782 [00:00<?, ?it/s]"
     ]
    },
    {
     "name": "stdout",
     "output_type": "stream",
     "text": [
      "Epoch: 29 Loss: 0.9538877010345459\n"
     ]
    },
    {
     "name": "stderr",
     "output_type": "stream",
     "text": [
      "100%|████████████████████████████████████████████████████████████████████████████████| 782/782 [09:31<00:00,  1.37it/s]\n",
      "  0%|                                                                                          | 0/782 [00:00<?, ?it/s]"
     ]
    },
    {
     "name": "stdout",
     "output_type": "stream",
     "text": [
      "Epoch: 30 Loss: 0.6852439641952515\n"
     ]
    },
    {
     "name": "stderr",
     "output_type": "stream",
     "text": [
      "100%|████████████████████████████████████████████████████████████████████████████████| 782/782 [09:31<00:00,  1.37it/s]\n",
      "  0%|                                                                                          | 0/782 [00:00<?, ?it/s]"
     ]
    },
    {
     "name": "stdout",
     "output_type": "stream",
     "text": [
      "Epoch: 31 Loss: 0.6802964806556702\n"
     ]
    },
    {
     "name": "stderr",
     "output_type": "stream",
     "text": [
      "100%|████████████████████████████████████████████████████████████████████████████████| 782/782 [09:29<00:00,  1.37it/s]\n",
      "  0%|                                                                                          | 0/782 [00:00<?, ?it/s]"
     ]
    },
    {
     "name": "stdout",
     "output_type": "stream",
     "text": [
      "Epoch: 32 Loss: 0.1530335694551468\n"
     ]
    },
    {
     "name": "stderr",
     "output_type": "stream",
     "text": [
      "100%|████████████████████████████████████████████████████████████████████████████████| 782/782 [09:31<00:00,  1.37it/s]\n",
      "  0%|                                                                                          | 0/782 [00:00<?, ?it/s]"
     ]
    },
    {
     "name": "stdout",
     "output_type": "stream",
     "text": [
      "Epoch: 33 Loss: 0.45327964425086975\n"
     ]
    },
    {
     "name": "stderr",
     "output_type": "stream",
     "text": [
      "100%|████████████████████████████████████████████████████████████████████████████████| 782/782 [09:29<00:00,  1.37it/s]\n",
      "  0%|                                                                                          | 0/782 [00:00<?, ?it/s]"
     ]
    },
    {
     "name": "stdout",
     "output_type": "stream",
     "text": [
      "Epoch: 34 Loss: 0.3211398720741272\n"
     ]
    },
    {
     "name": "stderr",
     "output_type": "stream",
     "text": [
      "100%|████████████████████████████████████████████████████████████████████████████████| 782/782 [09:30<00:00,  1.37it/s]\n",
      "  0%|                                                                                          | 0/782 [00:00<?, ?it/s]"
     ]
    },
    {
     "name": "stdout",
     "output_type": "stream",
     "text": [
      "Epoch: 35 Loss: 0.046928491443395615\n"
     ]
    },
    {
     "name": "stderr",
     "output_type": "stream",
     "text": [
      "100%|████████████████████████████████████████████████████████████████████████████████| 782/782 [09:30<00:00,  1.37it/s]\n",
      "  0%|                                                                                          | 0/782 [00:00<?, ?it/s]"
     ]
    },
    {
     "name": "stdout",
     "output_type": "stream",
     "text": [
      "Epoch: 36 Loss: 0.09973769634962082\n"
     ]
    },
    {
     "name": "stderr",
     "output_type": "stream",
     "text": [
      "100%|████████████████████████████████████████████████████████████████████████████████| 782/782 [09:31<00:00,  1.37it/s]\n",
      "  0%|                                                                                          | 0/782 [00:00<?, ?it/s]"
     ]
    },
    {
     "name": "stdout",
     "output_type": "stream",
     "text": [
      "Epoch: 37 Loss: 0.3518294095993042\n"
     ]
    },
    {
     "name": "stderr",
     "output_type": "stream",
     "text": [
      "100%|████████████████████████████████████████████████████████████████████████████████| 782/782 [09:31<00:00,  1.37it/s]\n",
      "  0%|                                                                                          | 0/782 [00:00<?, ?it/s]"
     ]
    },
    {
     "name": "stdout",
     "output_type": "stream",
     "text": [
      "Epoch: 38 Loss: 0.37362387776374817\n"
     ]
    },
    {
     "name": "stderr",
     "output_type": "stream",
     "text": [
      "100%|████████████████████████████████████████████████████████████████████████████████| 782/782 [09:29<00:00,  1.37it/s]\n",
      "  0%|                                                                                          | 0/782 [00:00<?, ?it/s]"
     ]
    },
    {
     "name": "stdout",
     "output_type": "stream",
     "text": [
      "Epoch: 39 Loss: 0.24348922073841095\n"
     ]
    },
    {
     "name": "stderr",
     "output_type": "stream",
     "text": [
      "100%|████████████████████████████████████████████████████████████████████████████████| 782/782 [09:31<00:00,  1.37it/s]\n",
      "  0%|                                                                                          | 0/782 [00:00<?, ?it/s]"
     ]
    },
    {
     "name": "stdout",
     "output_type": "stream",
     "text": [
      "Epoch: 40 Loss: 0.049778129905462265\n"
     ]
    },
    {
     "name": "stderr",
     "output_type": "stream",
     "text": [
      "100%|████████████████████████████████████████████████████████████████████████████████| 782/782 [09:32<00:00,  1.37it/s]\n",
      "  0%|                                                                                          | 0/782 [00:00<?, ?it/s]"
     ]
    },
    {
     "name": "stdout",
     "output_type": "stream",
     "text": [
      "Epoch: 41 Loss: 0.35419711470603943\n"
     ]
    },
    {
     "name": "stderr",
     "output_type": "stream",
     "text": [
      "100%|████████████████████████████████████████████████████████████████████████████████| 782/782 [09:34<00:00,  1.36it/s]\n",
      "  0%|                                                                                          | 0/782 [00:00<?, ?it/s]"
     ]
    },
    {
     "name": "stdout",
     "output_type": "stream",
     "text": [
      "Epoch: 42 Loss: 0.03629195690155029\n"
     ]
    },
    {
     "name": "stderr",
     "output_type": "stream",
     "text": [
      "100%|████████████████████████████████████████████████████████████████████████████████| 782/782 [09:34<00:00,  1.36it/s]\n",
      "  0%|                                                                                          | 0/782 [00:00<?, ?it/s]"
     ]
    },
    {
     "name": "stdout",
     "output_type": "stream",
     "text": [
      "Epoch: 43 Loss: 0.14000433683395386\n"
     ]
    },
    {
     "name": "stderr",
     "output_type": "stream",
     "text": [
      "100%|████████████████████████████████████████████████████████████████████████████████| 782/782 [09:33<00:00,  1.36it/s]\n",
      "  0%|                                                                                          | 0/782 [00:00<?, ?it/s]"
     ]
    },
    {
     "name": "stdout",
     "output_type": "stream",
     "text": [
      "Epoch: 44 Loss: 0.15697042644023895\n"
     ]
    },
    {
     "name": "stderr",
     "output_type": "stream",
     "text": [
      "100%|████████████████████████████████████████████████████████████████████████████████| 782/782 [09:33<00:00,  1.36it/s]\n",
      "  0%|                                                                                          | 0/782 [00:00<?, ?it/s]"
     ]
    },
    {
     "name": "stdout",
     "output_type": "stream",
     "text": [
      "Epoch: 45 Loss: 0.4693017899990082\n"
     ]
    },
    {
     "name": "stderr",
     "output_type": "stream",
     "text": [
      "100%|████████████████████████████████████████████████████████████████████████████████| 782/782 [09:31<00:00,  1.37it/s]\n",
      "  0%|                                                                                          | 0/782 [00:00<?, ?it/s]"
     ]
    },
    {
     "name": "stdout",
     "output_type": "stream",
     "text": [
      "Epoch: 46 Loss: 0.003989832475781441\n"
     ]
    },
    {
     "name": "stderr",
     "output_type": "stream",
     "text": [
      "100%|████████████████████████████████████████████████████████████████████████████████| 782/782 [09:34<00:00,  1.36it/s]\n",
      "  0%|                                                                                          | 0/782 [00:00<?, ?it/s]"
     ]
    },
    {
     "name": "stdout",
     "output_type": "stream",
     "text": [
      "Epoch: 47 Loss: 0.005546908359974623\n"
     ]
    },
    {
     "name": "stderr",
     "output_type": "stream",
     "text": [
      "100%|████████████████████████████████████████████████████████████████████████████████| 782/782 [09:31<00:00,  1.37it/s]\n",
      "  0%|                                                                                          | 0/782 [00:00<?, ?it/s]"
     ]
    },
    {
     "name": "stdout",
     "output_type": "stream",
     "text": [
      "Epoch: 48 Loss: 0.13257436454296112\n"
     ]
    },
    {
     "name": "stderr",
     "output_type": "stream",
     "text": [
      "100%|████████████████████████████████████████████████████████████████████████████████| 782/782 [09:34<00:00,  1.36it/s]\n",
      "  0%|                                                                                          | 0/782 [00:00<?, ?it/s]"
     ]
    },
    {
     "name": "stdout",
     "output_type": "stream",
     "text": [
      "Epoch: 49 Loss: 0.41579514741897583\n"
     ]
    },
    {
     "name": "stderr",
     "output_type": "stream",
     "text": [
      "100%|████████████████████████████████████████████████████████████████████████████████| 782/782 [09:34<00:00,  1.36it/s]\n",
      "  0%|                                                                                          | 0/782 [00:00<?, ?it/s]"
     ]
    },
    {
     "name": "stdout",
     "output_type": "stream",
     "text": [
      "Epoch: 50 Loss: 0.03080371394753456\n"
     ]
    },
    {
     "name": "stderr",
     "output_type": "stream",
     "text": [
      "100%|████████████████████████████████████████████████████████████████████████████████| 782/782 [09:32<00:00,  1.36it/s]\n",
      "  0%|                                                                                          | 0/782 [00:00<?, ?it/s]"
     ]
    },
    {
     "name": "stdout",
     "output_type": "stream",
     "text": [
      "Epoch: 51 Loss: 0.15412738919258118\n"
     ]
    },
    {
     "name": "stderr",
     "output_type": "stream",
     "text": [
      "100%|████████████████████████████████████████████████████████████████████████████████| 782/782 [09:33<00:00,  1.36it/s]\n",
      "  0%|                                                                                          | 0/782 [00:00<?, ?it/s]"
     ]
    },
    {
     "name": "stdout",
     "output_type": "stream",
     "text": [
      "Epoch: 52 Loss: 0.25620341300964355\n"
     ]
    },
    {
     "name": "stderr",
     "output_type": "stream",
     "text": [
      "100%|████████████████████████████████████████████████████████████████████████████████| 782/782 [09:32<00:00,  1.37it/s]\n",
      "  0%|                                                                                          | 0/782 [00:00<?, ?it/s]"
     ]
    },
    {
     "name": "stdout",
     "output_type": "stream",
     "text": [
      "Epoch: 53 Loss: 0.16456188261508942\n"
     ]
    },
    {
     "name": "stderr",
     "output_type": "stream",
     "text": [
      "100%|████████████████████████████████████████████████████████████████████████████████| 782/782 [09:33<00:00,  1.36it/s]\n",
      "  0%|                                                                                          | 0/782 [00:00<?, ?it/s]"
     ]
    },
    {
     "name": "stdout",
     "output_type": "stream",
     "text": [
      "Epoch: 54 Loss: 0.4062195420265198\n"
     ]
    },
    {
     "name": "stderr",
     "output_type": "stream",
     "text": [
      "100%|████████████████████████████████████████████████████████████████████████████████| 782/782 [09:32<00:00,  1.37it/s]\n",
      "  0%|                                                                                          | 0/782 [00:00<?, ?it/s]"
     ]
    },
    {
     "name": "stdout",
     "output_type": "stream",
     "text": [
      "Epoch: 55 Loss: 0.016348298639059067\n"
     ]
    },
    {
     "name": "stderr",
     "output_type": "stream",
     "text": [
      "100%|████████████████████████████████████████████████████████████████████████████████| 782/782 [09:34<00:00,  1.36it/s]\n",
      "  0%|                                                                                          | 0/782 [00:00<?, ?it/s]"
     ]
    },
    {
     "name": "stdout",
     "output_type": "stream",
     "text": [
      "Epoch: 56 Loss: 0.13374808430671692\n"
     ]
    },
    {
     "name": "stderr",
     "output_type": "stream",
     "text": [
      "100%|████████████████████████████████████████████████████████████████████████████████| 782/782 [09:32<00:00,  1.37it/s]\n",
      "  0%|                                                                                          | 0/782 [00:00<?, ?it/s]"
     ]
    },
    {
     "name": "stdout",
     "output_type": "stream",
     "text": [
      "Epoch: 57 Loss: 0.1340343952178955\n"
     ]
    },
    {
     "name": "stderr",
     "output_type": "stream",
     "text": [
      "100%|████████████████████████████████████████████████████████████████████████████████| 782/782 [09:32<00:00,  1.37it/s]\n",
      "  0%|                                                                                          | 0/782 [00:00<?, ?it/s]"
     ]
    },
    {
     "name": "stdout",
     "output_type": "stream",
     "text": [
      "Epoch: 58 Loss: 0.2593410611152649\n"
     ]
    },
    {
     "name": "stderr",
     "output_type": "stream",
     "text": [
      "100%|████████████████████████████████████████████████████████████████████████████████| 782/782 [09:37<00:00,  1.35it/s]\n",
      "  0%|                                                                                          | 0/782 [00:00<?, ?it/s]"
     ]
    },
    {
     "name": "stdout",
     "output_type": "stream",
     "text": [
      "Epoch: 59 Loss: 0.7293619513511658\n"
     ]
    },
    {
     "name": "stderr",
     "output_type": "stream",
     "text": [
      "100%|████████████████████████████████████████████████████████████████████████████████| 782/782 [09:35<00:00,  1.36it/s]\n",
      "  0%|                                                                                          | 0/782 [00:00<?, ?it/s]"
     ]
    },
    {
     "name": "stdout",
     "output_type": "stream",
     "text": [
      "Epoch: 60 Loss: 0.29296547174453735\n"
     ]
    },
    {
     "name": "stderr",
     "output_type": "stream",
     "text": [
      "100%|████████████████████████████████████████████████████████████████████████████████| 782/782 [09:46<00:00,  1.33it/s]\n",
      "  0%|                                                                                          | 0/782 [00:00<?, ?it/s]"
     ]
    },
    {
     "name": "stdout",
     "output_type": "stream",
     "text": [
      "Epoch: 61 Loss: 0.05063819885253906\n"
     ]
    },
    {
     "name": "stderr",
     "output_type": "stream",
     "text": [
      "100%|████████████████████████████████████████████████████████████████████████████████| 782/782 [09:48<00:00,  1.33it/s]\n",
      "  0%|                                                                                          | 0/782 [00:00<?, ?it/s]"
     ]
    },
    {
     "name": "stdout",
     "output_type": "stream",
     "text": [
      "Epoch: 62 Loss: 0.15610739588737488\n"
     ]
    },
    {
     "name": "stderr",
     "output_type": "stream",
     "text": [
      "100%|████████████████████████████████████████████████████████████████████████████████| 782/782 [09:53<00:00,  1.32it/s]\n",
      "  0%|                                                                                          | 0/782 [00:00<?, ?it/s]"
     ]
    },
    {
     "name": "stdout",
     "output_type": "stream",
     "text": [
      "Epoch: 63 Loss: 0.4216987192630768\n"
     ]
    },
    {
     "name": "stderr",
     "output_type": "stream",
     "text": [
      "100%|████████████████████████████████████████████████████████████████████████████████| 782/782 [09:38<00:00,  1.35it/s]\n",
      "  0%|                                                                                          | 0/782 [00:00<?, ?it/s]"
     ]
    },
    {
     "name": "stdout",
     "output_type": "stream",
     "text": [
      "Epoch: 64 Loss: 0.014939872547984123\n"
     ]
    },
    {
     "name": "stderr",
     "output_type": "stream",
     "text": [
      "100%|████████████████████████████████████████████████████████████████████████████████| 782/782 [09:43<00:00,  1.34it/s]\n",
      "  0%|                                                                                          | 0/782 [00:00<?, ?it/s]"
     ]
    },
    {
     "name": "stdout",
     "output_type": "stream",
     "text": [
      "Epoch: 65 Loss: 0.06587964296340942\n"
     ]
    },
    {
     "name": "stderr",
     "output_type": "stream",
     "text": [
      "100%|████████████████████████████████████████████████████████████████████████████████| 782/782 [10:07<00:00,  1.29it/s]\n",
      "  0%|                                                                                          | 0/782 [00:00<?, ?it/s]"
     ]
    },
    {
     "name": "stdout",
     "output_type": "stream",
     "text": [
      "Epoch: 66 Loss: 0.023537280037999153\n"
     ]
    },
    {
     "name": "stderr",
     "output_type": "stream",
     "text": [
      "100%|████████████████████████████████████████████████████████████████████████████████| 782/782 [10:01<00:00,  1.30it/s]\n",
      "  0%|                                                                                          | 0/782 [00:00<?, ?it/s]"
     ]
    },
    {
     "name": "stdout",
     "output_type": "stream",
     "text": [
      "Epoch: 67 Loss: 0.008828789927065372\n"
     ]
    },
    {
     "name": "stderr",
     "output_type": "stream",
     "text": [
      "100%|████████████████████████████████████████████████████████████████████████████████| 782/782 [10:00<00:00,  1.30it/s]\n",
      "  0%|                                                                                          | 0/782 [00:00<?, ?it/s]"
     ]
    },
    {
     "name": "stdout",
     "output_type": "stream",
     "text": [
      "Epoch: 68 Loss: 0.09511955827474594\n"
     ]
    },
    {
     "name": "stderr",
     "output_type": "stream",
     "text": [
      "100%|████████████████████████████████████████████████████████████████████████████████| 782/782 [09:47<00:00,  1.33it/s]\n",
      "  0%|                                                                                          | 0/782 [00:00<?, ?it/s]"
     ]
    },
    {
     "name": "stdout",
     "output_type": "stream",
     "text": [
      "Epoch: 69 Loss: 0.0574779249727726\n"
     ]
    },
    {
     "name": "stderr",
     "output_type": "stream",
     "text": [
      "100%|████████████████████████████████████████████████████████████████████████████████| 782/782 [09:32<00:00,  1.37it/s]\n",
      "  0%|                                                                                          | 0/782 [00:00<?, ?it/s]"
     ]
    },
    {
     "name": "stdout",
     "output_type": "stream",
     "text": [
      "Epoch: 70 Loss: 0.09535901248455048\n"
     ]
    },
    {
     "name": "stderr",
     "output_type": "stream",
     "text": [
      "100%|████████████████████████████████████████████████████████████████████████████████| 782/782 [09:34<00:00,  1.36it/s]\n",
      "  0%|                                                                                          | 0/782 [00:00<?, ?it/s]"
     ]
    },
    {
     "name": "stdout",
     "output_type": "stream",
     "text": [
      "Epoch: 71 Loss: 0.30934661626815796\n"
     ]
    },
    {
     "name": "stderr",
     "output_type": "stream",
     "text": [
      "100%|████████████████████████████████████████████████████████████████████████████████| 782/782 [09:31<00:00,  1.37it/s]\n",
      "  0%|                                                                                          | 0/782 [00:00<?, ?it/s]"
     ]
    },
    {
     "name": "stdout",
     "output_type": "stream",
     "text": [
      "Epoch: 72 Loss: 0.1870858371257782\n"
     ]
    },
    {
     "name": "stderr",
     "output_type": "stream",
     "text": [
      "100%|████████████████████████████████████████████████████████████████████████████████| 782/782 [09:33<00:00,  1.36it/s]\n",
      "  0%|                                                                                          | 0/782 [00:00<?, ?it/s]"
     ]
    },
    {
     "name": "stdout",
     "output_type": "stream",
     "text": [
      "Epoch: 73 Loss: 0.1832883358001709\n"
     ]
    },
    {
     "name": "stderr",
     "output_type": "stream",
     "text": [
      "100%|████████████████████████████████████████████████████████████████████████████████| 782/782 [09:33<00:00,  1.36it/s]\n",
      "  0%|                                                                                          | 0/782 [00:00<?, ?it/s]"
     ]
    },
    {
     "name": "stdout",
     "output_type": "stream",
     "text": [
      "Epoch: 74 Loss: 0.046136293560266495\n"
     ]
    },
    {
     "name": "stderr",
     "output_type": "stream",
     "text": [
      "100%|████████████████████████████████████████████████████████████████████████████████| 782/782 [09:32<00:00,  1.37it/s]\n",
      "  0%|                                                                                          | 0/782 [00:00<?, ?it/s]"
     ]
    },
    {
     "name": "stdout",
     "output_type": "stream",
     "text": [
      "Epoch: 75 Loss: 0.2750365436077118\n"
     ]
    },
    {
     "name": "stderr",
     "output_type": "stream",
     "text": [
      "100%|████████████████████████████████████████████████████████████████████████████████| 782/782 [09:33<00:00,  1.36it/s]\n",
      "  0%|                                                                                          | 0/782 [00:00<?, ?it/s]"
     ]
    },
    {
     "name": "stdout",
     "output_type": "stream",
     "text": [
      "Epoch: 76 Loss: 0.056567154824733734\n"
     ]
    },
    {
     "name": "stderr",
     "output_type": "stream",
     "text": [
      "100%|████████████████████████████████████████████████████████████████████████████████| 782/782 [09:31<00:00,  1.37it/s]\n",
      "  0%|                                                                                          | 0/782 [00:00<?, ?it/s]"
     ]
    },
    {
     "name": "stdout",
     "output_type": "stream",
     "text": [
      "Epoch: 77 Loss: 0.06274381279945374\n"
     ]
    },
    {
     "name": "stderr",
     "output_type": "stream",
     "text": [
      "100%|████████████████████████████████████████████████████████████████████████████████| 782/782 [09:34<00:00,  1.36it/s]\n",
      "  0%|                                                                                          | 0/782 [00:00<?, ?it/s]"
     ]
    },
    {
     "name": "stdout",
     "output_type": "stream",
     "text": [
      "Epoch: 78 Loss: 0.005476408638060093\n"
     ]
    },
    {
     "name": "stderr",
     "output_type": "stream",
     "text": [
      "100%|████████████████████████████████████████████████████████████████████████████████| 782/782 [09:31<00:00,  1.37it/s]\n",
      "  0%|                                                                                          | 0/782 [00:00<?, ?it/s]"
     ]
    },
    {
     "name": "stdout",
     "output_type": "stream",
     "text": [
      "Epoch: 79 Loss: 0.18178647756576538\n"
     ]
    },
    {
     "name": "stderr",
     "output_type": "stream",
     "text": [
      "100%|████████████████████████████████████████████████████████████████████████████████| 782/782 [09:33<00:00,  1.36it/s]\n",
      "  0%|                                                                                          | 0/782 [00:00<?, ?it/s]"
     ]
    },
    {
     "name": "stdout",
     "output_type": "stream",
     "text": [
      "Epoch: 80 Loss: 0.035945527255535126\n"
     ]
    },
    {
     "name": "stderr",
     "output_type": "stream",
     "text": [
      "100%|████████████████████████████████████████████████████████████████████████████████| 782/782 [09:34<00:00,  1.36it/s]\n",
      "  0%|                                                                                          | 0/782 [00:00<?, ?it/s]"
     ]
    },
    {
     "name": "stdout",
     "output_type": "stream",
     "text": [
      "Epoch: 81 Loss: 0.022410675883293152\n"
     ]
    },
    {
     "name": "stderr",
     "output_type": "stream",
     "text": [
      "100%|████████████████████████████████████████████████████████████████████████████████| 782/782 [09:36<00:00,  1.36it/s]\n",
      "  0%|                                                                                          | 0/782 [00:00<?, ?it/s]"
     ]
    },
    {
     "name": "stdout",
     "output_type": "stream",
     "text": [
      "Epoch: 82 Loss: 0.25667834281921387\n"
     ]
    },
    {
     "name": "stderr",
     "output_type": "stream",
     "text": [
      "100%|████████████████████████████████████████████████████████████████████████████████| 782/782 [10:01<00:00,  1.30it/s]\n",
      "  0%|                                                                                          | 0/782 [00:00<?, ?it/s]"
     ]
    },
    {
     "name": "stdout",
     "output_type": "stream",
     "text": [
      "Epoch: 83 Loss: 0.25793176889419556\n"
     ]
    },
    {
     "name": "stderr",
     "output_type": "stream",
     "text": [
      "100%|████████████████████████████████████████████████████████████████████████████████| 782/782 [10:10<00:00,  1.28it/s]\n",
      "  0%|                                                                                          | 0/782 [00:00<?, ?it/s]"
     ]
    },
    {
     "name": "stdout",
     "output_type": "stream",
     "text": [
      "Epoch: 84 Loss: 0.018129276111721992\n"
     ]
    },
    {
     "name": "stderr",
     "output_type": "stream",
     "text": [
      "100%|████████████████████████████████████████████████████████████████████████████████| 782/782 [10:18<00:00,  1.26it/s]\n",
      "  0%|                                                                                          | 0/782 [00:00<?, ?it/s]"
     ]
    },
    {
     "name": "stdout",
     "output_type": "stream",
     "text": [
      "Epoch: 85 Loss: 0.0068640452809631824\n"
     ]
    },
    {
     "name": "stderr",
     "output_type": "stream",
     "text": [
      "100%|████████████████████████████████████████████████████████████████████████████████| 782/782 [10:24<00:00,  1.25it/s]\n",
      "  0%|                                                                                          | 0/782 [00:00<?, ?it/s]"
     ]
    },
    {
     "name": "stdout",
     "output_type": "stream",
     "text": [
      "Epoch: 86 Loss: 0.02984239161014557\n"
     ]
    },
    {
     "name": "stderr",
     "output_type": "stream",
     "text": [
      "100%|████████████████████████████████████████████████████████████████████████████████| 782/782 [10:20<00:00,  1.26it/s]\n",
      "  0%|                                                                                          | 0/782 [00:00<?, ?it/s]"
     ]
    },
    {
     "name": "stdout",
     "output_type": "stream",
     "text": [
      "Epoch: 87 Loss: 0.37207719683647156\n"
     ]
    },
    {
     "name": "stderr",
     "output_type": "stream",
     "text": [
      "100%|████████████████████████████████████████████████████████████████████████████████| 782/782 [09:49<00:00,  1.33it/s]\n",
      "  0%|                                                                                          | 0/782 [00:00<?, ?it/s]"
     ]
    },
    {
     "name": "stdout",
     "output_type": "stream",
     "text": [
      "Epoch: 88 Loss: 0.006756508722901344\n"
     ]
    },
    {
     "name": "stderr",
     "output_type": "stream",
     "text": [
      "100%|████████████████████████████████████████████████████████████████████████████████| 782/782 [13:46<00:00,  1.06s/it]\n",
      "  0%|                                                                                          | 0/782 [00:00<?, ?it/s]"
     ]
    },
    {
     "name": "stdout",
     "output_type": "stream",
     "text": [
      "Epoch: 89 Loss: 0.1374661922454834\n"
     ]
    },
    {
     "name": "stderr",
     "output_type": "stream",
     "text": [
      "100%|████████████████████████████████████████████████████████████████████████████████| 782/782 [12:20<00:00,  1.06it/s]\n",
      "  0%|                                                                                          | 0/782 [00:00<?, ?it/s]"
     ]
    },
    {
     "name": "stdout",
     "output_type": "stream",
     "text": [
      "Epoch: 90 Loss: 0.00034733640495687723\n"
     ]
    },
    {
     "name": "stderr",
     "output_type": "stream",
     "text": [
      "100%|████████████████████████████████████████████████████████████████████████████████| 782/782 [13:11<00:00,  1.01s/it]\n",
      "  0%|                                                                                          | 0/782 [00:00<?, ?it/s]"
     ]
    },
    {
     "name": "stdout",
     "output_type": "stream",
     "text": [
      "Epoch: 91 Loss: 0.361550897359848\n"
     ]
    },
    {
     "name": "stderr",
     "output_type": "stream",
     "text": [
      "100%|████████████████████████████████████████████████████████████████████████████████| 782/782 [09:37<00:00,  1.35it/s]\n",
      "  0%|                                                                                          | 0/782 [00:00<?, ?it/s]"
     ]
    },
    {
     "name": "stdout",
     "output_type": "stream",
     "text": [
      "Epoch: 92 Loss: 0.013444965705275536\n"
     ]
    },
    {
     "name": "stderr",
     "output_type": "stream",
     "text": [
      "100%|████████████████████████████████████████████████████████████████████████████████| 782/782 [09:35<00:00,  1.36it/s]\n",
      "  0%|                                                                                          | 0/782 [00:00<?, ?it/s]"
     ]
    },
    {
     "name": "stdout",
     "output_type": "stream",
     "text": [
      "Epoch: 93 Loss: 0.0031745336018502712\n"
     ]
    },
    {
     "name": "stderr",
     "output_type": "stream",
     "text": [
      "100%|████████████████████████████████████████████████████████████████████████████████| 782/782 [09:36<00:00,  1.36it/s]\n",
      "  0%|                                                                                          | 0/782 [00:00<?, ?it/s]"
     ]
    },
    {
     "name": "stdout",
     "output_type": "stream",
     "text": [
      "Epoch: 94 Loss: 0.013755963183939457\n"
     ]
    },
    {
     "name": "stderr",
     "output_type": "stream",
     "text": [
      "100%|████████████████████████████████████████████████████████████████████████████████| 782/782 [09:36<00:00,  1.36it/s]\n",
      "  0%|                                                                                          | 0/782 [00:00<?, ?it/s]"
     ]
    },
    {
     "name": "stdout",
     "output_type": "stream",
     "text": [
      "Epoch: 95 Loss: 0.4087858200073242\n"
     ]
    },
    {
     "name": "stderr",
     "output_type": "stream",
     "text": [
      "100%|████████████████████████████████████████████████████████████████████████████████| 782/782 [09:36<00:00,  1.36it/s]\n",
      "  0%|                                                                                          | 0/782 [00:00<?, ?it/s]"
     ]
    },
    {
     "name": "stdout",
     "output_type": "stream",
     "text": [
      "Epoch: 96 Loss: 0.16405749320983887\n"
     ]
    },
    {
     "name": "stderr",
     "output_type": "stream",
     "text": [
      "100%|████████████████████████████████████████████████████████████████████████████████| 782/782 [09:38<00:00,  1.35it/s]\n",
      "  0%|                                                                                          | 0/782 [00:00<?, ?it/s]"
     ]
    },
    {
     "name": "stdout",
     "output_type": "stream",
     "text": [
      "Epoch: 97 Loss: 0.030223455280065536\n"
     ]
    },
    {
     "name": "stderr",
     "output_type": "stream",
     "text": [
      "100%|████████████████████████████████████████████████████████████████████████████████| 782/782 [09:34<00:00,  1.36it/s]\n",
      "  0%|                                                                                          | 0/782 [00:00<?, ?it/s]"
     ]
    },
    {
     "name": "stdout",
     "output_type": "stream",
     "text": [
      "Epoch: 98 Loss: 0.01978149823844433\n"
     ]
    },
    {
     "name": "stderr",
     "output_type": "stream",
     "text": [
      "100%|████████████████████████████████████████████████████████████████████████████████| 782/782 [09:37<00:00,  1.35it/s]"
     ]
    },
    {
     "name": "stdout",
     "output_type": "stream",
     "text": [
      "Epoch: 99 Loss: 0.059542082250118256\n"
     ]
    },
    {
     "name": "stderr",
     "output_type": "stream",
     "text": [
      "\n"
     ]
    }
   ],
   "source": [
    "for epoch in range(num_epochs):\n",
    "    for batch_idx, (data, targets) in enumerate(tqdm(train_loader)):\n",
    "        # Get data to cuda if possible\n",
    "        data = data.to(device=device)\n",
    "        targets = targets.to(device=device)\n",
    "\n",
    "        # forward\n",
    "        outputs = modelClassification(pixel_values=data)\n",
    "        logits = outputs[0]\n",
    "        loss = criterion(logits, targets)\n",
    "\n",
    "        # backward\n",
    "        optimizer.zero_grad()\n",
    "        loss.backward()\n",
    "\n",
    "        # gradient descent or adam step\n",
    "        optimizer.step()\n",
    "        \n",
    "    print('Epoch:', epoch, 'Loss:', loss.item())"
   ]
  },
  {
   "cell_type": "code",
   "execution_count": 29,
   "metadata": {},
   "outputs": [],
   "source": [
    "dataiter = iter(test_loader)\n",
    "images, labels = next(dataiter)"
   ]
  },
  {
   "cell_type": "code",
   "execution_count": 30,
   "metadata": {
    "scrolled": false
   },
   "outputs": [
    {
     "name": "stdout",
     "output_type": "stream",
     "text": [
      "index number: 0\n"
     ]
    },
    {
     "data": {
      "image/png": "[encoded data removed]",
      "text/plain": [
       "<Figure size 432x288 with 1 Axes>"
      ]
     },
     "metadata": {
      "needs_background": "light"
     },
     "output_type": "display_data"
    },
    {
     "name": "stdout",
     "output_type": "stream",
     "text": [
      "true label: frog\n",
      "predict label: deer\n",
      "index number: 1\n"
     ]
    },
    {
     "data": {
      "image/png": "[encoded data removed]",
      "text/plain": [
       "<Figure size 432x288 with 1 Axes>"
      ]
     },
     "metadata": {
      "needs_background": "light"
     },
     "output_type": "display_data"
    },
    {
     "name": "stdout",
     "output_type": "stream",
     "text": [
      "true label: cat\n",
      "predict label: car\n",
      "index number: 2\n"
     ]
    },
    {
     "data": {
      "image/png": "[encoded data removed]",
      "text/plain": [
       "<Figure size 432x288 with 1 Axes>"
      ]
     },
     "metadata": {
      "needs_background": "light"
     },
     "output_type": "display_data"
    },
    {
     "name": "stdout",
     "output_type": "stream",
     "text": [
      "true label: deer\n",
      "predict label: deer\n",
      "index number: 3\n"
     ]
    },
    {
     "data": {
      "image/png": "[encoded data removed]",
      "text/plain": [
       "<Figure size 432x288 with 1 Axes>"
      ]
     },
     "metadata": {
      "needs_background": "light"
     },
     "output_type": "display_data"
    },
    {
     "name": "stdout",
     "output_type": "stream",
     "text": [
      "true label: horse\n",
      "predict label: horse\n",
      "index number: 4\n"
     ]
    },
    {
     "data": {
      "image/png": "[encoded data removed]",
      "text/plain": [
       "<Figure size 432x288 with 1 Axes>"
      ]
     },
     "metadata": {
      "needs_background": "light"
     },
     "output_type": "display_data"
    },
    {
     "name": "stdout",
     "output_type": "stream",
     "text": [
      "true label: bird\n",
      "predict label: cat\n",
      "index number: 5\n"
     ]
    },
    {
     "data": {
      "image/png": "[encoded data removed]",
      "text/plain": [
       "<Figure size 432x288 with 1 Axes>"
      ]
     },
     "metadata": {
      "needs_background": "light"
     },
     "output_type": "display_data"
    },
    {
     "name": "stdout",
     "output_type": "stream",
     "text": [
      "true label: cat\n",
      "predict label: horse\n",
      "index number: 6\n"
     ]
    },
    {
     "data": {
      "image/png": "[encoded data removed]",
      "text/plain": [
       "<Figure size 432x288 with 1 Axes>"
      ]
     },
     "metadata": {
      "needs_background": "light"
     },
     "output_type": "display_data"
    },
    {
     "name": "stdout",
     "output_type": "stream",
     "text": [
      "true label: dog\n",
      "predict label: cat\n",
      "index number: 7\n"
     ]
    },
    {
     "data": {
      "image/png": "[encoded data removed]",
      "text/plain": [
       "<Figure size 432x288 with 1 Axes>"
      ]
     },
     "metadata": {
      "needs_background": "light"
     },
     "output_type": "display_data"
    },
    {
     "name": "stdout",
     "output_type": "stream",
     "text": [
      "true label: bird\n",
      "predict label: cat\n",
      "index number: 8\n"
     ]
    },
    {
     "data": {
      "image/png": "[encoded data removed]",
      "text/plain": [
       "<Figure size 432x288 with 1 Axes>"
      ]
     },
     "metadata": {
      "needs_background": "light"
     },
     "output_type": "display_data"
    },
    {
     "name": "stdout",
     "output_type": "stream",
     "text": [
      "true label: horse\n",
      "predict label: ship\n",
      "index number: 9\n"
     ]
    },
    {
     "data": {
      "image/png": "[encoded data removed]",
      "text/plain": [
       "<Figure size 432x288 with 1 Axes>"
      ]
     },
     "metadata": {
      "needs_background": "light"
     },
     "output_type": "display_data"
    },
    {
     "name": "stdout",
     "output_type": "stream",
     "text": [
      "true label: ship\n",
      "predict label: ship\n",
      "index number: 10\n"
     ]
    },
    {
     "data": {
      "image/png": "[encoded data removed]",
      "text/plain": [
       "<Figure size 432x288 with 1 Axes>"
      ]
     },
     "metadata": {
      "needs_background": "light"
     },
     "output_type": "display_data"
    },
    {
     "name": "stdout",
     "output_type": "stream",
     "text": [
      "true label: deer\n",
      "predict label: deer\n",
      "index number:  \n"
     ]
    }
   ],
   "source": [
    "while True:\n",
    "    i = input(\"index number: \")\n",
    "    if i == ' ':\n",
    "        break\n",
    "    i = int(i)\n",
    "    imshow(torchvision.utils.make_grid(images[i]))\n",
    "    print('true label:',classes[labels[i]])\n",
    "    outputs = modelClassification(pixel_values=images.to(device=device))\n",
    "    prediction = outputs[0]\n",
    "    max_index = np.argmax(prediction[i,:].detach().numpy())\n",
    "    print('predict label:',classes[max_index])"
   ]
  },
  {
   "cell_type": "code",
   "execution_count": null,
   "metadata": {},
   "outputs": [],
   "source": []
  }
 ],
 "metadata": {
  "kernelspec": {
   "display_name": "Python 3",
   "language": "python",
   "name": "python3"
  },
  "language_info": {
   "codemirror_mode": {
    "name": "ipython",
    "version": 3
   },
   "file_extension": ".py",
   "mimetype": "text/x-python",
   "name": "python",
   "nbconvert_exporter": "python",
   "pygments_lexer": "ipython3",
   "version": "3.8.3"
  }
 },
 "nbformat": 4,
 "nbformat_minor": 4
}
